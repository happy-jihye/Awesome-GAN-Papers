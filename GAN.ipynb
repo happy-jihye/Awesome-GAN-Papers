{
  "nbformat": 4,
  "nbformat_minor": 0,
  "metadata": {
    "accelerator": "GPU",
    "colab": {
      "name": "GAN",
      "provenance": [],
      "collapsed_sections": [],
      "include_colab_link": true
    },
    "kernelspec": {
      "display_name": "Python 3",
      "name": "python3"
    },
    "widgets": {
      "application/vnd.jupyter.widget-state+json": {
        "0d826d27dec24f3aaaf58359f4236ce2": {
          "model_module": "@jupyter-widgets/controls",
          "model_name": "HBoxModel",
          "state": {
            "_view_name": "HBoxView",
            "_dom_classes": [],
            "_model_name": "HBoxModel",
            "_view_module": "@jupyter-widgets/controls",
            "_model_module_version": "1.5.0",
            "_view_count": null,
            "_view_module_version": "1.5.0",
            "box_style": "",
            "layout": "IPY_MODEL_e6bfdab2b4d34f84b48769b7b4d7f079",
            "_model_module": "@jupyter-widgets/controls",
            "children": [
              "IPY_MODEL_539eea5972e54ba68172044dced4e5e6",
              "IPY_MODEL_13bdc11a34ca4fc9a6715053dddd8c01"
            ]
          }
        },
        "e6bfdab2b4d34f84b48769b7b4d7f079": {
          "model_module": "@jupyter-widgets/base",
          "model_name": "LayoutModel",
          "state": {
            "_view_name": "LayoutView",
            "grid_template_rows": null,
            "right": null,
            "justify_content": null,
            "_view_module": "@jupyter-widgets/base",
            "overflow": null,
            "_model_module_version": "1.2.0",
            "_view_count": null,
            "flex_flow": null,
            "width": null,
            "min_width": null,
            "border": null,
            "align_items": null,
            "bottom": null,
            "_model_module": "@jupyter-widgets/base",
            "top": null,
            "grid_column": null,
            "overflow_y": null,
            "overflow_x": null,
            "grid_auto_flow": null,
            "grid_area": null,
            "grid_template_columns": null,
            "flex": null,
            "_model_name": "LayoutModel",
            "justify_items": null,
            "grid_row": null,
            "max_height": null,
            "align_content": null,
            "visibility": null,
            "align_self": null,
            "height": null,
            "min_height": null,
            "padding": null,
            "grid_auto_rows": null,
            "grid_gap": null,
            "max_width": null,
            "order": null,
            "_view_module_version": "1.2.0",
            "grid_template_areas": null,
            "object_position": null,
            "object_fit": null,
            "grid_auto_columns": null,
            "margin": null,
            "display": null,
            "left": null
          }
        },
        "539eea5972e54ba68172044dced4e5e6": {
          "model_module": "@jupyter-widgets/controls",
          "model_name": "FloatProgressModel",
          "state": {
            "_view_name": "ProgressView",
            "style": "IPY_MODEL_d742a6b35ae24f63ad419706c3041e58",
            "_dom_classes": [],
            "description": "",
            "_model_name": "FloatProgressModel",
            "bar_style": "success",
            "max": 9912422,
            "_view_module": "@jupyter-widgets/controls",
            "_model_module_version": "1.5.0",
            "value": 9912422,
            "_view_count": null,
            "_view_module_version": "1.5.0",
            "orientation": "horizontal",
            "min": 0,
            "description_tooltip": null,
            "_model_module": "@jupyter-widgets/controls",
            "layout": "IPY_MODEL_39eaa12d9148497889847a8ae4d42b55"
          }
        },
        "13bdc11a34ca4fc9a6715053dddd8c01": {
          "model_module": "@jupyter-widgets/controls",
          "model_name": "HTMLModel",
          "state": {
            "_view_name": "HTMLView",
            "style": "IPY_MODEL_bee35707b3ab484fbd3b5907ac6de792",
            "_dom_classes": [],
            "description": "",
            "_model_name": "HTMLModel",
            "placeholder": "​",
            "_view_module": "@jupyter-widgets/controls",
            "_model_module_version": "1.5.0",
            "value": " 9913344/? [05:09&lt;00:00, 32018.26it/s]",
            "_view_count": null,
            "_view_module_version": "1.5.0",
            "description_tooltip": null,
            "_model_module": "@jupyter-widgets/controls",
            "layout": "IPY_MODEL_746fba2b1fe34f5bb4ec7e81d33e90cb"
          }
        },
        "d742a6b35ae24f63ad419706c3041e58": {
          "model_module": "@jupyter-widgets/controls",
          "model_name": "ProgressStyleModel",
          "state": {
            "_view_name": "StyleView",
            "_model_name": "ProgressStyleModel",
            "description_width": "initial",
            "_view_module": "@jupyter-widgets/base",
            "_model_module_version": "1.5.0",
            "_view_count": null,
            "_view_module_version": "1.2.0",
            "bar_color": null,
            "_model_module": "@jupyter-widgets/controls"
          }
        },
        "39eaa12d9148497889847a8ae4d42b55": {
          "model_module": "@jupyter-widgets/base",
          "model_name": "LayoutModel",
          "state": {
            "_view_name": "LayoutView",
            "grid_template_rows": null,
            "right": null,
            "justify_content": null,
            "_view_module": "@jupyter-widgets/base",
            "overflow": null,
            "_model_module_version": "1.2.0",
            "_view_count": null,
            "flex_flow": null,
            "width": null,
            "min_width": null,
            "border": null,
            "align_items": null,
            "bottom": null,
            "_model_module": "@jupyter-widgets/base",
            "top": null,
            "grid_column": null,
            "overflow_y": null,
            "overflow_x": null,
            "grid_auto_flow": null,
            "grid_area": null,
            "grid_template_columns": null,
            "flex": null,
            "_model_name": "LayoutModel",
            "justify_items": null,
            "grid_row": null,
            "max_height": null,
            "align_content": null,
            "visibility": null,
            "align_self": null,
            "height": null,
            "min_height": null,
            "padding": null,
            "grid_auto_rows": null,
            "grid_gap": null,
            "max_width": null,
            "order": null,
            "_view_module_version": "1.2.0",
            "grid_template_areas": null,
            "object_position": null,
            "object_fit": null,
            "grid_auto_columns": null,
            "margin": null,
            "display": null,
            "left": null
          }
        },
        "bee35707b3ab484fbd3b5907ac6de792": {
          "model_module": "@jupyter-widgets/controls",
          "model_name": "DescriptionStyleModel",
          "state": {
            "_view_name": "StyleView",
            "_model_name": "DescriptionStyleModel",
            "description_width": "",
            "_view_module": "@jupyter-widgets/base",
            "_model_module_version": "1.5.0",
            "_view_count": null,
            "_view_module_version": "1.2.0",
            "_model_module": "@jupyter-widgets/controls"
          }
        },
        "746fba2b1fe34f5bb4ec7e81d33e90cb": {
          "model_module": "@jupyter-widgets/base",
          "model_name": "LayoutModel",
          "state": {
            "_view_name": "LayoutView",
            "grid_template_rows": null,
            "right": null,
            "justify_content": null,
            "_view_module": "@jupyter-widgets/base",
            "overflow": null,
            "_model_module_version": "1.2.0",
            "_view_count": null,
            "flex_flow": null,
            "width": null,
            "min_width": null,
            "border": null,
            "align_items": null,
            "bottom": null,
            "_model_module": "@jupyter-widgets/base",
            "top": null,
            "grid_column": null,
            "overflow_y": null,
            "overflow_x": null,
            "grid_auto_flow": null,
            "grid_area": null,
            "grid_template_columns": null,
            "flex": null,
            "_model_name": "LayoutModel",
            "justify_items": null,
            "grid_row": null,
            "max_height": null,
            "align_content": null,
            "visibility": null,
            "align_self": null,
            "height": null,
            "min_height": null,
            "padding": null,
            "grid_auto_rows": null,
            "grid_gap": null,
            "max_width": null,
            "order": null,
            "_view_module_version": "1.2.0",
            "grid_template_areas": null,
            "object_position": null,
            "object_fit": null,
            "grid_auto_columns": null,
            "margin": null,
            "display": null,
            "left": null
          }
        },
        "7e027dcb4ee44749984e0d2ae032ab12": {
          "model_module": "@jupyter-widgets/controls",
          "model_name": "HBoxModel",
          "state": {
            "_view_name": "HBoxView",
            "_dom_classes": [],
            "_model_name": "HBoxModel",
            "_view_module": "@jupyter-widgets/controls",
            "_model_module_version": "1.5.0",
            "_view_count": null,
            "_view_module_version": "1.5.0",
            "box_style": "",
            "layout": "IPY_MODEL_0f9b85d417c5493eb317c3193fcbdd25",
            "_model_module": "@jupyter-widgets/controls",
            "children": [
              "IPY_MODEL_e038694bd5054144a1169375bb26af9a",
              "IPY_MODEL_a90753636d91484a8d76e17b5531db06"
            ]
          }
        },
        "0f9b85d417c5493eb317c3193fcbdd25": {
          "model_module": "@jupyter-widgets/base",
          "model_name": "LayoutModel",
          "state": {
            "_view_name": "LayoutView",
            "grid_template_rows": null,
            "right": null,
            "justify_content": null,
            "_view_module": "@jupyter-widgets/base",
            "overflow": null,
            "_model_module_version": "1.2.0",
            "_view_count": null,
            "flex_flow": null,
            "width": null,
            "min_width": null,
            "border": null,
            "align_items": null,
            "bottom": null,
            "_model_module": "@jupyter-widgets/base",
            "top": null,
            "grid_column": null,
            "overflow_y": null,
            "overflow_x": null,
            "grid_auto_flow": null,
            "grid_area": null,
            "grid_template_columns": null,
            "flex": null,
            "_model_name": "LayoutModel",
            "justify_items": null,
            "grid_row": null,
            "max_height": null,
            "align_content": null,
            "visibility": null,
            "align_self": null,
            "height": null,
            "min_height": null,
            "padding": null,
            "grid_auto_rows": null,
            "grid_gap": null,
            "max_width": null,
            "order": null,
            "_view_module_version": "1.2.0",
            "grid_template_areas": null,
            "object_position": null,
            "object_fit": null,
            "grid_auto_columns": null,
            "margin": null,
            "display": null,
            "left": null
          }
        },
        "e038694bd5054144a1169375bb26af9a": {
          "model_module": "@jupyter-widgets/controls",
          "model_name": "FloatProgressModel",
          "state": {
            "_view_name": "ProgressView",
            "style": "IPY_MODEL_a27ae4ef0373410d9e268e12a5d30ca0",
            "_dom_classes": [],
            "description": "",
            "_model_name": "FloatProgressModel",
            "bar_style": "success",
            "max": 28881,
            "_view_module": "@jupyter-widgets/controls",
            "_model_module_version": "1.5.0",
            "value": 28881,
            "_view_count": null,
            "_view_module_version": "1.5.0",
            "orientation": "horizontal",
            "min": 0,
            "description_tooltip": null,
            "_model_module": "@jupyter-widgets/controls",
            "layout": "IPY_MODEL_626de34b6b904830be8bfd9c66a31e93"
          }
        },
        "a90753636d91484a8d76e17b5531db06": {
          "model_module": "@jupyter-widgets/controls",
          "model_name": "HTMLModel",
          "state": {
            "_view_name": "HTMLView",
            "style": "IPY_MODEL_9af2baf08bb44d918a7df37cb7520084",
            "_dom_classes": [],
            "description": "",
            "_model_name": "HTMLModel",
            "placeholder": "​",
            "_view_module": "@jupyter-widgets/controls",
            "_model_module_version": "1.5.0",
            "value": " 29696/? [00:00&lt;00:00, 361810.68it/s]",
            "_view_count": null,
            "_view_module_version": "1.5.0",
            "description_tooltip": null,
            "_model_module": "@jupyter-widgets/controls",
            "layout": "IPY_MODEL_22da1b477c9143c1ab8a2520178d9bbf"
          }
        },
        "a27ae4ef0373410d9e268e12a5d30ca0": {
          "model_module": "@jupyter-widgets/controls",
          "model_name": "ProgressStyleModel",
          "state": {
            "_view_name": "StyleView",
            "_model_name": "ProgressStyleModel",
            "description_width": "initial",
            "_view_module": "@jupyter-widgets/base",
            "_model_module_version": "1.5.0",
            "_view_count": null,
            "_view_module_version": "1.2.0",
            "bar_color": null,
            "_model_module": "@jupyter-widgets/controls"
          }
        },
        "626de34b6b904830be8bfd9c66a31e93": {
          "model_module": "@jupyter-widgets/base",
          "model_name": "LayoutModel",
          "state": {
            "_view_name": "LayoutView",
            "grid_template_rows": null,
            "right": null,
            "justify_content": null,
            "_view_module": "@jupyter-widgets/base",
            "overflow": null,
            "_model_module_version": "1.2.0",
            "_view_count": null,
            "flex_flow": null,
            "width": null,
            "min_width": null,
            "border": null,
            "align_items": null,
            "bottom": null,
            "_model_module": "@jupyter-widgets/base",
            "top": null,
            "grid_column": null,
            "overflow_y": null,
            "overflow_x": null,
            "grid_auto_flow": null,
            "grid_area": null,
            "grid_template_columns": null,
            "flex": null,
            "_model_name": "LayoutModel",
            "justify_items": null,
            "grid_row": null,
            "max_height": null,
            "align_content": null,
            "visibility": null,
            "align_self": null,
            "height": null,
            "min_height": null,
            "padding": null,
            "grid_auto_rows": null,
            "grid_gap": null,
            "max_width": null,
            "order": null,
            "_view_module_version": "1.2.0",
            "grid_template_areas": null,
            "object_position": null,
            "object_fit": null,
            "grid_auto_columns": null,
            "margin": null,
            "display": null,
            "left": null
          }
        },
        "9af2baf08bb44d918a7df37cb7520084": {
          "model_module": "@jupyter-widgets/controls",
          "model_name": "DescriptionStyleModel",
          "state": {
            "_view_name": "StyleView",
            "_model_name": "DescriptionStyleModel",
            "description_width": "",
            "_view_module": "@jupyter-widgets/base",
            "_model_module_version": "1.5.0",
            "_view_count": null,
            "_view_module_version": "1.2.0",
            "_model_module": "@jupyter-widgets/controls"
          }
        },
        "22da1b477c9143c1ab8a2520178d9bbf": {
          "model_module": "@jupyter-widgets/base",
          "model_name": "LayoutModel",
          "state": {
            "_view_name": "LayoutView",
            "grid_template_rows": null,
            "right": null,
            "justify_content": null,
            "_view_module": "@jupyter-widgets/base",
            "overflow": null,
            "_model_module_version": "1.2.0",
            "_view_count": null,
            "flex_flow": null,
            "width": null,
            "min_width": null,
            "border": null,
            "align_items": null,
            "bottom": null,
            "_model_module": "@jupyter-widgets/base",
            "top": null,
            "grid_column": null,
            "overflow_y": null,
            "overflow_x": null,
            "grid_auto_flow": null,
            "grid_area": null,
            "grid_template_columns": null,
            "flex": null,
            "_model_name": "LayoutModel",
            "justify_items": null,
            "grid_row": null,
            "max_height": null,
            "align_content": null,
            "visibility": null,
            "align_self": null,
            "height": null,
            "min_height": null,
            "padding": null,
            "grid_auto_rows": null,
            "grid_gap": null,
            "max_width": null,
            "order": null,
            "_view_module_version": "1.2.0",
            "grid_template_areas": null,
            "object_position": null,
            "object_fit": null,
            "grid_auto_columns": null,
            "margin": null,
            "display": null,
            "left": null
          }
        },
        "821e14e1e0ca490dae455d26163f0ee2": {
          "model_module": "@jupyter-widgets/controls",
          "model_name": "HBoxModel",
          "state": {
            "_view_name": "HBoxView",
            "_dom_classes": [],
            "_model_name": "HBoxModel",
            "_view_module": "@jupyter-widgets/controls",
            "_model_module_version": "1.5.0",
            "_view_count": null,
            "_view_module_version": "1.5.0",
            "box_style": "",
            "layout": "IPY_MODEL_3e86ee9a8cce4d748a13d73b7b06709d",
            "_model_module": "@jupyter-widgets/controls",
            "children": [
              "IPY_MODEL_206f5d8ff08e424bbbf98e700c7ac0a2",
              "IPY_MODEL_27b995dfa3c542f1887e44b2c716a61c"
            ]
          }
        },
        "3e86ee9a8cce4d748a13d73b7b06709d": {
          "model_module": "@jupyter-widgets/base",
          "model_name": "LayoutModel",
          "state": {
            "_view_name": "LayoutView",
            "grid_template_rows": null,
            "right": null,
            "justify_content": null,
            "_view_module": "@jupyter-widgets/base",
            "overflow": null,
            "_model_module_version": "1.2.0",
            "_view_count": null,
            "flex_flow": null,
            "width": null,
            "min_width": null,
            "border": null,
            "align_items": null,
            "bottom": null,
            "_model_module": "@jupyter-widgets/base",
            "top": null,
            "grid_column": null,
            "overflow_y": null,
            "overflow_x": null,
            "grid_auto_flow": null,
            "grid_area": null,
            "grid_template_columns": null,
            "flex": null,
            "_model_name": "LayoutModel",
            "justify_items": null,
            "grid_row": null,
            "max_height": null,
            "align_content": null,
            "visibility": null,
            "align_self": null,
            "height": null,
            "min_height": null,
            "padding": null,
            "grid_auto_rows": null,
            "grid_gap": null,
            "max_width": null,
            "order": null,
            "_view_module_version": "1.2.0",
            "grid_template_areas": null,
            "object_position": null,
            "object_fit": null,
            "grid_auto_columns": null,
            "margin": null,
            "display": null,
            "left": null
          }
        },
        "206f5d8ff08e424bbbf98e700c7ac0a2": {
          "model_module": "@jupyter-widgets/controls",
          "model_name": "FloatProgressModel",
          "state": {
            "_view_name": "ProgressView",
            "style": "IPY_MODEL_117447c28b8f4089a4440058216fa14e",
            "_dom_classes": [],
            "description": "",
            "_model_name": "FloatProgressModel",
            "bar_style": "success",
            "max": 1648877,
            "_view_module": "@jupyter-widgets/controls",
            "_model_module_version": "1.5.0",
            "value": 1648877,
            "_view_count": null,
            "_view_module_version": "1.5.0",
            "orientation": "horizontal",
            "min": 0,
            "description_tooltip": null,
            "_model_module": "@jupyter-widgets/controls",
            "layout": "IPY_MODEL_10332d07e3de48c28abf9347703e1b05"
          }
        },
        "27b995dfa3c542f1887e44b2c716a61c": {
          "model_module": "@jupyter-widgets/controls",
          "model_name": "HTMLModel",
          "state": {
            "_view_name": "HTMLView",
            "style": "IPY_MODEL_7f223f18054f445d9d491ffbfad09f4b",
            "_dom_classes": [],
            "description": "",
            "_model_name": "HTMLModel",
            "placeholder": "​",
            "_view_module": "@jupyter-widgets/controls",
            "_model_module_version": "1.5.0",
            "value": " 1649664/? [00:51&lt;00:00, 31999.50it/s]",
            "_view_count": null,
            "_view_module_version": "1.5.0",
            "description_tooltip": null,
            "_model_module": "@jupyter-widgets/controls",
            "layout": "IPY_MODEL_c19cf9479f194e12976ca25a29dd088a"
          }
        },
        "117447c28b8f4089a4440058216fa14e": {
          "model_module": "@jupyter-widgets/controls",
          "model_name": "ProgressStyleModel",
          "state": {
            "_view_name": "StyleView",
            "_model_name": "ProgressStyleModel",
            "description_width": "initial",
            "_view_module": "@jupyter-widgets/base",
            "_model_module_version": "1.5.0",
            "_view_count": null,
            "_view_module_version": "1.2.0",
            "bar_color": null,
            "_model_module": "@jupyter-widgets/controls"
          }
        },
        "10332d07e3de48c28abf9347703e1b05": {
          "model_module": "@jupyter-widgets/base",
          "model_name": "LayoutModel",
          "state": {
            "_view_name": "LayoutView",
            "grid_template_rows": null,
            "right": null,
            "justify_content": null,
            "_view_module": "@jupyter-widgets/base",
            "overflow": null,
            "_model_module_version": "1.2.0",
            "_view_count": null,
            "flex_flow": null,
            "width": null,
            "min_width": null,
            "border": null,
            "align_items": null,
            "bottom": null,
            "_model_module": "@jupyter-widgets/base",
            "top": null,
            "grid_column": null,
            "overflow_y": null,
            "overflow_x": null,
            "grid_auto_flow": null,
            "grid_area": null,
            "grid_template_columns": null,
            "flex": null,
            "_model_name": "LayoutModel",
            "justify_items": null,
            "grid_row": null,
            "max_height": null,
            "align_content": null,
            "visibility": null,
            "align_self": null,
            "height": null,
            "min_height": null,
            "padding": null,
            "grid_auto_rows": null,
            "grid_gap": null,
            "max_width": null,
            "order": null,
            "_view_module_version": "1.2.0",
            "grid_template_areas": null,
            "object_position": null,
            "object_fit": null,
            "grid_auto_columns": null,
            "margin": null,
            "display": null,
            "left": null
          }
        },
        "7f223f18054f445d9d491ffbfad09f4b": {
          "model_module": "@jupyter-widgets/controls",
          "model_name": "DescriptionStyleModel",
          "state": {
            "_view_name": "StyleView",
            "_model_name": "DescriptionStyleModel",
            "description_width": "",
            "_view_module": "@jupyter-widgets/base",
            "_model_module_version": "1.5.0",
            "_view_count": null,
            "_view_module_version": "1.2.0",
            "_model_module": "@jupyter-widgets/controls"
          }
        },
        "c19cf9479f194e12976ca25a29dd088a": {
          "model_module": "@jupyter-widgets/base",
          "model_name": "LayoutModel",
          "state": {
            "_view_name": "LayoutView",
            "grid_template_rows": null,
            "right": null,
            "justify_content": null,
            "_view_module": "@jupyter-widgets/base",
            "overflow": null,
            "_model_module_version": "1.2.0",
            "_view_count": null,
            "flex_flow": null,
            "width": null,
            "min_width": null,
            "border": null,
            "align_items": null,
            "bottom": null,
            "_model_module": "@jupyter-widgets/base",
            "top": null,
            "grid_column": null,
            "overflow_y": null,
            "overflow_x": null,
            "grid_auto_flow": null,
            "grid_area": null,
            "grid_template_columns": null,
            "flex": null,
            "_model_name": "LayoutModel",
            "justify_items": null,
            "grid_row": null,
            "max_height": null,
            "align_content": null,
            "visibility": null,
            "align_self": null,
            "height": null,
            "min_height": null,
            "padding": null,
            "grid_auto_rows": null,
            "grid_gap": null,
            "max_width": null,
            "order": null,
            "_view_module_version": "1.2.0",
            "grid_template_areas": null,
            "object_position": null,
            "object_fit": null,
            "grid_auto_columns": null,
            "margin": null,
            "display": null,
            "left": null
          }
        },
        "7fd6d05343e946bba2a5ac08537b086c": {
          "model_module": "@jupyter-widgets/controls",
          "model_name": "HBoxModel",
          "state": {
            "_view_name": "HBoxView",
            "_dom_classes": [],
            "_model_name": "HBoxModel",
            "_view_module": "@jupyter-widgets/controls",
            "_model_module_version": "1.5.0",
            "_view_count": null,
            "_view_module_version": "1.5.0",
            "box_style": "",
            "layout": "IPY_MODEL_fd8dc5f1712947bebfababba9ec03ff9",
            "_model_module": "@jupyter-widgets/controls",
            "children": [
              "IPY_MODEL_9f9b00887c074028aecd365e70b86efc",
              "IPY_MODEL_2db1a840a59c4f049f05c828afd2a423"
            ]
          }
        },
        "fd8dc5f1712947bebfababba9ec03ff9": {
          "model_module": "@jupyter-widgets/base",
          "model_name": "LayoutModel",
          "state": {
            "_view_name": "LayoutView",
            "grid_template_rows": null,
            "right": null,
            "justify_content": null,
            "_view_module": "@jupyter-widgets/base",
            "overflow": null,
            "_model_module_version": "1.2.0",
            "_view_count": null,
            "flex_flow": null,
            "width": null,
            "min_width": null,
            "border": null,
            "align_items": null,
            "bottom": null,
            "_model_module": "@jupyter-widgets/base",
            "top": null,
            "grid_column": null,
            "overflow_y": null,
            "overflow_x": null,
            "grid_auto_flow": null,
            "grid_area": null,
            "grid_template_columns": null,
            "flex": null,
            "_model_name": "LayoutModel",
            "justify_items": null,
            "grid_row": null,
            "max_height": null,
            "align_content": null,
            "visibility": null,
            "align_self": null,
            "height": null,
            "min_height": null,
            "padding": null,
            "grid_auto_rows": null,
            "grid_gap": null,
            "max_width": null,
            "order": null,
            "_view_module_version": "1.2.0",
            "grid_template_areas": null,
            "object_position": null,
            "object_fit": null,
            "grid_auto_columns": null,
            "margin": null,
            "display": null,
            "left": null
          }
        },
        "9f9b00887c074028aecd365e70b86efc": {
          "model_module": "@jupyter-widgets/controls",
          "model_name": "FloatProgressModel",
          "state": {
            "_view_name": "ProgressView",
            "style": "IPY_MODEL_ef65a6fa515a4659995588a527041f9a",
            "_dom_classes": [],
            "description": "",
            "_model_name": "FloatProgressModel",
            "bar_style": "success",
            "max": 4542,
            "_view_module": "@jupyter-widgets/controls",
            "_model_module_version": "1.5.0",
            "value": 4542,
            "_view_count": null,
            "_view_module_version": "1.5.0",
            "orientation": "horizontal",
            "min": 0,
            "description_tooltip": null,
            "_model_module": "@jupyter-widgets/controls",
            "layout": "IPY_MODEL_84f556cdbc484af1bba85f06f551c184"
          }
        },
        "2db1a840a59c4f049f05c828afd2a423": {
          "model_module": "@jupyter-widgets/controls",
          "model_name": "HTMLModel",
          "state": {
            "_view_name": "HTMLView",
            "style": "IPY_MODEL_b29c363fe1994c0ca3862a4a05e4e448",
            "_dom_classes": [],
            "description": "",
            "_model_name": "HTMLModel",
            "placeholder": "​",
            "_view_module": "@jupyter-widgets/controls",
            "_model_module_version": "1.5.0",
            "value": " 5120/? [00:00&lt;00:00, 21504.08it/s]",
            "_view_count": null,
            "_view_module_version": "1.5.0",
            "description_tooltip": null,
            "_model_module": "@jupyter-widgets/controls",
            "layout": "IPY_MODEL_6fffe2ccf7174b81b1cf94fac9db90fd"
          }
        },
        "ef65a6fa515a4659995588a527041f9a": {
          "model_module": "@jupyter-widgets/controls",
          "model_name": "ProgressStyleModel",
          "state": {
            "_view_name": "StyleView",
            "_model_name": "ProgressStyleModel",
            "description_width": "initial",
            "_view_module": "@jupyter-widgets/base",
            "_model_module_version": "1.5.0",
            "_view_count": null,
            "_view_module_version": "1.2.0",
            "bar_color": null,
            "_model_module": "@jupyter-widgets/controls"
          }
        },
        "84f556cdbc484af1bba85f06f551c184": {
          "model_module": "@jupyter-widgets/base",
          "model_name": "LayoutModel",
          "state": {
            "_view_name": "LayoutView",
            "grid_template_rows": null,
            "right": null,
            "justify_content": null,
            "_view_module": "@jupyter-widgets/base",
            "overflow": null,
            "_model_module_version": "1.2.0",
            "_view_count": null,
            "flex_flow": null,
            "width": null,
            "min_width": null,
            "border": null,
            "align_items": null,
            "bottom": null,
            "_model_module": "@jupyter-widgets/base",
            "top": null,
            "grid_column": null,
            "overflow_y": null,
            "overflow_x": null,
            "grid_auto_flow": null,
            "grid_area": null,
            "grid_template_columns": null,
            "flex": null,
            "_model_name": "LayoutModel",
            "justify_items": null,
            "grid_row": null,
            "max_height": null,
            "align_content": null,
            "visibility": null,
            "align_self": null,
            "height": null,
            "min_height": null,
            "padding": null,
            "grid_auto_rows": null,
            "grid_gap": null,
            "max_width": null,
            "order": null,
            "_view_module_version": "1.2.0",
            "grid_template_areas": null,
            "object_position": null,
            "object_fit": null,
            "grid_auto_columns": null,
            "margin": null,
            "display": null,
            "left": null
          }
        },
        "b29c363fe1994c0ca3862a4a05e4e448": {
          "model_module": "@jupyter-widgets/controls",
          "model_name": "DescriptionStyleModel",
          "state": {
            "_view_name": "StyleView",
            "_model_name": "DescriptionStyleModel",
            "description_width": "",
            "_view_module": "@jupyter-widgets/base",
            "_model_module_version": "1.5.0",
            "_view_count": null,
            "_view_module_version": "1.2.0",
            "_model_module": "@jupyter-widgets/controls"
          }
        },
        "6fffe2ccf7174b81b1cf94fac9db90fd": {
          "model_module": "@jupyter-widgets/base",
          "model_name": "LayoutModel",
          "state": {
            "_view_name": "LayoutView",
            "grid_template_rows": null,
            "right": null,
            "justify_content": null,
            "_view_module": "@jupyter-widgets/base",
            "overflow": null,
            "_model_module_version": "1.2.0",
            "_view_count": null,
            "flex_flow": null,
            "width": null,
            "min_width": null,
            "border": null,
            "align_items": null,
            "bottom": null,
            "_model_module": "@jupyter-widgets/base",
            "top": null,
            "grid_column": null,
            "overflow_y": null,
            "overflow_x": null,
            "grid_auto_flow": null,
            "grid_area": null,
            "grid_template_columns": null,
            "flex": null,
            "_model_name": "LayoutModel",
            "justify_items": null,
            "grid_row": null,
            "max_height": null,
            "align_content": null,
            "visibility": null,
            "align_self": null,
            "height": null,
            "min_height": null,
            "padding": null,
            "grid_auto_rows": null,
            "grid_gap": null,
            "max_width": null,
            "order": null,
            "_view_module_version": "1.2.0",
            "grid_template_areas": null,
            "object_position": null,
            "object_fit": null,
            "grid_auto_columns": null,
            "margin": null,
            "display": null,
            "left": null
          }
        }
      }
    }
  },
  "cells": [
    {
      "cell_type": "markdown",
      "metadata": {
        "id": "view-in-github",
        "colab_type": "text"
      },
      "source": [
        "<a href=\"https://colab.research.google.com/github/happy-jihye/GAN/blob/main/GAN.ipynb\" target=\"_parent\"><img src=\"https://colab.research.google.com/assets/colab-badge.svg\" alt=\"Open In Colab\"/></a>"
      ]
    },
    {
      "cell_type": "markdown",
      "metadata": {
        "id": "xrUqXYEepD0o"
      },
      "source": [
        "### GAN 실습\r\n",
        "\r\n",
        "- [Generative Adversarial Networks (NIPS 2014)](https://arxiv.org/abs/1406.2661)\r\n",
        "\r\n",
        "> - 2021/03/12 Happy-jihye\r\n",
        "> - **Reference** : [eriklindernoren/PyTorch-GAN](https://github.com/eriklindernoren/PyTorch-GAN/blob/master/implementations/gan/gan.py)\r\n"
      ]
    },
    {
      "cell_type": "code",
      "metadata": {
        "id": "CiRb7M3naHyo"
      },
      "source": [
        "import torch\r\n",
        "import torch.nn as nn\r\n",
        "\r\n",
        "import numpy as np\r\n",
        "\r\n",
        "# for MNIST data\r\n",
        "from torchvision import datasets\r\n",
        "import torchvision.transforms as transforms\r\n",
        "from torchvision.utils import save_image"
      ],
      "execution_count": 5,
      "outputs": []
    },
    {
      "cell_type": "markdown",
      "metadata": {
        "id": "tp4hbA95pihv"
      },
      "source": [
        "##  Generator"
      ]
    },
    {
      "cell_type": "code",
      "metadata": {
        "id": "ONQYN5Neow0A"
      },
      "source": [
        "# image \r\n",
        "\r\n",
        "channels = 1\r\n",
        "img_size = 28\r\n",
        "\r\n",
        "img_shape = (channels, img_size, img_size)"
      ],
      "execution_count": 6,
      "outputs": []
    },
    {
      "cell_type": "code",
      "metadata": {
        "id": "Hj5al6cTZES1"
      },
      "source": [
        "# dimensionality of the latent space\r\n",
        "# latent vector를 추출하기 위한 noise 분포의 dimension (정규분포를 따름)\r\n",
        "latent_dim = 100\r\n",
        "\r\n",
        "class Generator(nn.Module):\r\n",
        "    def __init__(self):\r\n",
        "        super(Generator, self).__init__()\r\n",
        "\r\n",
        "        def block(input_dim, output_dim, normalize=True):\r\n",
        "            layers = [nn.Linear(input_dim, output_dim)]\r\n",
        "            if normalize:\r\n",
        "                layers.append(nn.BatchNorm1d(output_dim, 0.8))\r\n",
        "            layers.append(nn.LeakyReLU(0.2, inplace=True))\r\n",
        "            return layers\r\n",
        "\r\n",
        "        # generater의 model은 여러개의 block을 쌓아서 만들어짐\r\n",
        "        self.model = nn.Sequential(\r\n",
        "            *block(latent_dim, 128, normalize=False),\r\n",
        "            *block(128, 256),\r\n",
        "            *block(256, 512),\r\n",
        "            *block(512, 1024),\r\n",
        "            nn.Linear(1024, int(np.prod(img_shape))),\r\n",
        "            nn.Tanh()\r\n",
        "        )\r\n",
        "\r\n",
        "    def forward(self, z): # noise vector : z\r\n",
        "        img = self.model(z)\r\n",
        "        img = img.view(img.size(0), *img_shape)\r\n",
        "        return img"
      ],
      "execution_count": 7,
      "outputs": []
    },
    {
      "cell_type": "markdown",
      "metadata": {
        "id": "znyoFjUCprGO"
      },
      "source": [
        "## Discriminator"
      ]
    },
    {
      "cell_type": "code",
      "metadata": {
        "id": "M_kvtvOhaLX6"
      },
      "source": [
        "class Discriminator(nn.Module):\r\n",
        "    def __init__(self):\r\n",
        "        super(Discriminator, self).__init__()\r\n",
        "\r\n",
        "        self.model = nn.Sequential(\r\n",
        "            nn.Linear(int(np.prod(img_shape)), 512),\r\n",
        "            nn.LeakyReLU(0.2, inplace=True),\r\n",
        "            nn.Linear(512, 256),\r\n",
        "            nn.LeakyReLU(0.2, inplace=True),\r\n",
        "            nn.Linear(256, 1),\r\n",
        "            nn.Sigmoid(),\r\n",
        "        )\r\n",
        "\r\n",
        "    # 이미지에 대한 판별 결과를 반환\r\n",
        "    def forward(self, img):\r\n",
        "        img_flat = img.view(img.size(0), -1)\r\n",
        "        validity = self.model(img_flat)\r\n",
        "\r\n",
        "        return validity"
      ],
      "execution_count": null,
      "outputs": []
    },
    {
      "cell_type": "markdown",
      "metadata": {
        "id": "NOilX0rBqJXn"
      },
      "source": [
        "### MINIST dataset"
      ]
    },
    {
      "cell_type": "code",
      "metadata": {
        "id": "HrhXIwtAqM7H",
        "colab": {
          "base_uri": "https://localhost:8080/",
          "height": 492,
          "referenced_widgets": [
            "0d826d27dec24f3aaaf58359f4236ce2",
            "e6bfdab2b4d34f84b48769b7b4d7f079",
            "539eea5972e54ba68172044dced4e5e6",
            "13bdc11a34ca4fc9a6715053dddd8c01",
            "d742a6b35ae24f63ad419706c3041e58",
            "39eaa12d9148497889847a8ae4d42b55",
            "bee35707b3ab484fbd3b5907ac6de792",
            "746fba2b1fe34f5bb4ec7e81d33e90cb",
            "7e027dcb4ee44749984e0d2ae032ab12",
            "0f9b85d417c5493eb317c3193fcbdd25",
            "e038694bd5054144a1169375bb26af9a",
            "a90753636d91484a8d76e17b5531db06",
            "a27ae4ef0373410d9e268e12a5d30ca0",
            "626de34b6b904830be8bfd9c66a31e93",
            "9af2baf08bb44d918a7df37cb7520084",
            "22da1b477c9143c1ab8a2520178d9bbf",
            "821e14e1e0ca490dae455d26163f0ee2",
            "3e86ee9a8cce4d748a13d73b7b06709d",
            "206f5d8ff08e424bbbf98e700c7ac0a2",
            "27b995dfa3c542f1887e44b2c716a61c",
            "117447c28b8f4089a4440058216fa14e",
            "10332d07e3de48c28abf9347703e1b05",
            "7f223f18054f445d9d491ffbfad09f4b",
            "c19cf9479f194e12976ca25a29dd088a",
            "7fd6d05343e946bba2a5ac08537b086c",
            "fd8dc5f1712947bebfababba9ec03ff9",
            "9f9b00887c074028aecd365e70b86efc",
            "2db1a840a59c4f049f05c828afd2a423",
            "ef65a6fa515a4659995588a527041f9a",
            "84f556cdbc484af1bba85f06f551c184",
            "b29c363fe1994c0ca3862a4a05e4e448",
            "6fffe2ccf7174b81b1cf94fac9db90fd"
          ]
        },
        "outputId": "0ad008fe-8a93-4b98-87be-0ddd6577cda1"
      },
      "source": [
        "transforms_train = transforms.Compose([\r\n",
        "    transforms.Resize(28),\r\n",
        "    transforms.ToTensor(),\r\n",
        "    transforms.Normalize([0.5], [0.5])\r\n",
        "])\r\n",
        "\r\n",
        "train_dataset = datasets.MNIST(root=\"./dataset\", train=True, download=True, transform=transforms_train)\r\n",
        "dataloader = torch.utils.data.DataLoader(train_dataset, batch_size=128, shuffle=True, num_workers=4)"
      ],
      "execution_count": null,
      "outputs": [
        {
          "output_type": "stream",
          "text": [
            "Downloading http://yann.lecun.com/exdb/mnist/train-images-idx3-ubyte.gz to ./dataset/MNIST/raw/train-images-idx3-ubyte.gz\n"
          ],
          "name": "stdout"
        },
        {
          "output_type": "display_data",
          "data": {
            "application/vnd.jupyter.widget-view+json": {
              "model_id": "0d826d27dec24f3aaaf58359f4236ce2",
              "version_minor": 0,
              "version_major": 2
            },
            "text/plain": [
              "HBox(children=(FloatProgress(value=0.0, max=9912422.0), HTML(value='')))"
            ]
          },
          "metadata": {
            "tags": []
          }
        },
        {
          "output_type": "stream",
          "text": [
            "\n",
            "Extracting ./dataset/MNIST/raw/train-images-idx3-ubyte.gz to ./dataset/MNIST/raw\n",
            "Downloading http://yann.lecun.com/exdb/mnist/train-labels-idx1-ubyte.gz to ./dataset/MNIST/raw/train-labels-idx1-ubyte.gz\n"
          ],
          "name": "stdout"
        },
        {
          "output_type": "display_data",
          "data": {
            "application/vnd.jupyter.widget-view+json": {
              "model_id": "7e027dcb4ee44749984e0d2ae032ab12",
              "version_minor": 0,
              "version_major": 2
            },
            "text/plain": [
              "HBox(children=(FloatProgress(value=0.0, max=28881.0), HTML(value='')))"
            ]
          },
          "metadata": {
            "tags": []
          }
        },
        {
          "output_type": "stream",
          "text": [
            "\n",
            "Extracting ./dataset/MNIST/raw/train-labels-idx1-ubyte.gz to ./dataset/MNIST/raw\n",
            "Downloading http://yann.lecun.com/exdb/mnist/t10k-images-idx3-ubyte.gz to ./dataset/MNIST/raw/t10k-images-idx3-ubyte.gz\n"
          ],
          "name": "stdout"
        },
        {
          "output_type": "display_data",
          "data": {
            "application/vnd.jupyter.widget-view+json": {
              "model_id": "821e14e1e0ca490dae455d26163f0ee2",
              "version_minor": 0,
              "version_major": 2
            },
            "text/plain": [
              "HBox(children=(FloatProgress(value=0.0, max=1648877.0), HTML(value='')))"
            ]
          },
          "metadata": {
            "tags": []
          }
        },
        {
          "output_type": "stream",
          "text": [
            "\n",
            "Extracting ./dataset/MNIST/raw/t10k-images-idx3-ubyte.gz to ./dataset/MNIST/raw\n",
            "Downloading http://yann.lecun.com/exdb/mnist/t10k-labels-idx1-ubyte.gz to ./dataset/MNIST/raw/t10k-labels-idx1-ubyte.gz\n"
          ],
          "name": "stdout"
        },
        {
          "output_type": "display_data",
          "data": {
            "application/vnd.jupyter.widget-view+json": {
              "model_id": "7fd6d05343e946bba2a5ac08537b086c",
              "version_minor": 0,
              "version_major": 2
            },
            "text/plain": [
              "HBox(children=(FloatProgress(value=0.0, max=4542.0), HTML(value='')))"
            ]
          },
          "metadata": {
            "tags": []
          }
        },
        {
          "output_type": "stream",
          "text": [
            "\n",
            "Extracting ./dataset/MNIST/raw/t10k-labels-idx1-ubyte.gz to ./dataset/MNIST/raw\n",
            "Processing...\n",
            "Done!\n"
          ],
          "name": "stdout"
        },
        {
          "output_type": "stream",
          "text": [
            "/usr/local/lib/python3.7/dist-packages/torchvision/datasets/mnist.py:479: UserWarning: The given NumPy array is not writeable, and PyTorch does not support non-writeable tensors. This means you can write to the underlying (supposedly non-writeable) NumPy array using the tensor. You may want to copy the array to protect its data or make it writeable before converting it to a tensor. This type of warning will be suppressed for the rest of this program. (Triggered internally at  /pytorch/torch/csrc/utils/tensor_numpy.cpp:143.)\n",
            "  return torch.from_numpy(parsed.astype(m[2], copy=False)).view(*s)\n",
            "/usr/local/lib/python3.7/dist-packages/torch/utils/data/dataloader.py:477: UserWarning: This DataLoader will create 4 worker processes in total. Our suggested max number of worker in current system is 2, which is smaller than what this DataLoader is going to create. Please be aware that excessive worker creation might get DataLoader running slow or even freeze, lower the worker number to avoid potential slowness/freeze if necessary.\n",
            "  cpuset_checked))\n"
          ],
          "name": "stderr"
        }
      ]
    },
    {
      "cell_type": "markdown",
      "metadata": {
        "id": "K54Z7PNIqTkO"
      },
      "source": [
        "#### <b>모델 학습 및 샘플링</b>\r\n",
        "\r\n",
        "* 학습을 위해 생성자와 판별자 모델을 초기화합니다.\r\n",
        "* 적절한 하이퍼 파라미터를 설정합니다."
      ]
    },
    {
      "cell_type": "code",
      "metadata": {
        "id": "tBZf0BmBaN7l"
      },
      "source": [
        "''' Hyper parameter '''\r\n",
        "# learning rate\r\n",
        "lr = 0.0002\r\n",
        "\r\n",
        "# decay of first order momentum of gradient\r\n",
        "b1 = 0.5\r\n",
        "b2 = 0.999\r\n",
        "\r\n",
        "\r\n",
        "# Initialize generator and discriminator\r\n",
        "generator = Generator()\r\n",
        "discriminator = Discriminator()\r\n",
        "\r\n",
        "# Loss function\r\n",
        "adversarial_loss = nn.BCELoss()\r\n",
        "\r\n",
        "# Adam Optimizer\r\n",
        "optimizer_G = torch.optim.Adam(generator.parameters(), lr=lr, betas=(b1, b2))\r\n",
        "optimizer_D = torch.optim.Adam(discriminator.parameters(), lr=lr, betas=(b1, b2))"
      ],
      "execution_count": null,
      "outputs": []
    },
    {
      "cell_type": "code",
      "metadata": {
        "id": "KanyJ4VjrCUl"
      },
      "source": [
        "# GPU\r\n",
        "cuda = True if torch.cuda.is_available() else False\r\n",
        "\r\n",
        "if cuda : \r\n",
        "  generator.cuda()\r\n",
        "  discriminator.cuda()\r\n",
        "  adversarial_loss.cuda()"
      ],
      "execution_count": null,
      "outputs": []
    },
    {
      "cell_type": "markdown",
      "metadata": {
        "id": "F9ThAQIOt-74"
      },
      "source": [
        "# Training"
      ]
    },
    {
      "cell_type": "code",
      "metadata": {
        "colab": {
          "base_uri": "https://localhost:8080/"
        },
        "id": "srQI5xI6ar-X",
        "outputId": "c4342636-ff4f-42e7-d45d-a35327c26ee7"
      },
      "source": [
        "import time\r\n",
        "\r\n",
        "# number of epochs of training\r\n",
        "n_epochs = 200 \r\n",
        "\r\n",
        "# interval between image samples\r\n",
        "sample_interval = 2000 \r\n",
        "\r\n",
        "start_time = time.time()\r\n",
        "\r\n",
        "Tensor = torch.cuda.FloatTensor if cuda else torch.FloatTensor\r\n",
        "\r\n",
        "\r\n",
        "for epoch in range(n_epochs):\r\n",
        "    for i, (imgs, _) in enumerate(dataloader):\r\n",
        "\r\n",
        "        # 진짜(real) 이미지와 가짜(fake) 이미지에 대한 정답 레이블 생성\r\n",
        "        # real은 1로, fake는 0으로\r\n",
        "        real = Variable(Tensor(imgs.size(0), 1).fill_(1,0), requires_grad = False) \r\n",
        "        fake = Variable(Tensor(imgs.size(0), 1).fill_(1,0), requires_grad = False)\r\n",
        "\r\n",
        "        # Configure input\r\n",
        "        real_imgs = Variable(imgs.type(Tensor))\r\n",
        "\r\n",
        "        # -----------------\r\n",
        "        #  Train Generator\r\n",
        "        # -----------------\r\n",
        "\r\n",
        "        optimizer_G.zero_grad()\r\n",
        "\r\n",
        "        # 랜덤 노이즈(noise) 샘플링\r\n",
        "        z = Variable(Tensor(np.random.normal(0, 1, (imgs.shape[0], latent_dim))))\r\n",
        "\r\n",
        "        # 이미지 생성\r\n",
        "        generated_imgs = generator(z)\r\n",
        "\r\n",
        "        # 생성자(generator)의 손실(loss) 값 계산\r\n",
        "        g_loss = adversarial_loss(discriminator(generated_imgs), real)\r\n",
        "\r\n",
        "        # 생성자(generator) 업데이트\r\n",
        "        g_loss.backward()\r\n",
        "        optimizer_G.step()\r\n",
        "\r\n",
        "        # ---------------------\r\n",
        "        #  Train Discriminator\r\n",
        "        # ---------------------\r\n",
        "        \r\n",
        "        optimizer_D.zero_grad()\r\n",
        "\r\n",
        "        # 판별자(discriminator)의 손실(loss) 값 계산\r\n",
        "        real_loss = adversarial_loss(discriminator(real_imgs), real)\r\n",
        "        fake_loss = adversarial_loss(discriminator(generated_imgs.detach()), fake)\r\n",
        "        d_loss = (real_loss + fake_loss) / 2\r\n",
        "\r\n",
        "        # 판별자(discriminator) 업데이트\r\n",
        "        d_loss.backward()\r\n",
        "        optimizer_D.step()\r\n",
        "\r\n",
        "        done = epoch * len(dataloader) + i\r\n",
        "        if done % sample_interval == 0:\r\n",
        "            # 생성된 이미지 중에서 25개만 선택하여 5 X 5 격자 이미지에 출력\r\n",
        "            save_image(generated_imgs.data[:25], f\"{done}.png\", nrow=5, normalize=True)\r\n",
        "\r\n",
        "    # 하나의 epoch이 끝날 때마다 로그(log) 출력\r\n",
        "    print(f\"[Epoch {epoch}/{n_epochs}] [D loss: {d_loss.item():.6f}] [G loss: {g_loss.item():.6f}] [Elapsed time: {time.time() - start_time:.2f}s]\")"
      ],
      "execution_count": null,
      "outputs": [
        {
          "output_type": "stream",
          "text": [
            "/usr/local/lib/python3.7/dist-packages/torch/utils/data/dataloader.py:477: UserWarning: This DataLoader will create 4 worker processes in total. Our suggested max number of worker in current system is 2, which is smaller than what this DataLoader is going to create. Please be aware that excessive worker creation might get DataLoader running slow or even freeze, lower the worker number to avoid potential slowness/freeze if necessary.\n",
            "  cpuset_checked))\n"
          ],
          "name": "stderr"
        },
        {
          "output_type": "stream",
          "text": [
            "[Epoch 0/200] [D loss: 0.454529] [G loss: 0.746830] [Elapsed time: 10.27s]\n",
            "[Epoch 1/200] [D loss: 0.407060] [G loss: 1.642434] [Elapsed time: 20.66s]\n",
            "[Epoch 2/200] [D loss: 0.301878] [G loss: 1.230006] [Elapsed time: 30.84s]\n",
            "[Epoch 3/200] [D loss: 0.287636] [G loss: 2.337830] [Elapsed time: 40.75s]\n",
            "[Epoch 4/200] [D loss: 0.254162] [G loss: 1.601647] [Elapsed time: 51.29s]\n",
            "[Epoch 5/200] [D loss: 0.241826] [G loss: 1.394916] [Elapsed time: 61.33s]\n",
            "[Epoch 6/200] [D loss: 0.175050] [G loss: 2.742474] [Elapsed time: 71.22s]\n",
            "[Epoch 7/200] [D loss: 0.233544] [G loss: 1.333334] [Elapsed time: 81.19s]\n",
            "[Epoch 8/200] [D loss: 0.288222] [G loss: 1.179692] [Elapsed time: 91.26s]\n",
            "[Epoch 9/200] [D loss: 0.102411] [G loss: 2.092275] [Elapsed time: 101.21s]\n",
            "[Epoch 10/200] [D loss: 0.176065] [G loss: 1.834861] [Elapsed time: 111.47s]\n",
            "[Epoch 11/200] [D loss: 0.218729] [G loss: 2.124454] [Elapsed time: 121.63s]\n",
            "[Epoch 12/200] [D loss: 0.433043] [G loss: 3.164089] [Elapsed time: 131.81s]\n",
            "[Epoch 13/200] [D loss: 0.357911] [G loss: 3.505940] [Elapsed time: 141.72s]\n",
            "[Epoch 14/200] [D loss: 0.482337] [G loss: 0.546902] [Elapsed time: 151.54s]\n",
            "[Epoch 15/200] [D loss: 0.275888] [G loss: 1.209293] [Elapsed time: 161.60s]\n",
            "[Epoch 16/200] [D loss: 0.210696] [G loss: 1.462837] [Elapsed time: 171.59s]\n",
            "[Epoch 17/200] [D loss: 0.112244] [G loss: 2.351601] [Elapsed time: 181.43s]\n",
            "[Epoch 18/200] [D loss: 0.233454] [G loss: 3.844882] [Elapsed time: 191.28s]\n",
            "[Epoch 19/200] [D loss: 0.122619] [G loss: 3.585484] [Elapsed time: 201.44s]\n",
            "[Epoch 20/200] [D loss: 0.244601] [G loss: 3.256791] [Elapsed time: 211.62s]\n",
            "[Epoch 21/200] [D loss: 0.152956] [G loss: 2.155646] [Elapsed time: 221.52s]\n",
            "[Epoch 22/200] [D loss: 0.211313] [G loss: 1.540930] [Elapsed time: 231.64s]\n",
            "[Epoch 23/200] [D loss: 0.183122] [G loss: 2.944438] [Elapsed time: 241.71s]\n",
            "[Epoch 24/200] [D loss: 0.198398] [G loss: 2.938902] [Elapsed time: 251.83s]\n",
            "[Epoch 25/200] [D loss: 0.124092] [G loss: 2.399591] [Elapsed time: 262.14s]\n",
            "[Epoch 26/200] [D loss: 0.189491] [G loss: 1.858270] [Elapsed time: 271.94s]\n",
            "[Epoch 27/200] [D loss: 0.152661] [G loss: 2.150739] [Elapsed time: 281.81s]\n",
            "[Epoch 28/200] [D loss: 0.304902] [G loss: 4.032405] [Elapsed time: 291.58s]\n",
            "[Epoch 29/200] [D loss: 0.256684] [G loss: 1.259637] [Elapsed time: 301.56s]\n",
            "[Epoch 30/200] [D loss: 0.223459] [G loss: 2.710618] [Elapsed time: 311.53s]\n",
            "[Epoch 31/200] [D loss: 0.482416] [G loss: 4.784370] [Elapsed time: 321.46s]\n",
            "[Epoch 32/200] [D loss: 0.202496] [G loss: 1.917869] [Elapsed time: 331.60s]\n",
            "[Epoch 33/200] [D loss: 0.263213] [G loss: 1.492322] [Elapsed time: 341.84s]\n",
            "[Epoch 34/200] [D loss: 0.283523] [G loss: 2.019326] [Elapsed time: 352.14s]\n",
            "[Epoch 35/200] [D loss: 0.211191] [G loss: 2.147096] [Elapsed time: 362.48s]\n",
            "[Epoch 36/200] [D loss: 0.237584] [G loss: 2.054858] [Elapsed time: 372.56s]\n",
            "[Epoch 37/200] [D loss: 0.179257] [G loss: 2.522490] [Elapsed time: 382.95s]\n",
            "[Epoch 38/200] [D loss: 0.376480] [G loss: 4.664567] [Elapsed time: 393.05s]\n",
            "[Epoch 39/200] [D loss: 0.148167] [G loss: 2.079095] [Elapsed time: 403.19s]\n",
            "[Epoch 40/200] [D loss: 0.166441] [G loss: 2.336367] [Elapsed time: 413.32s]\n",
            "[Epoch 41/200] [D loss: 0.324463] [G loss: 2.553642] [Elapsed time: 423.31s]\n",
            "[Epoch 42/200] [D loss: 0.178128] [G loss: 1.910008] [Elapsed time: 433.51s]\n",
            "[Epoch 43/200] [D loss: 0.224411] [G loss: 2.143861] [Elapsed time: 443.42s]\n",
            "[Epoch 44/200] [D loss: 0.250937] [G loss: 1.894013] [Elapsed time: 453.54s]\n",
            "[Epoch 45/200] [D loss: 0.307808] [G loss: 1.598209] [Elapsed time: 463.91s]\n",
            "[Epoch 46/200] [D loss: 0.197986] [G loss: 1.794201] [Elapsed time: 474.35s]\n",
            "[Epoch 47/200] [D loss: 0.274842] [G loss: 3.190731] [Elapsed time: 484.28s]\n",
            "[Epoch 48/200] [D loss: 0.271312] [G loss: 3.730915] [Elapsed time: 494.22s]\n",
            "[Epoch 49/200] [D loss: 0.182558] [G loss: 2.590115] [Elapsed time: 504.28s]\n",
            "[Epoch 50/200] [D loss: 0.299541] [G loss: 1.229344] [Elapsed time: 514.63s]\n",
            "[Epoch 51/200] [D loss: 0.237582] [G loss: 2.855543] [Elapsed time: 524.59s]\n",
            "[Epoch 52/200] [D loss: 0.233577] [G loss: 1.823679] [Elapsed time: 535.14s]\n",
            "[Epoch 53/200] [D loss: 0.387677] [G loss: 1.129178] [Elapsed time: 545.60s]\n",
            "[Epoch 54/200] [D loss: 0.273022] [G loss: 2.178441] [Elapsed time: 555.82s]\n",
            "[Epoch 55/200] [D loss: 0.310564] [G loss: 1.300238] [Elapsed time: 566.19s]\n",
            "[Epoch 56/200] [D loss: 0.197929] [G loss: 2.608474] [Elapsed time: 576.20s]\n",
            "[Epoch 57/200] [D loss: 0.279120] [G loss: 3.189538] [Elapsed time: 586.37s]\n",
            "[Epoch 58/200] [D loss: 0.407953] [G loss: 1.184809] [Elapsed time: 596.54s]\n",
            "[Epoch 59/200] [D loss: 0.200239] [G loss: 2.446637] [Elapsed time: 606.80s]\n",
            "[Epoch 60/200] [D loss: 0.179948] [G loss: 1.976829] [Elapsed time: 617.08s]\n",
            "[Epoch 61/200] [D loss: 0.360149] [G loss: 1.288812] [Elapsed time: 627.27s]\n",
            "[Epoch 62/200] [D loss: 0.237260] [G loss: 2.531477] [Elapsed time: 637.83s]\n",
            "[Epoch 63/200] [D loss: 0.190363] [G loss: 2.406659] [Elapsed time: 648.07s]\n",
            "[Epoch 64/200] [D loss: 0.289393] [G loss: 1.753798] [Elapsed time: 658.13s]\n",
            "[Epoch 65/200] [D loss: 0.529649] [G loss: 3.444004] [Elapsed time: 668.23s]\n",
            "[Epoch 66/200] [D loss: 0.322442] [G loss: 1.352880] [Elapsed time: 678.48s]\n",
            "[Epoch 67/200] [D loss: 0.243340] [G loss: 1.936999] [Elapsed time: 688.66s]\n",
            "[Epoch 68/200] [D loss: 0.307191] [G loss: 2.071825] [Elapsed time: 698.80s]\n",
            "[Epoch 69/200] [D loss: 0.260837] [G loss: 2.210612] [Elapsed time: 709.29s]\n",
            "[Epoch 70/200] [D loss: 0.319976] [G loss: 3.752155] [Elapsed time: 719.84s]\n",
            "[Epoch 71/200] [D loss: 0.241695] [G loss: 2.217832] [Elapsed time: 729.65s]\n",
            "[Epoch 72/200] [D loss: 0.375837] [G loss: 3.648601] [Elapsed time: 739.61s]\n",
            "[Epoch 73/200] [D loss: 0.239613] [G loss: 2.071180] [Elapsed time: 749.88s]\n",
            "[Epoch 74/200] [D loss: 0.273007] [G loss: 1.639590] [Elapsed time: 759.84s]\n",
            "[Epoch 75/200] [D loss: 0.253703] [G loss: 2.424360] [Elapsed time: 770.26s]\n",
            "[Epoch 76/200] [D loss: 0.274708] [G loss: 1.789372] [Elapsed time: 780.50s]\n",
            "[Epoch 77/200] [D loss: 0.325633] [G loss: 2.520249] [Elapsed time: 790.57s]\n",
            "[Epoch 78/200] [D loss: 0.261790] [G loss: 1.803074] [Elapsed time: 800.70s]\n",
            "[Epoch 79/200] [D loss: 0.293863] [G loss: 2.078531] [Elapsed time: 810.62s]\n",
            "[Epoch 80/200] [D loss: 0.226756] [G loss: 1.675604] [Elapsed time: 820.56s]\n",
            "[Epoch 81/200] [D loss: 0.309579] [G loss: 2.359964] [Elapsed time: 830.44s]\n",
            "[Epoch 82/200] [D loss: 0.246399] [G loss: 2.262251] [Elapsed time: 840.46s]\n",
            "[Epoch 83/200] [D loss: 0.414433] [G loss: 4.266105] [Elapsed time: 850.56s]\n",
            "[Epoch 84/200] [D loss: 0.226304] [G loss: 2.688378] [Elapsed time: 860.59s]\n",
            "[Epoch 85/200] [D loss: 0.340353] [G loss: 1.277829] [Elapsed time: 870.72s]\n",
            "[Epoch 86/200] [D loss: 0.363352] [G loss: 2.811028] [Elapsed time: 880.81s]\n",
            "[Epoch 87/200] [D loss: 0.304842] [G loss: 1.788716] [Elapsed time: 890.83s]\n",
            "[Epoch 88/200] [D loss: 0.212776] [G loss: 2.206632] [Elapsed time: 900.98s]\n",
            "[Epoch 89/200] [D loss: 0.477550] [G loss: 2.304388] [Elapsed time: 910.91s]\n",
            "[Epoch 90/200] [D loss: 0.167899] [G loss: 2.575439] [Elapsed time: 920.85s]\n",
            "[Epoch 91/200] [D loss: 0.287921] [G loss: 1.493694] [Elapsed time: 931.02s]\n",
            "[Epoch 92/200] [D loss: 0.300387] [G loss: 1.877976] [Elapsed time: 941.26s]\n",
            "[Epoch 93/200] [D loss: 0.329345] [G loss: 1.608888] [Elapsed time: 951.73s]\n",
            "[Epoch 94/200] [D loss: 0.261050] [G loss: 3.095069] [Elapsed time: 961.90s]\n",
            "[Epoch 95/200] [D loss: 0.318698] [G loss: 1.410585] [Elapsed time: 972.53s]\n",
            "[Epoch 96/200] [D loss: 0.396566] [G loss: 2.664578] [Elapsed time: 983.01s]\n",
            "[Epoch 97/200] [D loss: 0.303967] [G loss: 1.796495] [Elapsed time: 993.11s]\n",
            "[Epoch 98/200] [D loss: 0.273102] [G loss: 2.320012] [Elapsed time: 1003.52s]\n",
            "[Epoch 99/200] [D loss: 0.298338] [G loss: 2.638444] [Elapsed time: 1013.81s]\n",
            "[Epoch 100/200] [D loss: 0.238643] [G loss: 1.956367] [Elapsed time: 1024.03s]\n",
            "[Epoch 101/200] [D loss: 0.264311] [G loss: 2.073734] [Elapsed time: 1034.03s]\n",
            "[Epoch 102/200] [D loss: 0.401654] [G loss: 0.894251] [Elapsed time: 1043.91s]\n",
            "[Epoch 103/200] [D loss: 0.236645] [G loss: 2.532544] [Elapsed time: 1054.11s]\n",
            "[Epoch 104/200] [D loss: 0.235132] [G loss: 2.923648] [Elapsed time: 1064.32s]\n",
            "[Epoch 105/200] [D loss: 0.173535] [G loss: 2.289747] [Elapsed time: 1074.51s]\n",
            "[Epoch 106/200] [D loss: 0.821451] [G loss: 6.322124] [Elapsed time: 1084.56s]\n",
            "[Epoch 107/200] [D loss: 0.296071] [G loss: 1.702937] [Elapsed time: 1094.61s]\n",
            "[Epoch 108/200] [D loss: 0.230156] [G loss: 2.182721] [Elapsed time: 1104.61s]\n",
            "[Epoch 109/200] [D loss: 0.282459] [G loss: 2.388611] [Elapsed time: 1114.57s]\n",
            "[Epoch 110/200] [D loss: 0.238270] [G loss: 2.730391] [Elapsed time: 1124.56s]\n",
            "[Epoch 111/200] [D loss: 0.215432] [G loss: 2.777441] [Elapsed time: 1134.49s]\n",
            "[Epoch 112/200] [D loss: 0.183533] [G loss: 2.532964] [Elapsed time: 1144.46s]\n",
            "[Epoch 113/200] [D loss: 0.247168] [G loss: 2.881465] [Elapsed time: 1154.52s]\n",
            "[Epoch 114/200] [D loss: 0.292072] [G loss: 1.869768] [Elapsed time: 1164.65s]\n",
            "[Epoch 115/200] [D loss: 0.219080] [G loss: 2.206838] [Elapsed time: 1174.64s]\n",
            "[Epoch 116/200] [D loss: 0.267230] [G loss: 2.078488] [Elapsed time: 1184.73s]\n",
            "[Epoch 117/200] [D loss: 0.323302] [G loss: 3.007138] [Elapsed time: 1195.39s]\n",
            "[Epoch 118/200] [D loss: 0.198349] [G loss: 2.518422] [Elapsed time: 1205.38s]\n",
            "[Epoch 119/200] [D loss: 0.167025] [G loss: 1.961950] [Elapsed time: 1215.21s]\n",
            "[Epoch 120/200] [D loss: 0.326987] [G loss: 1.508746] [Elapsed time: 1225.43s]\n",
            "[Epoch 121/200] [D loss: 0.264904] [G loss: 2.283951] [Elapsed time: 1235.61s]\n",
            "[Epoch 122/200] [D loss: 0.295573] [G loss: 1.715826] [Elapsed time: 1245.89s]\n",
            "[Epoch 123/200] [D loss: 0.218317] [G loss: 1.726059] [Elapsed time: 1255.81s]\n",
            "[Epoch 124/200] [D loss: 0.455531] [G loss: 3.924061] [Elapsed time: 1266.16s]\n",
            "[Epoch 125/200] [D loss: 0.209630] [G loss: 1.805305] [Elapsed time: 1276.78s]\n",
            "[Epoch 126/200] [D loss: 0.254578] [G loss: 1.984038] [Elapsed time: 1286.52s]\n",
            "[Epoch 127/200] [D loss: 0.321890] [G loss: 1.272274] [Elapsed time: 1296.51s]\n",
            "[Epoch 128/200] [D loss: 0.284004] [G loss: 1.644898] [Elapsed time: 1306.93s]\n",
            "[Epoch 129/200] [D loss: 0.257436] [G loss: 1.981974] [Elapsed time: 1317.20s]\n",
            "[Epoch 130/200] [D loss: 0.281287] [G loss: 2.397702] [Elapsed time: 1327.39s]\n",
            "[Epoch 131/200] [D loss: 0.247701] [G loss: 2.008154] [Elapsed time: 1337.28s]\n",
            "[Epoch 132/200] [D loss: 0.277231] [G loss: 1.903594] [Elapsed time: 1347.25s]\n",
            "[Epoch 133/200] [D loss: 0.223480] [G loss: 3.101498] [Elapsed time: 1357.11s]\n",
            "[Epoch 134/200] [D loss: 0.176452] [G loss: 3.323663] [Elapsed time: 1367.07s]\n",
            "[Epoch 135/200] [D loss: 0.249820] [G loss: 2.064453] [Elapsed time: 1376.97s]\n",
            "[Epoch 136/200] [D loss: 0.388801] [G loss: 1.343506] [Elapsed time: 1386.95s]\n",
            "[Epoch 137/200] [D loss: 0.245231] [G loss: 2.068107] [Elapsed time: 1396.82s]\n",
            "[Epoch 138/200] [D loss: 0.358356] [G loss: 3.902420] [Elapsed time: 1406.94s]\n",
            "[Epoch 139/200] [D loss: 0.291127] [G loss: 1.609843] [Elapsed time: 1417.09s]\n",
            "[Epoch 140/200] [D loss: 0.370505] [G loss: 2.673918] [Elapsed time: 1427.03s]\n",
            "[Epoch 141/200] [D loss: 0.245972] [G loss: 1.900020] [Elapsed time: 1437.03s]\n",
            "[Epoch 142/200] [D loss: 0.292512] [G loss: 1.829350] [Elapsed time: 1447.16s]\n",
            "[Epoch 143/200] [D loss: 0.263910] [G loss: 2.072593] [Elapsed time: 1457.27s]\n",
            "[Epoch 144/200] [D loss: 0.280306] [G loss: 2.920317] [Elapsed time: 1467.24s]\n",
            "[Epoch 145/200] [D loss: 0.182977] [G loss: 1.945419] [Elapsed time: 1476.88s]\n",
            "[Epoch 146/200] [D loss: 0.243821] [G loss: 2.088154] [Elapsed time: 1487.57s]\n",
            "[Epoch 147/200] [D loss: 0.257501] [G loss: 2.257116] [Elapsed time: 1497.66s]\n",
            "[Epoch 148/200] [D loss: 0.267175] [G loss: 1.548573] [Elapsed time: 1507.66s]\n",
            "[Epoch 149/200] [D loss: 0.357386] [G loss: 1.495351] [Elapsed time: 1517.46s]\n",
            "[Epoch 150/200] [D loss: 0.217732] [G loss: 1.927502] [Elapsed time: 1527.46s]\n",
            "[Epoch 151/200] [D loss: 0.257219] [G loss: 2.052252] [Elapsed time: 1537.66s]\n",
            "[Epoch 152/200] [D loss: 0.236465] [G loss: 1.987192] [Elapsed time: 1547.64s]\n",
            "[Epoch 153/200] [D loss: 0.215896] [G loss: 2.542796] [Elapsed time: 1557.80s]\n",
            "[Epoch 154/200] [D loss: 0.264371] [G loss: 1.604827] [Elapsed time: 1568.16s]\n",
            "[Epoch 155/200] [D loss: 0.202422] [G loss: 2.312303] [Elapsed time: 1578.31s]\n",
            "[Epoch 156/200] [D loss: 0.307203] [G loss: 3.315405] [Elapsed time: 1588.22s]\n",
            "[Epoch 157/200] [D loss: 0.228258] [G loss: 2.620376] [Elapsed time: 1598.22s]\n",
            "[Epoch 158/200] [D loss: 0.234840] [G loss: 2.451192] [Elapsed time: 1608.29s]\n",
            "[Epoch 159/200] [D loss: 0.227718] [G loss: 1.951284] [Elapsed time: 1618.34s]\n",
            "[Epoch 160/200] [D loss: 0.279434] [G loss: 2.007646] [Elapsed time: 1628.35s]\n",
            "[Epoch 161/200] [D loss: 0.202659] [G loss: 2.816029] [Elapsed time: 1638.30s]\n",
            "[Epoch 162/200] [D loss: 0.272166] [G loss: 2.229966] [Elapsed time: 1648.23s]\n",
            "[Epoch 163/200] [D loss: 0.210663] [G loss: 2.362666] [Elapsed time: 1658.70s]\n",
            "[Epoch 164/200] [D loss: 0.260506] [G loss: 2.330930] [Elapsed time: 1668.85s]\n",
            "[Epoch 165/200] [D loss: 0.222911] [G loss: 1.991559] [Elapsed time: 1678.83s]\n",
            "[Epoch 166/200] [D loss: 0.214601] [G loss: 2.317587] [Elapsed time: 1689.06s]\n",
            "[Epoch 167/200] [D loss: 0.218237] [G loss: 2.912397] [Elapsed time: 1699.14s]\n",
            "[Epoch 168/200] [D loss: 0.252111] [G loss: 2.021818] [Elapsed time: 1709.06s]\n",
            "[Epoch 169/200] [D loss: 0.419363] [G loss: 1.199884] [Elapsed time: 1719.00s]\n",
            "[Epoch 170/200] [D loss: 0.196215] [G loss: 2.175339] [Elapsed time: 1728.96s]\n",
            "[Epoch 171/200] [D loss: 0.260625] [G loss: 2.650696] [Elapsed time: 1739.10s]\n",
            "[Epoch 172/200] [D loss: 0.190059] [G loss: 2.598500] [Elapsed time: 1749.02s]\n",
            "[Epoch 173/200] [D loss: 0.263935] [G loss: 2.563737] [Elapsed time: 1759.33s]\n",
            "[Epoch 174/200] [D loss: 0.229804] [G loss: 2.053503] [Elapsed time: 1769.27s]\n",
            "[Epoch 175/200] [D loss: 0.237578] [G loss: 2.645626] [Elapsed time: 1779.20s]\n",
            "[Epoch 176/200] [D loss: 0.260011] [G loss: 1.952383] [Elapsed time: 1789.65s]\n",
            "[Epoch 177/200] [D loss: 0.195474] [G loss: 3.044740] [Elapsed time: 1799.67s]\n",
            "[Epoch 178/200] [D loss: 0.197740] [G loss: 2.614371] [Elapsed time: 1809.51s]\n",
            "[Epoch 179/200] [D loss: 0.227378] [G loss: 2.348110] [Elapsed time: 1819.22s]\n",
            "[Epoch 180/200] [D loss: 0.233655] [G loss: 2.020581] [Elapsed time: 1829.24s]\n",
            "[Epoch 181/200] [D loss: 0.225203] [G loss: 1.562209] [Elapsed time: 1839.30s]\n",
            "[Epoch 182/200] [D loss: 0.236371] [G loss: 1.989155] [Elapsed time: 1849.22s]\n",
            "[Epoch 183/200] [D loss: 0.291816] [G loss: 1.438540] [Elapsed time: 1859.23s]\n",
            "[Epoch 184/200] [D loss: 0.185349] [G loss: 2.476040] [Elapsed time: 1869.26s]\n",
            "[Epoch 185/200] [D loss: 0.204496] [G loss: 2.769254] [Elapsed time: 1879.33s]\n",
            "[Epoch 186/200] [D loss: 0.203240] [G loss: 2.276714] [Elapsed time: 1889.38s]\n",
            "[Epoch 187/200] [D loss: 0.212299] [G loss: 2.873985] [Elapsed time: 1899.45s]\n",
            "[Epoch 188/200] [D loss: 0.211445] [G loss: 1.831225] [Elapsed time: 1909.87s]\n",
            "[Epoch 189/200] [D loss: 0.246945] [G loss: 1.779052] [Elapsed time: 1920.48s]\n",
            "[Epoch 190/200] [D loss: 0.273364] [G loss: 2.439735] [Elapsed time: 1930.75s]\n",
            "[Epoch 191/200] [D loss: 0.183525] [G loss: 3.021753] [Elapsed time: 1940.70s]\n",
            "[Epoch 192/200] [D loss: 0.157700] [G loss: 2.564773] [Elapsed time: 1950.38s]\n",
            "[Epoch 193/200] [D loss: 0.307834] [G loss: 2.186715] [Elapsed time: 1960.45s]\n",
            "[Epoch 194/200] [D loss: 0.321012] [G loss: 3.779325] [Elapsed time: 1970.22s]\n",
            "[Epoch 195/200] [D loss: 0.228069] [G loss: 2.936681] [Elapsed time: 1980.12s]\n",
            "[Epoch 196/200] [D loss: 0.188359] [G loss: 2.713186] [Elapsed time: 1990.07s]\n",
            "[Epoch 197/200] [D loss: 0.164167] [G loss: 3.274054] [Elapsed time: 1999.93s]\n",
            "[Epoch 198/200] [D loss: 0.188480] [G loss: 2.733933] [Elapsed time: 2009.73s]\n",
            "[Epoch 199/200] [D loss: 0.234814] [G loss: 2.139852] [Elapsed time: 2019.99s]\n"
          ],
          "name": "stdout"
        }
      ]
    },
    {
      "cell_type": "markdown",
      "metadata": {
        "id": "dKhzqw6U8u-H"
      },
      "source": [
        "* 생성된 이미지 예시를 출력합니다."
      ]
    },
    {
      "cell_type": "code",
      "metadata": {
        "colab": {
          "base_uri": "https://localhost:8080/",
          "height": 169
        },
        "id": "FeC3eMGa8vc1",
        "outputId": "bd2945f0-46d8-450b-aee2-d2cc0f2c6f6f"
      },
      "source": [
        "from IPython.display import Image\r\n",
        "\r\n",
        "Image('92000.png')"
      ],
      "execution_count": null,
      "outputs": [
        {
          "output_type": "execute_result",
          "data": {
            "image/png": "[encoded data removed]",
            "text/plain": [
              "<IPython.core.display.Image object>"
            ]
          },
          "metadata": {
            "tags": []
          },
          "execution_count": 9
        }
      ]
    }
  ]
}