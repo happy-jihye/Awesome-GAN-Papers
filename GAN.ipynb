{
  "nbformat": 4,
  "nbformat_minor": 0,
  "metadata": {
    "accelerator": "GPU",
    "colab": {
      "name": "GAN",
      "provenance": [],
      "collapsed_sections": [],
      "include_colab_link": true
    },
    "kernelspec": {
      "display_name": "Python 3",
      "name": "python3"
    }
  },
  "cells": [
    {
      "cell_type": "markdown",
      "metadata": {
        "id": "view-in-github",
        "colab_type": "text"
      },
      "source": [
        "<a href=\"https://colab.research.google.com/github/happy-jihye/GAN/blob/main/GAN.ipynb\" target=\"_parent\"><img src=\"https://colab.research.google.com/assets/colab-badge.svg\" alt=\"Open In Colab\"/></a>"
      ]
    },
    {
      "cell_type": "markdown",
      "metadata": {
        "id": "xrUqXYEepD0o"
      },
      "source": [
        "### GAN 실습\r\n",
        "\r\n",
        "- [Generative Adversarial Networks (NIPS 2014)](https://arxiv.org/abs/1406.2661)\r\n",
        "\r\n",
        "> - 2021/03/12 Happy-jihye\r\n",
        "> - **Reference** : [eriklindernoren/PyTorch-GAN](https://github.com/eriklindernoren/PyTorch-GAN/blob/master/implementations/gan/gan.py)\r\n",
        "\r\n",
        "---\r\n"
      ]
    },
    {
      "cell_type": "markdown",
      "metadata": {
        "id": "a2SWq7FCwzn2"
      },
      "source": [
        "**GAN - minimax two player game**\r\n",
        "- Generative Adversarial Networks(GAN)은 adversarial process를 적용한 생성모델입니다. 주어진 입력 데이터와 유사한 데이터를 생성하는 것을 목표로 하며, Generator model과 Discriminative model이 경쟁하며 서로의 성능을 높여가는 재미있는 모델입니다. \r\n",
        "  - paper에서 나온 예시를 들면, 생성자 모델은 위조 지폐를 만드는 사람들과 유사하며, 판별자 모델은 위조지폐를 발견하는 경찰과 유사합니다. 생성자는 최대한 기존의 데이터(실제 지폐)와 유사한 지폐를 만들려고 노력하고, 판별자는 데이터 샘플이 모델 분포에서 왔는지(위조지폐), 실제 데이터 분포에서 왔는지(실제 지폐) 판별합니다.\r\n",
        "  ![](images/gan3.png)\r\n",
        "\r\n",
        "**Discirminative model**\r\n",
        "![](images/gan1.png)\r\n",
        "- 판별자는 이미지가 실제 data인지, 생성된 data인지를 판별한 후에 loss값을 계산합니다."
      ]
    },
    {
      "cell_type": "code",
      "metadata": {
        "id": "CiRb7M3naHyo"
      },
      "source": [
        "import torch\r\n",
        "import torch.nn as nn\r\n",
        "\r\n",
        "import numpy as np\r\n",
        "\r\n",
        "# for MNIST data\r\n",
        "import torchvision\r\n",
        "from torchvision import datasets\r\n",
        "import torchvision.transforms as transforms\r\n",
        "from torchvision.utils import save_image\r\n",
        "from torch.autograd import Variable\r\n",
        "\r\n",
        "\r\n",
        "import matplotlib.pyplot as plt"
      ],
      "execution_count": 22,
      "outputs": []
    },
    {
      "cell_type": "markdown",
      "metadata": {
        "id": "NOilX0rBqJXn"
      },
      "source": [
        "## **Loading MNIST Data**"
      ]
    },
    {
      "cell_type": "markdown",
      "metadata": {
        "id": "zo-9EdL8yE1F"
      },
      "source": [
        "- 이번 예제에서는 실제 MNIST training images를 활용하여 MNIST 숫자를 생성하는 GAN model을 만들 예정입니다.\r\n",
        "- [How to Build a Streaming DataLoader with PyTorch](https://medium.com/speechmatics/how-to-build-a-streaming-dataloader-with-pytorch-a66dd891d9dd)"
      ]
    },
    {
      "cell_type": "code",
      "metadata": {
        "id": "HrhXIwtAqM7H",
        "colab": {
          "base_uri": "https://localhost:8080/"
        },
        "outputId": "f6eb978f-e967-43b3-d228-2577c703bc56"
      },
      "source": [
        "# download the MINST data\r\n",
        "\r\n",
        "batch_size = 64\r\n",
        "\r\n",
        "transforms_train = transforms.Compose([\r\n",
        "    transforms.Resize(28),\r\n",
        "    transforms.ToTensor(), # data를 pytorch의 tensor형식으로 바꿉니다\r\n",
        "    transforms.Normalize([0.5], [0.5]) # 픽셀값을 0 ~ 1에서 -1 ~ 1 로 바꿔줍니다.\r\n",
        "])\r\n",
        "\r\n",
        "train_dataset = datasets.MNIST(root=\"./dataset\", train=True, download=True, transform=transforms_train)\r\n",
        "\r\n",
        "# data를 batch size만큼만 가져오는 dataloader를 만듭니다.\r\n",
        "dataloader = torch.utils.data.DataLoader(train_dataset, batch_size = batch_size, shuffle=True, num_workers=4)"
      ],
      "execution_count": 13,
      "outputs": [
        {
          "output_type": "stream",
          "text": [
            "/usr/local/lib/python3.7/dist-packages/torch/utils/data/dataloader.py:477: UserWarning: This DataLoader will create 4 worker processes in total. Our suggested max number of worker in current system is 2, which is smaller than what this DataLoader is going to create. Please be aware that excessive worker creation might get DataLoader running slow or even freeze, lower the worker number to avoid potential slowness/freeze if necessary.\n",
            "  cpuset_checked))\n"
          ],
          "name": "stderr"
        }
      ]
    },
    {
      "cell_type": "markdown",
      "metadata": {
        "id": "oEKSLFR90OBi"
      },
      "source": [
        "- 하나의 batch에 들어있는 mnist data를 출력해보았습니다."
      ]
    },
    {
      "cell_type": "code",
      "metadata": {
        "colab": {
          "base_uri": "https://localhost:8080/",
          "height": 362
        },
        "id": "hpPi14eUzLWI",
        "outputId": "97a5847c-881f-4f32-f86c-0e164ae46199"
      },
      "source": [
        "images, labels = next(iter(dataloader))\r\n",
        "img = torchvision.utils.make_grid(images)\r\n",
        "\r\n",
        "img = img.numpy().transpose(1,2,0)\r\n",
        "std = [0.5,0.5,0.5]\r\n",
        "mean = [0.5,0.5,0.5]\r\n",
        "img = img*std+mean\r\n",
        "print([labels[i] for i in range(64)])\r\n",
        "plt.imshow(img)"
      ],
      "execution_count": 15,
      "outputs": [
        {
          "output_type": "stream",
          "text": [
            "/usr/local/lib/python3.7/dist-packages/torch/utils/data/dataloader.py:477: UserWarning: This DataLoader will create 4 worker processes in total. Our suggested max number of worker in current system is 2, which is smaller than what this DataLoader is going to create. Please be aware that excessive worker creation might get DataLoader running slow or even freeze, lower the worker number to avoid potential slowness/freeze if necessary.\n",
            "  cpuset_checked))\n"
          ],
          "name": "stderr"
        },
        {
          "output_type": "stream",
          "text": [
            "[tensor(3), tensor(0), tensor(2), tensor(4), tensor(1), tensor(5), tensor(8), tensor(6), tensor(2), tensor(3), tensor(3), tensor(4), tensor(5), tensor(3), tensor(3), tensor(6), tensor(4), tensor(2), tensor(4), tensor(0), tensor(1), tensor(9), tensor(7), tensor(0), tensor(2), tensor(0), tensor(1), tensor(2), tensor(1), tensor(9), tensor(6), tensor(0), tensor(5), tensor(0), tensor(9), tensor(9), tensor(3), tensor(7), tensor(0), tensor(3), tensor(3), tensor(2), tensor(1), tensor(0), tensor(8), tensor(8), tensor(8), tensor(0), tensor(9), tensor(1), tensor(9), tensor(9), tensor(1), tensor(2), tensor(3), tensor(0), tensor(2), tensor(1), tensor(9), tensor(7), tensor(5), tensor(1), tensor(1), tensor(5)]\n"
          ],
          "name": "stdout"
        },
        {
          "output_type": "execute_result",
          "data": {
            "text/plain": [
              "<matplotlib.image.AxesImage at 0x7f2021257c50>"
            ]
          },
          "metadata": {
            "tags": []
          },
          "execution_count": 15
        },
        {
          "output_type": "display_data",
          "data": {
            "image/png": "[encoded data removed]",
            "text/plain": [
              "<Figure size 432x288 with 1 Axes>"
            ]
          },
          "metadata": {
            "tags": [],
            "needs_background": "light"
          }
        }
      ]
    },
    {
      "cell_type": "code",
      "metadata": {
        "id": "ONQYN5Neow0A"
      },
      "source": [
        "# image \r\n",
        "\r\n",
        "channels = 1\r\n",
        "img_size = 28\r\n",
        "\r\n",
        "img_shape = (channels, img_size, img_size)"
      ],
      "execution_count": 16,
      "outputs": []
    },
    {
      "cell_type": "markdown",
      "metadata": {
        "id": "tp4hbA95pihv"
      },
      "source": [
        "##  Generator"
      ]
    },
    {
      "cell_type": "markdown",
      "metadata": {
        "id": "04p59hut8L3S"
      },
      "source": [
        "- 생성자는 random vector *'z'*를 입력받아 가짜 이미지를 출력하는 함수입니다. 여기서 'z'는 정규분포(Normal Distribution)에서 무작위로 추출한 값으로, z vector가 존재하는 공간을 잠재공간(latent space)라고 부릅니다.\r\n",
        "  - 이 튜토리얼에서는 잠재공간의 크기를 100으로 뒀으며, 잠재공간의 크기에는 제한이 없으나 나타내려고 하는 대상의 정보를 충분히 담을 수 있을 만큼 커야합니다.\r\n",
        "- 즉, 생성자는 단순한 분포에서 사람 얼굴 이미지와 같은 복잡한 분포로 mapping하는 함수라고 볼 수 있습니다.\r\n",
        "![](images/gan4.png)\r\n",
        "\r\n",
        "- 생성자에 충분히 많은 매개변수를 확보하기 위해 여러개의 layer를 쌓아서 생성자를 만들었습니다.\r\n",
        "- [참고](https://dreamgonfly.github.io/blog/gan-explained/)"
      ]
    },
    {
      "cell_type": "code",
      "metadata": {
        "id": "Hj5al6cTZES1"
      },
      "source": [
        "# dimensionality of the latent space\r\n",
        "# latent vector를 추출하기 위한 noise 분포의 dimension (정규분포를 따름)\r\n",
        "latent_dim = 100\r\n",
        "\r\n",
        "class Generator(nn.Module):\r\n",
        "    def __init__(self):\r\n",
        "        super(Generator, self).__init__()\r\n",
        "\r\n",
        "        def block(input_dim, output_dim, normalize=True):\r\n",
        "            layers = [nn.Linear(input_dim, output_dim)]\r\n",
        "            if normalize:\r\n",
        "                layers.append(nn.BatchNorm1d(output_dim, 0.8))\r\n",
        "            layers.append(nn.LeakyReLU(0.2, inplace=True))\r\n",
        "            return layers\r\n",
        "\r\n",
        "        # generater의 model은 여러개의 block을 쌓아서 만들어짐\r\n",
        "        self.model = nn.Sequential(\r\n",
        "            *block(latent_dim, 128, normalize=False),\r\n",
        "            *block(128, 256),\r\n",
        "            *block(256, 512),\r\n",
        "            *block(512, 1024),\r\n",
        "            nn.Linear(1024, int(np.prod(img_shape))),\r\n",
        "            nn.Tanh() \r\n",
        "        )\r\n",
        "\r\n",
        "    def forward(self, z): \r\n",
        "        # z : input noise vector \r\n",
        "        img = self.model(z)\r\n",
        "        img = img.view(img.size(0), *img_shape)\r\n",
        "        return img"
      ],
      "execution_count": 17,
      "outputs": []
    },
    {
      "cell_type": "markdown",
      "metadata": {
        "id": "znyoFjUCprGO"
      },
      "source": [
        "## Discriminator"
      ]
    },
    {
      "cell_type": "markdown",
      "metadata": {
        "id": "_igjRTeQ5Xbz"
      },
      "source": [
        "![](images/gan2.png)"
      ]
    },
    {
      "cell_type": "code",
      "metadata": {
        "id": "M_kvtvOhaLX6"
      },
      "source": [
        "class Discriminator(nn.Module):\r\n",
        "    def __init__(self):\r\n",
        "        super(Discriminator, self).__init__()\r\n",
        "\r\n",
        "        self.model = nn.Sequential(\r\n",
        "            nn.Linear(int(np.prod(img_shape)), 512),\r\n",
        "            nn.LeakyReLU(0.2, inplace=True),\r\n",
        "            nn.Linear(512, 256),\r\n",
        "            nn.LeakyReLU(0.2, inplace=True),\r\n",
        "            nn.Linear(256, 1),\r\n",
        "            nn.Sigmoid(),\r\n",
        "        )\r\n",
        "\r\n",
        "    # 이미지에 대한 판별 결과를 반환\r\n",
        "    def forward(self, img):\r\n",
        "        img_flat = img.view(img.size(0), -1)\r\n",
        "        validity = self.model(img_flat)\r\n",
        "\r\n",
        "        return validity"
      ],
      "execution_count": 18,
      "outputs": []
    },
    {
      "cell_type": "markdown",
      "metadata": {
        "id": "K54Z7PNIqTkO"
      },
      "source": [
        "## Loss Function & Optimizer\r\n",
        "\r\n",
        "- 손실 함수로는 Binary Cross Entropy를, 최적화 함수로는 Adam을 사용합니다."
      ]
    },
    {
      "cell_type": "code",
      "metadata": {
        "id": "tBZf0BmBaN7l"
      },
      "source": [
        "''' Hyper parameter '''\r\n",
        "# learning rate\r\n",
        "lr = 0.0002\r\n",
        "\r\n",
        "# decay of first order momentum of gradient\r\n",
        "b1 = 0.5\r\n",
        "b2 = 0.999\r\n",
        "\r\n",
        "\r\n",
        "# Initialize generator and discriminator\r\n",
        "generator = Generator()\r\n",
        "discriminator = Discriminator()\r\n",
        "\r\n",
        "# Loss function\r\n",
        "adversarial_loss = nn.BCELoss()\r\n",
        "\r\n",
        "# Adam Optimizer\r\n",
        "optimizer_G = torch.optim.Adam(generator.parameters(), lr=lr, betas=(b1, b2))\r\n",
        "optimizer_D = torch.optim.Adam(discriminator.parameters(), lr=lr, betas=(b1, b2))"
      ],
      "execution_count": 19,
      "outputs": []
    },
    {
      "cell_type": "code",
      "metadata": {
        "id": "KanyJ4VjrCUl"
      },
      "source": [
        "# GPU\r\n",
        "cuda = True if torch.cuda.is_available() else False\r\n",
        "\r\n",
        "if cuda : \r\n",
        "  generator.cuda()\r\n",
        "  discriminator.cuda()\r\n",
        "  adversarial_loss.cuda()"
      ],
      "execution_count": 20,
      "outputs": []
    },
    {
      "cell_type": "markdown",
      "metadata": {
        "id": "F9ThAQIOt-74"
      },
      "source": [
        "# Training"
      ]
    },
    {
      "cell_type": "markdown",
      "metadata": {
        "id": "IkTiFOyW6coh"
      },
      "source": [
        "- GAN model에서는 근사적인 추론이나 Markov chains을 사용하지 않고, back-propagation만을 이용하여 gradient를 업데이트합니다."
      ]
    },
    {
      "cell_type": "code",
      "metadata": {
        "colab": {
          "base_uri": "https://localhost:8080/"
        },
        "id": "srQI5xI6ar-X",
        "outputId": "1658b1ea-c3b1-45a9-aa5d-77b940ba7435"
      },
      "source": [
        "import time\r\n",
        "\r\n",
        "# number of epochs of training\r\n",
        "n_epochs = 200 \r\n",
        "\r\n",
        "# interval between image samples\r\n",
        "sample_interval = 2000 \r\n",
        "\r\n",
        "start_time = time.time()\r\n",
        "\r\n",
        "Tensor = torch.cuda.FloatTensor if cuda else torch.FloatTensor\r\n",
        "\r\n",
        "\r\n",
        "for epoch in range(n_epochs):\r\n",
        "    for i, (imgs, _) in enumerate(dataloader):\r\n",
        "\r\n",
        "        # Adversarial ground truths\r\n",
        "        ## 실제 이미지는 1로, 가짜 이미지는 0으로 label됩니다. \r\n",
        "        real = Variable(Tensor(imgs.size(0), 1).fill_(1.0), requires_grad=False)\r\n",
        "        fake = Variable(Tensor(imgs.size(0), 1).fill_(0.0), requires_grad=False)\r\n",
        "\r\n",
        "        # Configure input\r\n",
        "        real_imgs = Variable(imgs.type(Tensor))\r\n",
        "\r\n",
        "        # -----------------\r\n",
        "        #  Train Generator\r\n",
        "        # -----------------\r\n",
        "\r\n",
        "        optimizer_G.zero_grad()\r\n",
        "\r\n",
        "        # Sample noise as generator input\r\n",
        "        z = Variable(Tensor(np.random.normal(0, 1, (imgs.shape[0], latent_dim))))\r\n",
        "\r\n",
        "        # Generate a batch of images\r\n",
        "        ## random sampling한 값인 z를 생성자에 넣어 이미지를 생성합니다.\r\n",
        "        generated_imgs = generator(z)\r\n",
        "\r\n",
        "        # Loss measures generator's ability to fool the discriminator\r\n",
        "        ## 생성된 이미지를 discriminator가 판별하게 한 후, loss값을 계산합니다.\r\n",
        "        g_loss = adversarial_loss(discriminator(generated_imgs), real)\r\n",
        "\r\n",
        "        # 생성자(generator) 업데이트\r\n",
        "        g_loss.backward()\r\n",
        "        optimizer_G.step()\r\n",
        "\r\n",
        "        # ---------------------\r\n",
        "        #  Train Discriminator\r\n",
        "        # ---------------------\r\n",
        "\r\n",
        "        optimizer_D.zero_grad()\r\n",
        "\r\n",
        "        # Measure discriminator's ability to classify real from generated samples\r\n",
        "        ## 실제 이미지는 real(1)로, 가짜 이미지는 fake(0)으로 판별하도록 계산합니다.\r\n",
        "        real_loss = adversarial_loss(discriminator(real_imgs), real)\r\n",
        "        fake_loss = adversarial_loss(discriminator(generated_imgs.detach()), fake)\r\n",
        "        d_loss = (real_loss + fake_loss) / 2\r\n",
        "\r\n",
        "        # 판별자(discriminator) 업데이트\r\n",
        "        d_loss.backward()\r\n",
        "        optimizer_D.step()\r\n",
        "\r\n",
        "        done = epoch * len(dataloader) + i\r\n",
        "        if done % sample_interval == 0:\r\n",
        "            # 생성된 이미지 중에서 25개만 선택하여 5 X 5 격자 이미지에 출력\r\n",
        "            save_image(generated_imgs.data[:25], f\"{done}.png\", nrow=5, normalize=True)\r\n",
        "\r\n",
        "    # 하나의 epoch이 끝날 때마다 로그(log) 출력\r\n",
        "    print(f\"[Epoch {epoch}/{n_epochs}] [D loss: {d_loss.item():.6f}] [G loss: {g_loss.item():.6f}] [Elapsed time: {time.time() - start_time:.2f}s]\")"
      ],
      "execution_count": 26,
      "outputs": [
        {
          "output_type": "stream",
          "text": [
            "/usr/local/lib/python3.7/dist-packages/torch/utils/data/dataloader.py:477: UserWarning: This DataLoader will create 4 worker processes in total. Our suggested max number of worker in current system is 2, which is smaller than what this DataLoader is going to create. Please be aware that excessive worker creation might get DataLoader running slow or even freeze, lower the worker number to avoid potential slowness/freeze if necessary.\n",
            "  cpuset_checked))\n"
          ],
          "name": "stderr"
        },
        {
          "output_type": "stream",
          "text": [
            "[Epoch 0/200] [D loss: 0.471759] [G loss: 2.498926] [Elapsed time: 14.76s]\n",
            "[Epoch 1/200] [D loss: 0.258078] [G loss: 1.360531] [Elapsed time: 29.48s]\n",
            "[Epoch 2/200] [D loss: 0.506363] [G loss: 0.565381] [Elapsed time: 44.00s]\n",
            "[Epoch 3/200] [D loss: 0.160770] [G loss: 2.556153] [Elapsed time: 58.55s]\n",
            "[Epoch 4/200] [D loss: 0.264552] [G loss: 0.989236] [Elapsed time: 73.20s]\n",
            "[Epoch 5/200] [D loss: 0.133583] [G loss: 2.088663] [Elapsed time: 87.77s]\n",
            "[Epoch 6/200] [D loss: 0.186072] [G loss: 1.772844] [Elapsed time: 102.10s]\n",
            "[Epoch 7/200] [D loss: 0.153044] [G loss: 2.998716] [Elapsed time: 116.41s]\n",
            "[Epoch 8/200] [D loss: 0.232274] [G loss: 2.617228] [Elapsed time: 130.92s]\n",
            "[Epoch 9/200] [D loss: 0.122365] [G loss: 3.231926] [Elapsed time: 145.17s]\n",
            "[Epoch 10/200] [D loss: 0.302830] [G loss: 5.149670] [Elapsed time: 159.31s]\n",
            "[Epoch 11/200] [D loss: 0.175924] [G loss: 1.710651] [Elapsed time: 173.71s]\n",
            "[Epoch 12/200] [D loss: 1.077994] [G loss: 10.032361] [Elapsed time: 187.91s]\n",
            "[Epoch 13/200] [D loss: 0.379605] [G loss: 6.249554] [Elapsed time: 202.06s]\n",
            "[Epoch 14/200] [D loss: 0.100095] [G loss: 2.171618] [Elapsed time: 215.95s]\n",
            "[Epoch 15/200] [D loss: 0.131309] [G loss: 2.922925] [Elapsed time: 229.88s]\n",
            "[Epoch 16/200] [D loss: 0.156259] [G loss: 1.939096] [Elapsed time: 243.95s]\n",
            "[Epoch 17/200] [D loss: 0.302560] [G loss: 1.398404] [Elapsed time: 257.98s]\n",
            "[Epoch 18/200] [D loss: 0.063372] [G loss: 3.705532] [Elapsed time: 272.06s]\n",
            "[Epoch 19/200] [D loss: 0.190959] [G loss: 2.096316] [Elapsed time: 286.03s]\n",
            "[Epoch 20/200] [D loss: 0.229849] [G loss: 1.572154] [Elapsed time: 300.00s]\n",
            "[Epoch 21/200] [D loss: 0.152074] [G loss: 1.752552] [Elapsed time: 313.74s]\n",
            "[Epoch 22/200] [D loss: 0.283679] [G loss: 2.254345] [Elapsed time: 327.80s]\n",
            "[Epoch 23/200] [D loss: 0.188353] [G loss: 3.146157] [Elapsed time: 341.79s]\n",
            "[Epoch 24/200] [D loss: 1.029916] [G loss: 6.659109] [Elapsed time: 355.67s]\n",
            "[Epoch 25/200] [D loss: 0.161970] [G loss: 2.446658] [Elapsed time: 369.52s]\n",
            "[Epoch 26/200] [D loss: 0.156872] [G loss: 1.990241] [Elapsed time: 383.30s]\n",
            "[Epoch 27/200] [D loss: 0.371905] [G loss: 3.593179] [Elapsed time: 397.24s]\n",
            "[Epoch 28/200] [D loss: 0.111382] [G loss: 4.116124] [Elapsed time: 411.14s]\n",
            "[Epoch 29/200] [D loss: 0.470980] [G loss: 0.708848] [Elapsed time: 425.05s]\n",
            "[Epoch 30/200] [D loss: 0.030144] [G loss: 4.262062] [Elapsed time: 438.89s]\n",
            "[Epoch 31/200] [D loss: 0.367642] [G loss: 1.317938] [Elapsed time: 452.90s]\n",
            "[Epoch 32/200] [D loss: 0.912699] [G loss: 9.361526] [Elapsed time: 466.81s]\n",
            "[Epoch 33/200] [D loss: 0.036981] [G loss: 3.532357] [Elapsed time: 480.66s]\n",
            "[Epoch 34/200] [D loss: 0.155981] [G loss: 3.499463] [Elapsed time: 494.95s]\n",
            "[Epoch 35/200] [D loss: 0.085159] [G loss: 6.146234] [Elapsed time: 508.91s]\n",
            "[Epoch 36/200] [D loss: 0.089109] [G loss: 2.662564] [Elapsed time: 522.84s]\n",
            "[Epoch 37/200] [D loss: 0.095351] [G loss: 2.941463] [Elapsed time: 536.67s]\n",
            "[Epoch 38/200] [D loss: 0.089700] [G loss: 2.609955] [Elapsed time: 550.68s]\n",
            "[Epoch 39/200] [D loss: 0.152116] [G loss: 2.306224] [Elapsed time: 564.74s]\n",
            "[Epoch 40/200] [D loss: 0.055723] [G loss: 4.179073] [Elapsed time: 578.81s]\n",
            "[Epoch 41/200] [D loss: 0.322049] [G loss: 1.538030] [Elapsed time: 592.95s]\n",
            "[Epoch 42/200] [D loss: 0.430351] [G loss: 1.561949] [Elapsed time: 607.01s]\n",
            "[Epoch 43/200] [D loss: 0.058869] [G loss: 3.600948] [Elapsed time: 621.00s]\n",
            "[Epoch 44/200] [D loss: 0.272983] [G loss: 3.128258] [Elapsed time: 635.21s]\n",
            "[Epoch 45/200] [D loss: 0.394016] [G loss: 4.879756] [Elapsed time: 649.17s]\n",
            "[Epoch 46/200] [D loss: 0.119651] [G loss: 2.753067] [Elapsed time: 663.28s]\n",
            "[Epoch 47/200] [D loss: 0.153702] [G loss: 2.204500] [Elapsed time: 677.26s]\n",
            "[Epoch 48/200] [D loss: 0.188769] [G loss: 1.737892] [Elapsed time: 691.29s]\n",
            "[Epoch 49/200] [D loss: 0.187364] [G loss: 1.673546] [Elapsed time: 705.30s]\n",
            "[Epoch 50/200] [D loss: 0.089061] [G loss: 2.960242] [Elapsed time: 719.33s]\n",
            "[Epoch 51/200] [D loss: 0.083760] [G loss: 4.156516] [Elapsed time: 733.46s]\n",
            "[Epoch 52/200] [D loss: 0.153086] [G loss: 2.854456] [Elapsed time: 747.53s]\n",
            "[Epoch 53/200] [D loss: 0.078112] [G loss: 3.230090] [Elapsed time: 761.53s]\n",
            "[Epoch 54/200] [D loss: 0.117524] [G loss: 2.684306] [Elapsed time: 775.34s]\n",
            "[Epoch 55/200] [D loss: 0.062793] [G loss: 2.696014] [Elapsed time: 789.32s]\n",
            "[Epoch 56/200] [D loss: 0.129348] [G loss: 2.492670] [Elapsed time: 803.52s]\n",
            "[Epoch 57/200] [D loss: 0.516609] [G loss: 0.718028] [Elapsed time: 817.44s]\n",
            "[Epoch 58/200] [D loss: 0.094234] [G loss: 3.332732] [Elapsed time: 831.34s]\n",
            "[Epoch 59/200] [D loss: 0.117123] [G loss: 3.405851] [Elapsed time: 845.21s]\n",
            "[Epoch 60/200] [D loss: 0.178143] [G loss: 2.371056] [Elapsed time: 859.39s]\n",
            "[Epoch 61/200] [D loss: 0.142254] [G loss: 3.613462] [Elapsed time: 873.38s]\n",
            "[Epoch 62/200] [D loss: 0.167155] [G loss: 2.322675] [Elapsed time: 887.31s]\n",
            "[Epoch 63/200] [D loss: 0.242843] [G loss: 4.212345] [Elapsed time: 901.34s]\n",
            "[Epoch 64/200] [D loss: 0.134740] [G loss: 3.074319] [Elapsed time: 915.22s]\n",
            "[Epoch 65/200] [D loss: 0.241978] [G loss: 1.868056] [Elapsed time: 929.25s]\n",
            "[Epoch 66/200] [D loss: 0.137924] [G loss: 2.322740] [Elapsed time: 943.08s]\n",
            "[Epoch 67/200] [D loss: 0.132789] [G loss: 4.164216] [Elapsed time: 957.18s]\n",
            "[Epoch 68/200] [D loss: 0.217806] [G loss: 3.590649] [Elapsed time: 971.20s]\n",
            "[Epoch 69/200] [D loss: 0.185790] [G loss: 1.954789] [Elapsed time: 985.16s]\n",
            "[Epoch 70/200] [D loss: 0.178165] [G loss: 1.816711] [Elapsed time: 998.98s]\n",
            "[Epoch 71/200] [D loss: 0.105815] [G loss: 2.812864] [Elapsed time: 1012.62s]\n",
            "[Epoch 72/200] [D loss: 0.142102] [G loss: 2.455540] [Elapsed time: 1026.57s]\n",
            "[Epoch 73/200] [D loss: 0.140517] [G loss: 3.028923] [Elapsed time: 1040.37s]\n",
            "[Epoch 74/200] [D loss: 0.213927] [G loss: 2.788099] [Elapsed time: 1054.32s]\n",
            "[Epoch 75/200] [D loss: 0.109705] [G loss: 2.153857] [Elapsed time: 1068.19s]\n",
            "[Epoch 76/200] [D loss: 0.111131] [G loss: 4.758657] [Elapsed time: 1082.06s]\n",
            "[Epoch 77/200] [D loss: 0.173954] [G loss: 2.787045] [Elapsed time: 1096.04s]\n",
            "[Epoch 78/200] [D loss: 0.249303] [G loss: 2.955476] [Elapsed time: 1110.49s]\n",
            "[Epoch 79/200] [D loss: 0.154048] [G loss: 2.573095] [Elapsed time: 1124.71s]\n",
            "[Epoch 80/200] [D loss: 0.252817] [G loss: 2.683591] [Elapsed time: 1139.35s]\n",
            "[Epoch 81/200] [D loss: 0.141842] [G loss: 2.890982] [Elapsed time: 1153.14s]\n",
            "[Epoch 82/200] [D loss: 0.308761] [G loss: 3.286925] [Elapsed time: 1167.11s]\n",
            "[Epoch 83/200] [D loss: 0.328008] [G loss: 5.489707] [Elapsed time: 1180.88s]\n",
            "[Epoch 84/200] [D loss: 0.175508] [G loss: 3.629070] [Elapsed time: 1194.82s]\n",
            "[Epoch 85/200] [D loss: 0.143888] [G loss: 2.039110] [Elapsed time: 1208.67s]\n",
            "[Epoch 86/200] [D loss: 0.320809] [G loss: 1.220029] [Elapsed time: 1223.18s]\n",
            "[Epoch 87/200] [D loss: 0.240321] [G loss: 4.239978] [Elapsed time: 1237.72s]\n",
            "[Epoch 88/200] [D loss: 0.082273] [G loss: 3.039834] [Elapsed time: 1252.15s]\n",
            "[Epoch 89/200] [D loss: 0.078215] [G loss: 2.998454] [Elapsed time: 1266.30s]\n",
            "[Epoch 90/200] [D loss: 0.341432] [G loss: 4.797333] [Elapsed time: 1280.46s]\n",
            "[Epoch 91/200] [D loss: 0.192964] [G loss: 1.561713] [Elapsed time: 1294.60s]\n",
            "[Epoch 92/200] [D loss: 0.140088] [G loss: 1.754924] [Elapsed time: 1308.51s]\n",
            "[Epoch 93/200] [D loss: 0.230784] [G loss: 1.564927] [Elapsed time: 1322.37s]\n",
            "[Epoch 94/200] [D loss: 0.249548] [G loss: 2.059541] [Elapsed time: 1336.22s]\n",
            "[Epoch 95/200] [D loss: 0.153174] [G loss: 6.851552] [Elapsed time: 1349.90s]\n",
            "[Epoch 96/200] [D loss: 0.167460] [G loss: 3.081244] [Elapsed time: 1363.66s]\n",
            "[Epoch 97/200] [D loss: 0.303089] [G loss: 5.445709] [Elapsed time: 1377.38s]\n",
            "[Epoch 98/200] [D loss: 0.227196] [G loss: 3.169494] [Elapsed time: 1391.29s]\n",
            "[Epoch 99/200] [D loss: 0.086363] [G loss: 3.614922] [Elapsed time: 1405.06s]\n",
            "[Epoch 100/200] [D loss: 0.239604] [G loss: 4.705026] [Elapsed time: 1419.08s]\n",
            "[Epoch 101/200] [D loss: 0.254776] [G loss: 3.400284] [Elapsed time: 1433.00s]\n",
            "[Epoch 102/200] [D loss: 0.370397] [G loss: 2.207709] [Elapsed time: 1446.98s]\n",
            "[Epoch 103/200] [D loss: 0.139329] [G loss: 2.707013] [Elapsed time: 1461.05s]\n",
            "[Epoch 104/200] [D loss: 0.238719] [G loss: 3.357561] [Elapsed time: 1475.03s]\n",
            "[Epoch 105/200] [D loss: 0.143495] [G loss: 2.409102] [Elapsed time: 1488.71s]\n",
            "[Epoch 106/200] [D loss: 0.078880] [G loss: 3.850837] [Elapsed time: 1502.61s]\n",
            "[Epoch 107/200] [D loss: 0.236380] [G loss: 1.828072] [Elapsed time: 1516.56s]\n",
            "[Epoch 108/200] [D loss: 0.189249] [G loss: 2.452341] [Elapsed time: 1530.76s]\n",
            "[Epoch 109/200] [D loss: 0.129384] [G loss: 2.982568] [Elapsed time: 1544.80s]\n",
            "[Epoch 110/200] [D loss: 0.165743] [G loss: 3.545001] [Elapsed time: 1559.10s]\n",
            "[Epoch 111/200] [D loss: 0.107244] [G loss: 3.128242] [Elapsed time: 1573.50s]\n",
            "[Epoch 112/200] [D loss: 0.048370] [G loss: 2.911887] [Elapsed time: 1587.84s]\n",
            "[Epoch 113/200] [D loss: 0.127220] [G loss: 3.085252] [Elapsed time: 1602.11s]\n",
            "[Epoch 114/200] [D loss: 0.163831] [G loss: 3.713338] [Elapsed time: 1616.39s]\n",
            "[Epoch 115/200] [D loss: 0.131652] [G loss: 2.758687] [Elapsed time: 1630.76s]\n",
            "[Epoch 116/200] [D loss: 0.190050] [G loss: 3.829230] [Elapsed time: 1644.86s]\n",
            "[Epoch 117/200] [D loss: 0.329439] [G loss: 1.722775] [Elapsed time: 1659.12s]\n",
            "[Epoch 118/200] [D loss: 0.336820] [G loss: 3.093416] [Elapsed time: 1673.00s]\n",
            "[Epoch 119/200] [D loss: 0.249919] [G loss: 5.030234] [Elapsed time: 1687.24s]\n",
            "[Epoch 120/200] [D loss: 0.150939] [G loss: 2.602765] [Elapsed time: 1701.60s]\n",
            "[Epoch 121/200] [D loss: 0.340541] [G loss: 1.192826] [Elapsed time: 1716.03s]\n",
            "[Epoch 122/200] [D loss: 0.204778] [G loss: 2.319441] [Elapsed time: 1730.32s]\n",
            "[Epoch 123/200] [D loss: 0.265503] [G loss: 2.502042] [Elapsed time: 1744.79s]\n",
            "[Epoch 124/200] [D loss: 0.090079] [G loss: 4.162290] [Elapsed time: 1759.39s]\n",
            "[Epoch 125/200] [D loss: 0.128552] [G loss: 3.818121] [Elapsed time: 1773.97s]\n",
            "[Epoch 126/200] [D loss: 0.152484] [G loss: 2.551260] [Elapsed time: 1788.54s]\n",
            "[Epoch 127/200] [D loss: 0.102876] [G loss: 2.895010] [Elapsed time: 1802.87s]\n",
            "[Epoch 128/200] [D loss: 0.246319] [G loss: 2.565826] [Elapsed time: 1817.30s]\n",
            "[Epoch 129/200] [D loss: 0.253140] [G loss: 1.928526] [Elapsed time: 1831.78s]\n",
            "[Epoch 130/200] [D loss: 0.072518] [G loss: 4.683798] [Elapsed time: 1846.14s]\n",
            "[Epoch 131/200] [D loss: 0.062900] [G loss: 5.386453] [Elapsed time: 1860.76s]\n",
            "[Epoch 132/200] [D loss: 0.227559] [G loss: 2.679538] [Elapsed time: 1875.27s]\n",
            "[Epoch 133/200] [D loss: 0.056237] [G loss: 3.179911] [Elapsed time: 1889.79s]\n",
            "[Epoch 134/200] [D loss: 0.063767] [G loss: 3.168057] [Elapsed time: 1904.27s]\n",
            "[Epoch 135/200] [D loss: 0.035797] [G loss: 4.308327] [Elapsed time: 1918.74s]\n",
            "[Epoch 136/200] [D loss: 0.278662] [G loss: 3.192648] [Elapsed time: 1933.42s]\n",
            "[Epoch 137/200] [D loss: 0.174124] [G loss: 2.366418] [Elapsed time: 1947.92s]\n",
            "[Epoch 138/200] [D loss: 0.091623] [G loss: 2.577150] [Elapsed time: 1962.25s]\n",
            "[Epoch 139/200] [D loss: 0.174499] [G loss: 1.990156] [Elapsed time: 1976.78s]\n",
            "[Epoch 140/200] [D loss: 0.130902] [G loss: 2.356941] [Elapsed time: 1991.34s]\n",
            "[Epoch 141/200] [D loss: 0.146029] [G loss: 2.808218] [Elapsed time: 2005.91s]\n",
            "[Epoch 142/200] [D loss: 0.130911] [G loss: 3.724998] [Elapsed time: 2020.49s]\n",
            "[Epoch 143/200] [D loss: 0.209646] [G loss: 4.367015] [Elapsed time: 2034.87s]\n",
            "[Epoch 144/200] [D loss: 0.107683] [G loss: 3.675255] [Elapsed time: 2049.29s]\n",
            "[Epoch 145/200] [D loss: 0.203981] [G loss: 2.901490] [Elapsed time: 2063.77s]\n",
            "[Epoch 146/200] [D loss: 0.299603] [G loss: 4.134932] [Elapsed time: 2078.36s]\n",
            "[Epoch 147/200] [D loss: 0.249533] [G loss: 3.840227] [Elapsed time: 2092.74s]\n",
            "[Epoch 148/200] [D loss: 0.086836] [G loss: 2.298738] [Elapsed time: 2107.29s]\n",
            "[Epoch 149/200] [D loss: 0.115477] [G loss: 2.845057] [Elapsed time: 2121.80s]\n",
            "[Epoch 150/200] [D loss: 0.341541] [G loss: 2.399746] [Elapsed time: 2136.12s]\n",
            "[Epoch 151/200] [D loss: 0.249897] [G loss: 2.482690] [Elapsed time: 2150.77s]\n",
            "[Epoch 152/200] [D loss: 0.176051] [G loss: 5.213724] [Elapsed time: 2165.05s]\n",
            "[Epoch 153/200] [D loss: 0.244363] [G loss: 2.824422] [Elapsed time: 2179.60s]\n",
            "[Epoch 154/200] [D loss: 0.119649] [G loss: 3.096649] [Elapsed time: 2194.13s]\n",
            "[Epoch 155/200] [D loss: 0.191622] [G loss: 2.617204] [Elapsed time: 2208.52s]\n",
            "[Epoch 156/200] [D loss: 0.544389] [G loss: 1.386867] [Elapsed time: 2222.87s]\n",
            "[Epoch 157/200] [D loss: 0.320870] [G loss: 1.850879] [Elapsed time: 2237.28s]\n",
            "[Epoch 158/200] [D loss: 0.385131] [G loss: 4.852019] [Elapsed time: 2251.94s]\n",
            "[Epoch 159/200] [D loss: 0.178168] [G loss: 3.506092] [Elapsed time: 2266.32s]\n",
            "[Epoch 160/200] [D loss: 0.120640] [G loss: 2.496179] [Elapsed time: 2280.87s]\n",
            "[Epoch 161/200] [D loss: 0.235010] [G loss: 5.605097] [Elapsed time: 2295.13s]\n",
            "[Epoch 162/200] [D loss: 0.151648] [G loss: 2.366621] [Elapsed time: 2309.28s]\n",
            "[Epoch 163/200] [D loss: 0.083595] [G loss: 3.719189] [Elapsed time: 2323.48s]\n",
            "[Epoch 164/200] [D loss: 0.103325] [G loss: 3.124715] [Elapsed time: 2337.74s]\n",
            "[Epoch 165/200] [D loss: 0.159524] [G loss: 2.851463] [Elapsed time: 2352.21s]\n",
            "[Epoch 166/200] [D loss: 0.177051] [G loss: 2.758801] [Elapsed time: 2366.28s]\n",
            "[Epoch 167/200] [D loss: 0.104176] [G loss: 3.087439] [Elapsed time: 2380.59s]\n",
            "[Epoch 168/200] [D loss: 0.153967] [G loss: 2.870278] [Elapsed time: 2394.70s]\n",
            "[Epoch 169/200] [D loss: 0.212191] [G loss: 2.715330] [Elapsed time: 2408.72s]\n",
            "[Epoch 170/200] [D loss: 0.422314] [G loss: 4.900161] [Elapsed time: 2423.04s]\n",
            "[Epoch 171/200] [D loss: 0.251617] [G loss: 3.167797] [Elapsed time: 2437.43s]\n",
            "[Epoch 172/200] [D loss: 0.133705] [G loss: 2.556691] [Elapsed time: 2451.61s]\n",
            "[Epoch 173/200] [D loss: 0.201554] [G loss: 2.855657] [Elapsed time: 2465.46s]\n",
            "[Epoch 174/200] [D loss: 0.241487] [G loss: 3.035454] [Elapsed time: 2479.75s]\n",
            "[Epoch 175/200] [D loss: 0.113004] [G loss: 3.447474] [Elapsed time: 2493.79s]\n",
            "[Epoch 176/200] [D loss: 0.113280] [G loss: 2.308869] [Elapsed time: 2508.01s]\n",
            "[Epoch 177/200] [D loss: 0.098086] [G loss: 3.240656] [Elapsed time: 2522.03s]\n",
            "[Epoch 178/200] [D loss: 0.196794] [G loss: 2.010662] [Elapsed time: 2536.05s]\n",
            "[Epoch 179/200] [D loss: 0.177125] [G loss: 4.325840] [Elapsed time: 2550.18s]\n",
            "[Epoch 180/200] [D loss: 0.111857] [G loss: 2.143391] [Elapsed time: 2564.18s]\n",
            "[Epoch 181/200] [D loss: 0.243066] [G loss: 2.029562] [Elapsed time: 2578.18s]\n",
            "[Epoch 182/200] [D loss: 0.105496] [G loss: 3.798521] [Elapsed time: 2592.19s]\n",
            "[Epoch 183/200] [D loss: 0.278503] [G loss: 2.005502] [Elapsed time: 2606.21s]\n",
            "[Epoch 184/200] [D loss: 0.203799] [G loss: 3.781436] [Elapsed time: 2620.08s]\n",
            "[Epoch 185/200] [D loss: 0.143679] [G loss: 2.971976] [Elapsed time: 2634.03s]\n",
            "[Epoch 186/200] [D loss: 0.169341] [G loss: 3.042297] [Elapsed time: 2648.07s]\n",
            "[Epoch 187/200] [D loss: 0.181312] [G loss: 2.750633] [Elapsed time: 2662.16s]\n",
            "[Epoch 188/200] [D loss: 0.253715] [G loss: 4.003806] [Elapsed time: 2676.54s]\n",
            "[Epoch 189/200] [D loss: 0.112726] [G loss: 3.988058] [Elapsed time: 2690.70s]\n",
            "[Epoch 190/200] [D loss: 0.159130] [G loss: 3.213053] [Elapsed time: 2704.89s]\n",
            "[Epoch 191/200] [D loss: 0.523089] [G loss: 5.612353] [Elapsed time: 2719.04s]\n",
            "[Epoch 192/200] [D loss: 0.144144] [G loss: 2.551974] [Elapsed time: 2733.16s]\n",
            "[Epoch 193/200] [D loss: 0.067084] [G loss: 2.935313] [Elapsed time: 2747.64s]\n",
            "[Epoch 194/200] [D loss: 0.293046] [G loss: 3.061961] [Elapsed time: 2762.06s]\n",
            "[Epoch 195/200] [D loss: 0.104381] [G loss: 2.669097] [Elapsed time: 2776.57s]\n",
            "[Epoch 196/200] [D loss: 0.312934] [G loss: 4.082441] [Elapsed time: 2790.80s]\n",
            "[Epoch 197/200] [D loss: 0.239830] [G loss: 3.247385] [Elapsed time: 2805.14s]\n",
            "[Epoch 198/200] [D loss: 0.128507] [G loss: 3.124521] [Elapsed time: 2819.49s]\n",
            "[Epoch 199/200] [D loss: 0.111848] [G loss: 3.594412] [Elapsed time: 2834.25s]\n"
          ],
          "name": "stdout"
        }
      ]
    },
    {
      "cell_type": "markdown",
      "metadata": {
        "id": "dKhzqw6U8u-H"
      },
      "source": [
        "## Image"
      ]
    },
    {
      "cell_type": "code",
      "metadata": {
        "colab": {
          "base_uri": "https://localhost:8080/",
          "height": 169
        },
        "id": "FeC3eMGa8vc1",
        "outputId": "7bae2199-6017-43f8-8e7a-ca38922a31f8"
      },
      "source": [
        "from IPython.display import Image\r\n",
        "\r\n",
        "\r\n",
        "Image('104000.png')"
      ],
      "execution_count": 33,
      "outputs": [
        {
          "output_type": "execute_result",
          "data": {
            "image/png": "[encoded data removed]",
            "text/plain": [
              "<IPython.core.display.Image object>"
            ]
          },
          "metadata": {
            "tags": []
          },
          "execution_count": 33
        }
      ]
    }
  ]
}