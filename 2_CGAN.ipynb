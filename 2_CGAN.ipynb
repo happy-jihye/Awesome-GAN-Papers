{
  "nbformat": 4,
  "nbformat_minor": 0,
  "metadata": {
    "accelerator": "GPU",
    "colab": {
      "name": "2_CGAN.ipynb",
      "provenance": [],
      "collapsed_sections": [],
      "include_colab_link": true
    },
    "kernelspec": {
      "display_name": "Python 3",
      "name": "python3"
    },
    "widgets": {
      "application/vnd.jupyter.widget-state+json": {
        "6bf1f9844ddb46948a320e92fc3a6410": {
          "model_module": "@jupyter-widgets/controls",
          "model_name": "HBoxModel",
          "state": {
            "_view_name": "HBoxView",
            "_dom_classes": [],
            "_model_name": "HBoxModel",
            "_view_module": "@jupyter-widgets/controls",
            "_model_module_version": "1.5.0",
            "_view_count": null,
            "_view_module_version": "1.5.0",
            "box_style": "",
            "layout": "IPY_MODEL_6a6f4521f2824523848dad781ff8e6bb",
            "_model_module": "@jupyter-widgets/controls",
            "children": [
              "IPY_MODEL_eeaf461d9e8c442fb6d0a578fa356837",
              "IPY_MODEL_6880369d5c9e4831885ef235bc997d4e"
            ]
          }
        },
        "6a6f4521f2824523848dad781ff8e6bb": {
          "model_module": "@jupyter-widgets/base",
          "model_name": "LayoutModel",
          "state": {
            "_view_name": "LayoutView",
            "grid_template_rows": null,
            "right": null,
            "justify_content": null,
            "_view_module": "@jupyter-widgets/base",
            "overflow": null,
            "_model_module_version": "1.2.0",
            "_view_count": null,
            "flex_flow": null,
            "width": null,
            "min_width": null,
            "border": null,
            "align_items": null,
            "bottom": null,
            "_model_module": "@jupyter-widgets/base",
            "top": null,
            "grid_column": null,
            "overflow_y": null,
            "overflow_x": null,
            "grid_auto_flow": null,
            "grid_area": null,
            "grid_template_columns": null,
            "flex": null,
            "_model_name": "LayoutModel",
            "justify_items": null,
            "grid_row": null,
            "max_height": null,
            "align_content": null,
            "visibility": null,
            "align_self": null,
            "height": null,
            "min_height": null,
            "padding": null,
            "grid_auto_rows": null,
            "grid_gap": null,
            "max_width": null,
            "order": null,
            "_view_module_version": "1.2.0",
            "grid_template_areas": null,
            "object_position": null,
            "object_fit": null,
            "grid_auto_columns": null,
            "margin": null,
            "display": null,
            "left": null
          }
        },
        "eeaf461d9e8c442fb6d0a578fa356837": {
          "model_module": "@jupyter-widgets/controls",
          "model_name": "FloatProgressModel",
          "state": {
            "_view_name": "ProgressView",
            "style": "IPY_MODEL_00282b20acaa42fc87691739802b46c3",
            "_dom_classes": [],
            "description": "",
            "_model_name": "FloatProgressModel",
            "bar_style": "success",
            "max": 9912422,
            "_view_module": "@jupyter-widgets/controls",
            "_model_module_version": "1.5.0",
            "value": 9912422,
            "_view_count": null,
            "_view_module_version": "1.5.0",
            "orientation": "horizontal",
            "min": 0,
            "description_tooltip": null,
            "_model_module": "@jupyter-widgets/controls",
            "layout": "IPY_MODEL_3c640ae3aaa44a36a73fadc4318595a3"
          }
        },
        "6880369d5c9e4831885ef235bc997d4e": {
          "model_module": "@jupyter-widgets/controls",
          "model_name": "HTMLModel",
          "state": {
            "_view_name": "HTMLView",
            "style": "IPY_MODEL_86931d75e9c34bc7bcad26d9dab62cab",
            "_dom_classes": [],
            "description": "",
            "_model_name": "HTMLModel",
            "placeholder": "​",
            "_view_module": "@jupyter-widgets/controls",
            "_model_module_version": "1.5.0",
            "value": " 9913344/? [06:53&lt;00:00, 23979.15it/s]",
            "_view_count": null,
            "_view_module_version": "1.5.0",
            "description_tooltip": null,
            "_model_module": "@jupyter-widgets/controls",
            "layout": "IPY_MODEL_6064b359df2d43e6a2a54d6e3b7767bb"
          }
        },
        "00282b20acaa42fc87691739802b46c3": {
          "model_module": "@jupyter-widgets/controls",
          "model_name": "ProgressStyleModel",
          "state": {
            "_view_name": "StyleView",
            "_model_name": "ProgressStyleModel",
            "description_width": "initial",
            "_view_module": "@jupyter-widgets/base",
            "_model_module_version": "1.5.0",
            "_view_count": null,
            "_view_module_version": "1.2.0",
            "bar_color": null,
            "_model_module": "@jupyter-widgets/controls"
          }
        },
        "3c640ae3aaa44a36a73fadc4318595a3": {
          "model_module": "@jupyter-widgets/base",
          "model_name": "LayoutModel",
          "state": {
            "_view_name": "LayoutView",
            "grid_template_rows": null,
            "right": null,
            "justify_content": null,
            "_view_module": "@jupyter-widgets/base",
            "overflow": null,
            "_model_module_version": "1.2.0",
            "_view_count": null,
            "flex_flow": null,
            "width": null,
            "min_width": null,
            "border": null,
            "align_items": null,
            "bottom": null,
            "_model_module": "@jupyter-widgets/base",
            "top": null,
            "grid_column": null,
            "overflow_y": null,
            "overflow_x": null,
            "grid_auto_flow": null,
            "grid_area": null,
            "grid_template_columns": null,
            "flex": null,
            "_model_name": "LayoutModel",
            "justify_items": null,
            "grid_row": null,
            "max_height": null,
            "align_content": null,
            "visibility": null,
            "align_self": null,
            "height": null,
            "min_height": null,
            "padding": null,
            "grid_auto_rows": null,
            "grid_gap": null,
            "max_width": null,
            "order": null,
            "_view_module_version": "1.2.0",
            "grid_template_areas": null,
            "object_position": null,
            "object_fit": null,
            "grid_auto_columns": null,
            "margin": null,
            "display": null,
            "left": null
          }
        },
        "86931d75e9c34bc7bcad26d9dab62cab": {
          "model_module": "@jupyter-widgets/controls",
          "model_name": "DescriptionStyleModel",
          "state": {
            "_view_name": "StyleView",
            "_model_name": "DescriptionStyleModel",
            "description_width": "",
            "_view_module": "@jupyter-widgets/base",
            "_model_module_version": "1.5.0",
            "_view_count": null,
            "_view_module_version": "1.2.0",
            "_model_module": "@jupyter-widgets/controls"
          }
        },
        "6064b359df2d43e6a2a54d6e3b7767bb": {
          "model_module": "@jupyter-widgets/base",
          "model_name": "LayoutModel",
          "state": {
            "_view_name": "LayoutView",
            "grid_template_rows": null,
            "right": null,
            "justify_content": null,
            "_view_module": "@jupyter-widgets/base",
            "overflow": null,
            "_model_module_version": "1.2.0",
            "_view_count": null,
            "flex_flow": null,
            "width": null,
            "min_width": null,
            "border": null,
            "align_items": null,
            "bottom": null,
            "_model_module": "@jupyter-widgets/base",
            "top": null,
            "grid_column": null,
            "overflow_y": null,
            "overflow_x": null,
            "grid_auto_flow": null,
            "grid_area": null,
            "grid_template_columns": null,
            "flex": null,
            "_model_name": "LayoutModel",
            "justify_items": null,
            "grid_row": null,
            "max_height": null,
            "align_content": null,
            "visibility": null,
            "align_self": null,
            "height": null,
            "min_height": null,
            "padding": null,
            "grid_auto_rows": null,
            "grid_gap": null,
            "max_width": null,
            "order": null,
            "_view_module_version": "1.2.0",
            "grid_template_areas": null,
            "object_position": null,
            "object_fit": null,
            "grid_auto_columns": null,
            "margin": null,
            "display": null,
            "left": null
          }
        },
        "6d82a1d341334ee1a58f2dd14099a06c": {
          "model_module": "@jupyter-widgets/controls",
          "model_name": "HBoxModel",
          "state": {
            "_view_name": "HBoxView",
            "_dom_classes": [],
            "_model_name": "HBoxModel",
            "_view_module": "@jupyter-widgets/controls",
            "_model_module_version": "1.5.0",
            "_view_count": null,
            "_view_module_version": "1.5.0",
            "box_style": "",
            "layout": "IPY_MODEL_5f9fdfe8324146b4b4ef4a58ec9d7a59",
            "_model_module": "@jupyter-widgets/controls",
            "children": [
              "IPY_MODEL_9ae256ae389c4ed38de2d362780aa5ff",
              "IPY_MODEL_233c59947b13492fa9c89a10cb6633b3"
            ]
          }
        },
        "5f9fdfe8324146b4b4ef4a58ec9d7a59": {
          "model_module": "@jupyter-widgets/base",
          "model_name": "LayoutModel",
          "state": {
            "_view_name": "LayoutView",
            "grid_template_rows": null,
            "right": null,
            "justify_content": null,
            "_view_module": "@jupyter-widgets/base",
            "overflow": null,
            "_model_module_version": "1.2.0",
            "_view_count": null,
            "flex_flow": null,
            "width": null,
            "min_width": null,
            "border": null,
            "align_items": null,
            "bottom": null,
            "_model_module": "@jupyter-widgets/base",
            "top": null,
            "grid_column": null,
            "overflow_y": null,
            "overflow_x": null,
            "grid_auto_flow": null,
            "grid_area": null,
            "grid_template_columns": null,
            "flex": null,
            "_model_name": "LayoutModel",
            "justify_items": null,
            "grid_row": null,
            "max_height": null,
            "align_content": null,
            "visibility": null,
            "align_self": null,
            "height": null,
            "min_height": null,
            "padding": null,
            "grid_auto_rows": null,
            "grid_gap": null,
            "max_width": null,
            "order": null,
            "_view_module_version": "1.2.0",
            "grid_template_areas": null,
            "object_position": null,
            "object_fit": null,
            "grid_auto_columns": null,
            "margin": null,
            "display": null,
            "left": null
          }
        },
        "9ae256ae389c4ed38de2d362780aa5ff": {
          "model_module": "@jupyter-widgets/controls",
          "model_name": "FloatProgressModel",
          "state": {
            "_view_name": "ProgressView",
            "style": "IPY_MODEL_47ec8745f4ff4214ba258febcbd566e5",
            "_dom_classes": [],
            "description": "",
            "_model_name": "FloatProgressModel",
            "bar_style": "success",
            "max": 28881,
            "_view_module": "@jupyter-widgets/controls",
            "_model_module_version": "1.5.0",
            "value": 28881,
            "_view_count": null,
            "_view_module_version": "1.5.0",
            "orientation": "horizontal",
            "min": 0,
            "description_tooltip": null,
            "_model_module": "@jupyter-widgets/controls",
            "layout": "IPY_MODEL_cc6ad3214cab43b9918b0ee65de0c6e4"
          }
        },
        "233c59947b13492fa9c89a10cb6633b3": {
          "model_module": "@jupyter-widgets/controls",
          "model_name": "HTMLModel",
          "state": {
            "_view_name": "HTMLView",
            "style": "IPY_MODEL_cadf0d4ee74b42cfac358317a7709cfd",
            "_dom_classes": [],
            "description": "",
            "_model_name": "HTMLModel",
            "placeholder": "​",
            "_view_module": "@jupyter-widgets/controls",
            "_model_module_version": "1.5.0",
            "value": " 29696/? [01:43&lt;00:00, 287.12it/s]",
            "_view_count": null,
            "_view_module_version": "1.5.0",
            "description_tooltip": null,
            "_model_module": "@jupyter-widgets/controls",
            "layout": "IPY_MODEL_7f33017c51b5476697acc4416b105a51"
          }
        },
        "47ec8745f4ff4214ba258febcbd566e5": {
          "model_module": "@jupyter-widgets/controls",
          "model_name": "ProgressStyleModel",
          "state": {
            "_view_name": "StyleView",
            "_model_name": "ProgressStyleModel",
            "description_width": "initial",
            "_view_module": "@jupyter-widgets/base",
            "_model_module_version": "1.5.0",
            "_view_count": null,
            "_view_module_version": "1.2.0",
            "bar_color": null,
            "_model_module": "@jupyter-widgets/controls"
          }
        },
        "cc6ad3214cab43b9918b0ee65de0c6e4": {
          "model_module": "@jupyter-widgets/base",
          "model_name": "LayoutModel",
          "state": {
            "_view_name": "LayoutView",
            "grid_template_rows": null,
            "right": null,
            "justify_content": null,
            "_view_module": "@jupyter-widgets/base",
            "overflow": null,
            "_model_module_version": "1.2.0",
            "_view_count": null,
            "flex_flow": null,
            "width": null,
            "min_width": null,
            "border": null,
            "align_items": null,
            "bottom": null,
            "_model_module": "@jupyter-widgets/base",
            "top": null,
            "grid_column": null,
            "overflow_y": null,
            "overflow_x": null,
            "grid_auto_flow": null,
            "grid_area": null,
            "grid_template_columns": null,
            "flex": null,
            "_model_name": "LayoutModel",
            "justify_items": null,
            "grid_row": null,
            "max_height": null,
            "align_content": null,
            "visibility": null,
            "align_self": null,
            "height": null,
            "min_height": null,
            "padding": null,
            "grid_auto_rows": null,
            "grid_gap": null,
            "max_width": null,
            "order": null,
            "_view_module_version": "1.2.0",
            "grid_template_areas": null,
            "object_position": null,
            "object_fit": null,
            "grid_auto_columns": null,
            "margin": null,
            "display": null,
            "left": null
          }
        },
        "cadf0d4ee74b42cfac358317a7709cfd": {
          "model_module": "@jupyter-widgets/controls",
          "model_name": "DescriptionStyleModel",
          "state": {
            "_view_name": "StyleView",
            "_model_name": "DescriptionStyleModel",
            "description_width": "",
            "_view_module": "@jupyter-widgets/base",
            "_model_module_version": "1.5.0",
            "_view_count": null,
            "_view_module_version": "1.2.0",
            "_model_module": "@jupyter-widgets/controls"
          }
        },
        "7f33017c51b5476697acc4416b105a51": {
          "model_module": "@jupyter-widgets/base",
          "model_name": "LayoutModel",
          "state": {
            "_view_name": "LayoutView",
            "grid_template_rows": null,
            "right": null,
            "justify_content": null,
            "_view_module": "@jupyter-widgets/base",
            "overflow": null,
            "_model_module_version": "1.2.0",
            "_view_count": null,
            "flex_flow": null,
            "width": null,
            "min_width": null,
            "border": null,
            "align_items": null,
            "bottom": null,
            "_model_module": "@jupyter-widgets/base",
            "top": null,
            "grid_column": null,
            "overflow_y": null,
            "overflow_x": null,
            "grid_auto_flow": null,
            "grid_area": null,
            "grid_template_columns": null,
            "flex": null,
            "_model_name": "LayoutModel",
            "justify_items": null,
            "grid_row": null,
            "max_height": null,
            "align_content": null,
            "visibility": null,
            "align_self": null,
            "height": null,
            "min_height": null,
            "padding": null,
            "grid_auto_rows": null,
            "grid_gap": null,
            "max_width": null,
            "order": null,
            "_view_module_version": "1.2.0",
            "grid_template_areas": null,
            "object_position": null,
            "object_fit": null,
            "grid_auto_columns": null,
            "margin": null,
            "display": null,
            "left": null
          }
        },
        "4264afaee0c74dbbae988e47e49f2236": {
          "model_module": "@jupyter-widgets/controls",
          "model_name": "HBoxModel",
          "state": {
            "_view_name": "HBoxView",
            "_dom_classes": [],
            "_model_name": "HBoxModel",
            "_view_module": "@jupyter-widgets/controls",
            "_model_module_version": "1.5.0",
            "_view_count": null,
            "_view_module_version": "1.5.0",
            "box_style": "",
            "layout": "IPY_MODEL_5f5fa30b41a640fc927142bc701d7707",
            "_model_module": "@jupyter-widgets/controls",
            "children": [
              "IPY_MODEL_cbd3f85ce4e24f03a77cd849b4e50ee3",
              "IPY_MODEL_c075f2d3f3be4a4f9c58d64f12286269"
            ]
          }
        },
        "5f5fa30b41a640fc927142bc701d7707": {
          "model_module": "@jupyter-widgets/base",
          "model_name": "LayoutModel",
          "state": {
            "_view_name": "LayoutView",
            "grid_template_rows": null,
            "right": null,
            "justify_content": null,
            "_view_module": "@jupyter-widgets/base",
            "overflow": null,
            "_model_module_version": "1.2.0",
            "_view_count": null,
            "flex_flow": null,
            "width": null,
            "min_width": null,
            "border": null,
            "align_items": null,
            "bottom": null,
            "_model_module": "@jupyter-widgets/base",
            "top": null,
            "grid_column": null,
            "overflow_y": null,
            "overflow_x": null,
            "grid_auto_flow": null,
            "grid_area": null,
            "grid_template_columns": null,
            "flex": null,
            "_model_name": "LayoutModel",
            "justify_items": null,
            "grid_row": null,
            "max_height": null,
            "align_content": null,
            "visibility": null,
            "align_self": null,
            "height": null,
            "min_height": null,
            "padding": null,
            "grid_auto_rows": null,
            "grid_gap": null,
            "max_width": null,
            "order": null,
            "_view_module_version": "1.2.0",
            "grid_template_areas": null,
            "object_position": null,
            "object_fit": null,
            "grid_auto_columns": null,
            "margin": null,
            "display": null,
            "left": null
          }
        },
        "cbd3f85ce4e24f03a77cd849b4e50ee3": {
          "model_module": "@jupyter-widgets/controls",
          "model_name": "FloatProgressModel",
          "state": {
            "_view_name": "ProgressView",
            "style": "IPY_MODEL_3f7e33d788774d8ea1c0c03f50d6673b",
            "_dom_classes": [],
            "description": "",
            "_model_name": "FloatProgressModel",
            "bar_style": "success",
            "max": 1648877,
            "_view_module": "@jupyter-widgets/controls",
            "_model_module_version": "1.5.0",
            "value": 1648877,
            "_view_count": null,
            "_view_module_version": "1.5.0",
            "orientation": "horizontal",
            "min": 0,
            "description_tooltip": null,
            "_model_module": "@jupyter-widgets/controls",
            "layout": "IPY_MODEL_f3087b40a3d948a08961b1ac7b8aa893"
          }
        },
        "c075f2d3f3be4a4f9c58d64f12286269": {
          "model_module": "@jupyter-widgets/controls",
          "model_name": "HTMLModel",
          "state": {
            "_view_name": "HTMLView",
            "style": "IPY_MODEL_3f546c55125d44a282e84f3097d749b5",
            "_dom_classes": [],
            "description": "",
            "_model_name": "HTMLModel",
            "placeholder": "​",
            "_view_module": "@jupyter-widgets/controls",
            "_model_module_version": "1.5.0",
            "value": " 1649664/? [00:51&lt;00:00, 32047.09it/s]",
            "_view_count": null,
            "_view_module_version": "1.5.0",
            "description_tooltip": null,
            "_model_module": "@jupyter-widgets/controls",
            "layout": "IPY_MODEL_81e767a6afc74d0a87227311691b6409"
          }
        },
        "3f7e33d788774d8ea1c0c03f50d6673b": {
          "model_module": "@jupyter-widgets/controls",
          "model_name": "ProgressStyleModel",
          "state": {
            "_view_name": "StyleView",
            "_model_name": "ProgressStyleModel",
            "description_width": "initial",
            "_view_module": "@jupyter-widgets/base",
            "_model_module_version": "1.5.0",
            "_view_count": null,
            "_view_module_version": "1.2.0",
            "bar_color": null,
            "_model_module": "@jupyter-widgets/controls"
          }
        },
        "f3087b40a3d948a08961b1ac7b8aa893": {
          "model_module": "@jupyter-widgets/base",
          "model_name": "LayoutModel",
          "state": {
            "_view_name": "LayoutView",
            "grid_template_rows": null,
            "right": null,
            "justify_content": null,
            "_view_module": "@jupyter-widgets/base",
            "overflow": null,
            "_model_module_version": "1.2.0",
            "_view_count": null,
            "flex_flow": null,
            "width": null,
            "min_width": null,
            "border": null,
            "align_items": null,
            "bottom": null,
            "_model_module": "@jupyter-widgets/base",
            "top": null,
            "grid_column": null,
            "overflow_y": null,
            "overflow_x": null,
            "grid_auto_flow": null,
            "grid_area": null,
            "grid_template_columns": null,
            "flex": null,
            "_model_name": "LayoutModel",
            "justify_items": null,
            "grid_row": null,
            "max_height": null,
            "align_content": null,
            "visibility": null,
            "align_self": null,
            "height": null,
            "min_height": null,
            "padding": null,
            "grid_auto_rows": null,
            "grid_gap": null,
            "max_width": null,
            "order": null,
            "_view_module_version": "1.2.0",
            "grid_template_areas": null,
            "object_position": null,
            "object_fit": null,
            "grid_auto_columns": null,
            "margin": null,
            "display": null,
            "left": null
          }
        },
        "3f546c55125d44a282e84f3097d749b5": {
          "model_module": "@jupyter-widgets/controls",
          "model_name": "DescriptionStyleModel",
          "state": {
            "_view_name": "StyleView",
            "_model_name": "DescriptionStyleModel",
            "description_width": "",
            "_view_module": "@jupyter-widgets/base",
            "_model_module_version": "1.5.0",
            "_view_count": null,
            "_view_module_version": "1.2.0",
            "_model_module": "@jupyter-widgets/controls"
          }
        },
        "81e767a6afc74d0a87227311691b6409": {
          "model_module": "@jupyter-widgets/base",
          "model_name": "LayoutModel",
          "state": {
            "_view_name": "LayoutView",
            "grid_template_rows": null,
            "right": null,
            "justify_content": null,
            "_view_module": "@jupyter-widgets/base",
            "overflow": null,
            "_model_module_version": "1.2.0",
            "_view_count": null,
            "flex_flow": null,
            "width": null,
            "min_width": null,
            "border": null,
            "align_items": null,
            "bottom": null,
            "_model_module": "@jupyter-widgets/base",
            "top": null,
            "grid_column": null,
            "overflow_y": null,
            "overflow_x": null,
            "grid_auto_flow": null,
            "grid_area": null,
            "grid_template_columns": null,
            "flex": null,
            "_model_name": "LayoutModel",
            "justify_items": null,
            "grid_row": null,
            "max_height": null,
            "align_content": null,
            "visibility": null,
            "align_self": null,
            "height": null,
            "min_height": null,
            "padding": null,
            "grid_auto_rows": null,
            "grid_gap": null,
            "max_width": null,
            "order": null,
            "_view_module_version": "1.2.0",
            "grid_template_areas": null,
            "object_position": null,
            "object_fit": null,
            "grid_auto_columns": null,
            "margin": null,
            "display": null,
            "left": null
          }
        },
        "e74456d3e28e4280b820ee805ec06c1a": {
          "model_module": "@jupyter-widgets/controls",
          "model_name": "HBoxModel",
          "state": {
            "_view_name": "HBoxView",
            "_dom_classes": [],
            "_model_name": "HBoxModel",
            "_view_module": "@jupyter-widgets/controls",
            "_model_module_version": "1.5.0",
            "_view_count": null,
            "_view_module_version": "1.5.0",
            "box_style": "",
            "layout": "IPY_MODEL_6a96e8ec77074908a5cd457e14a8797a",
            "_model_module": "@jupyter-widgets/controls",
            "children": [
              "IPY_MODEL_7203b71c5eec43239882ed2587f5c73e",
              "IPY_MODEL_64936d6595bf4219a20b6e142b1ed2f2"
            ]
          }
        },
        "6a96e8ec77074908a5cd457e14a8797a": {
          "model_module": "@jupyter-widgets/base",
          "model_name": "LayoutModel",
          "state": {
            "_view_name": "LayoutView",
            "grid_template_rows": null,
            "right": null,
            "justify_content": null,
            "_view_module": "@jupyter-widgets/base",
            "overflow": null,
            "_model_module_version": "1.2.0",
            "_view_count": null,
            "flex_flow": null,
            "width": null,
            "min_width": null,
            "border": null,
            "align_items": null,
            "bottom": null,
            "_model_module": "@jupyter-widgets/base",
            "top": null,
            "grid_column": null,
            "overflow_y": null,
            "overflow_x": null,
            "grid_auto_flow": null,
            "grid_area": null,
            "grid_template_columns": null,
            "flex": null,
            "_model_name": "LayoutModel",
            "justify_items": null,
            "grid_row": null,
            "max_height": null,
            "align_content": null,
            "visibility": null,
            "align_self": null,
            "height": null,
            "min_height": null,
            "padding": null,
            "grid_auto_rows": null,
            "grid_gap": null,
            "max_width": null,
            "order": null,
            "_view_module_version": "1.2.0",
            "grid_template_areas": null,
            "object_position": null,
            "object_fit": null,
            "grid_auto_columns": null,
            "margin": null,
            "display": null,
            "left": null
          }
        },
        "7203b71c5eec43239882ed2587f5c73e": {
          "model_module": "@jupyter-widgets/controls",
          "model_name": "FloatProgressModel",
          "state": {
            "_view_name": "ProgressView",
            "style": "IPY_MODEL_80d949d26ab4484192fd4d8e83f6a7da",
            "_dom_classes": [],
            "description": "",
            "_model_name": "FloatProgressModel",
            "bar_style": "success",
            "max": 4542,
            "_view_module": "@jupyter-widgets/controls",
            "_model_module_version": "1.5.0",
            "value": 4542,
            "_view_count": null,
            "_view_module_version": "1.5.0",
            "orientation": "horizontal",
            "min": 0,
            "description_tooltip": null,
            "_model_module": "@jupyter-widgets/controls",
            "layout": "IPY_MODEL_ede7d6cf087b4e5e8fde6b0f09eb899b"
          }
        },
        "64936d6595bf4219a20b6e142b1ed2f2": {
          "model_module": "@jupyter-widgets/controls",
          "model_name": "HTMLModel",
          "state": {
            "_view_name": "HTMLView",
            "style": "IPY_MODEL_7de602751a6640feb2b5c6d2e1ec8b5b",
            "_dom_classes": [],
            "description": "",
            "_model_name": "HTMLModel",
            "placeholder": "​",
            "_view_module": "@jupyter-widgets/controls",
            "_model_module_version": "1.5.0",
            "value": " 5120/? [00:00&lt;00:00, 24929.35it/s]",
            "_view_count": null,
            "_view_module_version": "1.5.0",
            "description_tooltip": null,
            "_model_module": "@jupyter-widgets/controls",
            "layout": "IPY_MODEL_ac44d9a8aac841d08f578484572fc50b"
          }
        },
        "80d949d26ab4484192fd4d8e83f6a7da": {
          "model_module": "@jupyter-widgets/controls",
          "model_name": "ProgressStyleModel",
          "state": {
            "_view_name": "StyleView",
            "_model_name": "ProgressStyleModel",
            "description_width": "initial",
            "_view_module": "@jupyter-widgets/base",
            "_model_module_version": "1.5.0",
            "_view_count": null,
            "_view_module_version": "1.2.0",
            "bar_color": null,
            "_model_module": "@jupyter-widgets/controls"
          }
        },
        "ede7d6cf087b4e5e8fde6b0f09eb899b": {
          "model_module": "@jupyter-widgets/base",
          "model_name": "LayoutModel",
          "state": {
            "_view_name": "LayoutView",
            "grid_template_rows": null,
            "right": null,
            "justify_content": null,
            "_view_module": "@jupyter-widgets/base",
            "overflow": null,
            "_model_module_version": "1.2.0",
            "_view_count": null,
            "flex_flow": null,
            "width": null,
            "min_width": null,
            "border": null,
            "align_items": null,
            "bottom": null,
            "_model_module": "@jupyter-widgets/base",
            "top": null,
            "grid_column": null,
            "overflow_y": null,
            "overflow_x": null,
            "grid_auto_flow": null,
            "grid_area": null,
            "grid_template_columns": null,
            "flex": null,
            "_model_name": "LayoutModel",
            "justify_items": null,
            "grid_row": null,
            "max_height": null,
            "align_content": null,
            "visibility": null,
            "align_self": null,
            "height": null,
            "min_height": null,
            "padding": null,
            "grid_auto_rows": null,
            "grid_gap": null,
            "max_width": null,
            "order": null,
            "_view_module_version": "1.2.0",
            "grid_template_areas": null,
            "object_position": null,
            "object_fit": null,
            "grid_auto_columns": null,
            "margin": null,
            "display": null,
            "left": null
          }
        },
        "7de602751a6640feb2b5c6d2e1ec8b5b": {
          "model_module": "@jupyter-widgets/controls",
          "model_name": "DescriptionStyleModel",
          "state": {
            "_view_name": "StyleView",
            "_model_name": "DescriptionStyleModel",
            "description_width": "",
            "_view_module": "@jupyter-widgets/base",
            "_model_module_version": "1.5.0",
            "_view_count": null,
            "_view_module_version": "1.2.0",
            "_model_module": "@jupyter-widgets/controls"
          }
        },
        "ac44d9a8aac841d08f578484572fc50b": {
          "model_module": "@jupyter-widgets/base",
          "model_name": "LayoutModel",
          "state": {
            "_view_name": "LayoutView",
            "grid_template_rows": null,
            "right": null,
            "justify_content": null,
            "_view_module": "@jupyter-widgets/base",
            "overflow": null,
            "_model_module_version": "1.2.0",
            "_view_count": null,
            "flex_flow": null,
            "width": null,
            "min_width": null,
            "border": null,
            "align_items": null,
            "bottom": null,
            "_model_module": "@jupyter-widgets/base",
            "top": null,
            "grid_column": null,
            "overflow_y": null,
            "overflow_x": null,
            "grid_auto_flow": null,
            "grid_area": null,
            "grid_template_columns": null,
            "flex": null,
            "_model_name": "LayoutModel",
            "justify_items": null,
            "grid_row": null,
            "max_height": null,
            "align_content": null,
            "visibility": null,
            "align_self": null,
            "height": null,
            "min_height": null,
            "padding": null,
            "grid_auto_rows": null,
            "grid_gap": null,
            "max_width": null,
            "order": null,
            "_view_module_version": "1.2.0",
            "grid_template_areas": null,
            "object_position": null,
            "object_fit": null,
            "grid_auto_columns": null,
            "margin": null,
            "display": null,
            "left": null
          }
        }
      }
    }
  },
  "cells": [
    {
      "cell_type": "markdown",
      "metadata": {
        "id": "view-in-github",
        "colab_type": "text"
      },
      "source": [
        "<a href=\"https://colab.research.google.com/github/happy-jihye/GAN/blob/main/2_CGAN.ipynb\" target=\"_parent\"><img src=\"https://colab.research.google.com/assets/colab-badge.svg\" alt=\"Open In Colab\"/></a>"
      ]
    },
    {
      "cell_type": "markdown",
      "metadata": {
        "id": "xrUqXYEepD0o"
      },
      "source": [
        "# 2 - Conditional Generative Adversarial Net(CGAN)\n",
        "\n",
        "- [Conditional Generative Adversarial Net](https://arxiv.org/abs/1411.1784)\n",
        "\n",
        "> - 2021/03/22 Happy-jihye\n",
        "> - **Reference** : [eriklindernoren/PyTorch-GAN](https://github.com/eriklindernoren/PyTorch-GAN)\n",
        "\n",
        "---\n"
      ]
    },
    {
      "cell_type": "code",
      "metadata": {
        "id": "CiRb7M3naHyo"
      },
      "source": [
        "import torch\n",
        "import torch.nn as nn\n",
        "\n",
        "import numpy as np\n",
        "\n",
        "# for MNIST data\n",
        "import torchvision\n",
        "from torchvision import datasets\n",
        "import torchvision.transforms as transforms\n",
        "from torchvision.utils import save_image\n",
        "from torch.autograd import Variable\n",
        "\n",
        "\n",
        "import matplotlib.pyplot as plt"
      ],
      "execution_count": 1,
      "outputs": []
    },
    {
      "cell_type": "markdown",
      "metadata": {
        "id": "DCgiMhq8f_FC"
      },
      "source": [
        "## Hyperparameter"
      ]
    },
    {
      "cell_type": "code",
      "metadata": {
        "id": "ONQYN5Neow0A"
      },
      "source": [
        "# size of the batches\n",
        "batch_size = 64\n",
        "\n",
        "# number of epochs of training\n",
        "n_epochs = 200 \n",
        "\n",
        "# interval between image samples\n",
        "sample_interval = 400\n",
        "\n",
        "# dimensionality of the latent space\n",
        "latent_dim = 100\n",
        "\n",
        "# learning rate\n",
        "lr = 0.0002\n",
        "\n",
        "# decay of first order momentum of gradient\n",
        "b1 = 0.5\n",
        "b2 = 0.999\n",
        "\n",
        "# number of image channels\n",
        "channels = 1\n",
        "# size of each image dimension\n",
        "img_size = 32\n",
        "\n",
        "img_shape = (channels, img_size, img_size)\n",
        "\n",
        "# number of classes for dataset\n",
        "n_classes = 10"
      ],
      "execution_count": 2,
      "outputs": []
    },
    {
      "cell_type": "markdown",
      "metadata": {
        "id": "zo-9EdL8yE1F"
      },
      "source": [
        "- 이번 예제에서는 실제 MNIST training images를 활용하여 MNIST 숫자를 생성하는 GAN model을 만들 예정입니다.\n",
        "- [How to Build a Streaming DataLoader with PyTorch](https://medium.com/speechmatics/how-to-build-a-streaming-dataloader-with-pytorch-a66dd891d9dd)"
      ]
    },
    {
      "cell_type": "markdown",
      "metadata": {
        "id": "NOilX0rBqJXn"
      },
      "source": [
        "## **Loading MNIST Data**"
      ]
    },
    {
      "cell_type": "code",
      "metadata": {
        "id": "HrhXIwtAqM7H",
        "colab": {
          "base_uri": "https://localhost:8080/",
          "height": 453,
          "referenced_widgets": [
            "6bf1f9844ddb46948a320e92fc3a6410",
            "6a6f4521f2824523848dad781ff8e6bb",
            "eeaf461d9e8c442fb6d0a578fa356837",
            "6880369d5c9e4831885ef235bc997d4e",
            "00282b20acaa42fc87691739802b46c3",
            "3c640ae3aaa44a36a73fadc4318595a3",
            "86931d75e9c34bc7bcad26d9dab62cab",
            "6064b359df2d43e6a2a54d6e3b7767bb",
            "6d82a1d341334ee1a58f2dd14099a06c",
            "5f9fdfe8324146b4b4ef4a58ec9d7a59",
            "9ae256ae389c4ed38de2d362780aa5ff",
            "233c59947b13492fa9c89a10cb6633b3",
            "47ec8745f4ff4214ba258febcbd566e5",
            "cc6ad3214cab43b9918b0ee65de0c6e4",
            "cadf0d4ee74b42cfac358317a7709cfd",
            "7f33017c51b5476697acc4416b105a51",
            "4264afaee0c74dbbae988e47e49f2236",
            "5f5fa30b41a640fc927142bc701d7707",
            "cbd3f85ce4e24f03a77cd849b4e50ee3",
            "c075f2d3f3be4a4f9c58d64f12286269",
            "3f7e33d788774d8ea1c0c03f50d6673b",
            "f3087b40a3d948a08961b1ac7b8aa893",
            "3f546c55125d44a282e84f3097d749b5",
            "81e767a6afc74d0a87227311691b6409",
            "e74456d3e28e4280b820ee805ec06c1a",
            "6a96e8ec77074908a5cd457e14a8797a",
            "7203b71c5eec43239882ed2587f5c73e",
            "64936d6595bf4219a20b6e142b1ed2f2",
            "80d949d26ab4484192fd4d8e83f6a7da",
            "ede7d6cf087b4e5e8fde6b0f09eb899b",
            "7de602751a6640feb2b5c6d2e1ec8b5b",
            "ac44d9a8aac841d08f578484572fc50b"
          ]
        },
        "outputId": "49703afa-abb9-47af-afc9-ddba5917fedd"
      },
      "source": [
        "# download the MINST data\n",
        "\n",
        "transforms_train = transforms.Compose([\n",
        "    transforms.Resize(img_size),\n",
        "    transforms.ToTensor(), # data를 pytorch의 tensor형식으로 바꿉니다\n",
        "    transforms.Normalize([0.5], [0.5]) # 픽셀값을 0 ~ 1에서 -1 ~ 1 로 바꿔줍니다.\n",
        "])\n",
        "\n",
        "train_dataset = datasets.MNIST(root=\"./dataset\", train=True, download=True, transform=transforms_train)\n",
        "\n",
        "# data를 batch size만큼만 가져오는 dataloader를 만듭니다.\n",
        "dataloader = torch.utils.data.DataLoader(train_dataset, batch_size = batch_size, shuffle=True)"
      ],
      "execution_count": 5,
      "outputs": [
        {
          "output_type": "stream",
          "text": [
            "Downloading http://yann.lecun.com/exdb/mnist/train-images-idx3-ubyte.gz to ./dataset/MNIST/raw/train-images-idx3-ubyte.gz\n"
          ],
          "name": "stdout"
        },
        {
          "output_type": "display_data",
          "data": {
            "application/vnd.jupyter.widget-view+json": {
              "model_id": "6bf1f9844ddb46948a320e92fc3a6410",
              "version_minor": 0,
              "version_major": 2
            },
            "text/plain": [
              "HBox(children=(FloatProgress(value=0.0, max=9912422.0), HTML(value='')))"
            ]
          },
          "metadata": {
            "tags": []
          }
        },
        {
          "output_type": "stream",
          "text": [
            "\n",
            "Extracting ./dataset/MNIST/raw/train-images-idx3-ubyte.gz to ./dataset/MNIST/raw\n",
            "Downloading http://yann.lecun.com/exdb/mnist/train-labels-idx1-ubyte.gz to ./dataset/MNIST/raw/train-labels-idx1-ubyte.gz\n"
          ],
          "name": "stdout"
        },
        {
          "output_type": "display_data",
          "data": {
            "application/vnd.jupyter.widget-view+json": {
              "model_id": "6d82a1d341334ee1a58f2dd14099a06c",
              "version_minor": 0,
              "version_major": 2
            },
            "text/plain": [
              "HBox(children=(FloatProgress(value=0.0, max=28881.0), HTML(value='')))"
            ]
          },
          "metadata": {
            "tags": []
          }
        },
        {
          "output_type": "stream",
          "text": [
            "\n",
            "Extracting ./dataset/MNIST/raw/train-labels-idx1-ubyte.gz to ./dataset/MNIST/raw\n",
            "Downloading http://yann.lecun.com/exdb/mnist/t10k-images-idx3-ubyte.gz to ./dataset/MNIST/raw/t10k-images-idx3-ubyte.gz\n"
          ],
          "name": "stdout"
        },
        {
          "output_type": "display_data",
          "data": {
            "application/vnd.jupyter.widget-view+json": {
              "model_id": "4264afaee0c74dbbae988e47e49f2236",
              "version_minor": 0,
              "version_major": 2
            },
            "text/plain": [
              "HBox(children=(FloatProgress(value=0.0, max=1648877.0), HTML(value='')))"
            ]
          },
          "metadata": {
            "tags": []
          }
        },
        {
          "output_type": "stream",
          "text": [
            "\n",
            "Extracting ./dataset/MNIST/raw/t10k-images-idx3-ubyte.gz to ./dataset/MNIST/raw\n",
            "Downloading http://yann.lecun.com/exdb/mnist/t10k-labels-idx1-ubyte.gz to ./dataset/MNIST/raw/t10k-labels-idx1-ubyte.gz\n"
          ],
          "name": "stdout"
        },
        {
          "output_type": "display_data",
          "data": {
            "application/vnd.jupyter.widget-view+json": {
              "model_id": "e74456d3e28e4280b820ee805ec06c1a",
              "version_minor": 0,
              "version_major": 2
            },
            "text/plain": [
              "HBox(children=(FloatProgress(value=0.0, max=4542.0), HTML(value='')))"
            ]
          },
          "metadata": {
            "tags": []
          }
        },
        {
          "output_type": "stream",
          "text": [
            "\n",
            "Extracting ./dataset/MNIST/raw/t10k-labels-idx1-ubyte.gz to ./dataset/MNIST/raw\n",
            "Processing...\n",
            "Done!\n"
          ],
          "name": "stdout"
        },
        {
          "output_type": "stream",
          "text": [
            "/usr/local/lib/python3.7/dist-packages/torchvision/datasets/mnist.py:479: UserWarning: The given NumPy array is not writeable, and PyTorch does not support non-writeable tensors. This means you can write to the underlying (supposedly non-writeable) NumPy array using the tensor. You may want to copy the array to protect its data or make it writeable before converting it to a tensor. This type of warning will be suppressed for the rest of this program. (Triggered internally at  /pytorch/torch/csrc/utils/tensor_numpy.cpp:143.)\n",
            "  return torch.from_numpy(parsed.astype(m[2], copy=False)).view(*s)\n"
          ],
          "name": "stderr"
        }
      ]
    },
    {
      "cell_type": "markdown",
      "metadata": {
        "id": "oEKSLFR90OBi"
      },
      "source": [
        "- 하나의 batch에 들어있는 mnist data를 출력해보았습니다."
      ]
    },
    {
      "cell_type": "code",
      "metadata": {
        "colab": {
          "base_uri": "https://localhost:8080/",
          "height": 325
        },
        "id": "hpPi14eUzLWI",
        "outputId": "98d283fa-556a-499a-9c08-9f87219f42d9"
      },
      "source": [
        "images, labels = next(iter(dataloader))\n",
        "img = torchvision.utils.make_grid(images)\n",
        "\n",
        "img = img.numpy().transpose(1,2,0)\n",
        "std = [0.5,0.5,0.5]\n",
        "mean = [0.5,0.5,0.5]\n",
        "img = img*std+mean\n",
        "print([labels[i] for i in range(64)])\n",
        "plt.imshow(img)"
      ],
      "execution_count": 6,
      "outputs": [
        {
          "output_type": "stream",
          "text": [
            "[tensor(0), tensor(4), tensor(2), tensor(8), tensor(8), tensor(7), tensor(8), tensor(6), tensor(4), tensor(8), tensor(0), tensor(9), tensor(7), tensor(0), tensor(5), tensor(4), tensor(0), tensor(8), tensor(4), tensor(1), tensor(7), tensor(3), tensor(8), tensor(7), tensor(7), tensor(0), tensor(1), tensor(8), tensor(9), tensor(9), tensor(1), tensor(8), tensor(6), tensor(3), tensor(5), tensor(3), tensor(7), tensor(5), tensor(7), tensor(9), tensor(0), tensor(6), tensor(6), tensor(3), tensor(9), tensor(3), tensor(9), tensor(5), tensor(0), tensor(8), tensor(1), tensor(1), tensor(2), tensor(1), tensor(0), tensor(7), tensor(1), tensor(2), tensor(7), tensor(0), tensor(9), tensor(0), tensor(0), tensor(5)]\n"
          ],
          "name": "stdout"
        },
        {
          "output_type": "execute_result",
          "data": {
            "text/plain": [
              "<matplotlib.image.AxesImage at 0x7f0e1322bb50>"
            ]
          },
          "metadata": {
            "tags": []
          },
          "execution_count": 6
        },
        {
          "output_type": "display_data",
          "data": {
            "image/png": "[encoded data removed]",
            "text/plain": [
              "<Figure size 432x288 with 1 Axes>"
            ]
          },
          "metadata": {
            "tags": [],
            "needs_background": "light"
          }
        }
      ]
    },
    {
      "cell_type": "markdown",
      "metadata": {
        "id": "tp4hbA95pihv"
      },
      "source": [
        "##  Generator"
      ]
    },
    {
      "cell_type": "code",
      "metadata": {
        "id": "Hj5al6cTZES1"
      },
      "source": [
        "# # dimensionality of the latent space\n",
        "# # latent vector를 추출하기 위한 noise 분포의 dimension (정규분포를 따름)\n",
        "# latent_dim = 100\n",
        "\n",
        "class Generator(nn.Module):\n",
        "    def __init__(self):\n",
        "        super(Generator, self).__init__()\n",
        "\n",
        "        self.label_emb = nn.Embedding(n_classes, n_classes)\n",
        "        \n",
        "        def block(input_dim, output_dim, normalize=True):\n",
        "            layers = [nn.Linear(input_dim, output_dim)]\n",
        "            if normalize:\n",
        "                layers.append(nn.BatchNorm1d(output_dim, 0.8))\n",
        "            layers.append(nn.LeakyReLU(0.2, inplace=True))\n",
        "            return layers\n",
        "\n",
        "        # generater의 model은 여러개의 block을 쌓아서 만들어짐\n",
        "        self.model = nn.Sequential(\n",
        "            *block(latent_dim + n_classes, 128, normalize=False),\n",
        "            *block(128, 256),\n",
        "            *block(256, 512),\n",
        "            *block(512, 1024),\n",
        "            nn.Linear(1024, int(np.prod(img_shape))),\n",
        "            nn.Tanh() \n",
        "        )\n",
        "\n",
        "    def forward(self, noise, labels): \n",
        "      # Concatenate label embedding and image to produce input\n",
        "      gan_input = torch.cat((self.label_emb(labels), noise), -1)  \n",
        "      img = self.model(gan_input)\n",
        "      img = img.view(img.size(0), *img_shape)\n",
        "      return img"
      ],
      "execution_count": 7,
      "outputs": []
    },
    {
      "cell_type": "markdown",
      "metadata": {
        "id": "znyoFjUCprGO"
      },
      "source": [
        "## Discriminator"
      ]
    },
    {
      "cell_type": "code",
      "metadata": {
        "id": "M_kvtvOhaLX6"
      },
      "source": [
        "class Discriminator(nn.Module):\n",
        "    def __init__(self):\n",
        "        super(Discriminator, self).__init__()\n",
        "\n",
        "        self.label_embedding = nn.Embedding(n_classes, n_classes)\n",
        "\n",
        "        self.model = nn.Sequential(\n",
        "            nn.Linear(n_classes + int(np.prod(img_shape)), 512),\n",
        "            nn.LeakyReLU(0.2, inplace=True),\n",
        "            nn.Linear(512, 512),\n",
        "            nn.Dropout(0.4),\n",
        "            nn.LeakyReLU(0.2, inplace=True),\n",
        "            nn.Linear(512, 512),\n",
        "            nn.Dropout(0.4),\n",
        "            nn.LeakyReLU(0.2, inplace=True),\n",
        "            nn.Linear(512, 1)\n",
        "        )\n",
        "\n",
        "    # 이미지에 대한 판별 결과를 반환\n",
        "    def forward(self, img, labels):\n",
        "      # Concatenate label embedding and image to produce input\n",
        "      d_in = torch.cat((img.view(img.size(0), -1), self.label_embedding(labels)), -1)\n",
        "      validity = self.model(d_in)\n",
        "\n",
        "      return validity"
      ],
      "execution_count": 8,
      "outputs": []
    },
    {
      "cell_type": "markdown",
      "metadata": {
        "id": "K54Z7PNIqTkO"
      },
      "source": [
        "## Loss Function & Optimizer\n",
        "\n",
        "- 손실 함수로는 Binary Cross Entropy를, 최적화 함수로는 Adam을 사용합니다."
      ]
    },
    {
      "cell_type": "code",
      "metadata": {
        "id": "tBZf0BmBaN7l"
      },
      "source": [
        "''' Hyper parameter '''\n",
        "# # learning rate\n",
        "# lr = 0.0002\n",
        "\n",
        "# # decay of first order momentum of gradient\n",
        "# b1 = 0.5\n",
        "# b2 = 0.999\n",
        "\n",
        "\n",
        "# Initialize generator and discriminator\n",
        "generator = Generator()\n",
        "discriminator = Discriminator()\n",
        "\n",
        "# Loss function\n",
        "adversarial_loss = nn.MSELoss()\n",
        "\n",
        "# Adam Optimizer\n",
        "optimizer_G = torch.optim.Adam(generator.parameters(), lr=lr, betas=(b1, b2))\n",
        "optimizer_D = torch.optim.Adam(discriminator.parameters(), lr=lr, betas=(b1, b2))"
      ],
      "execution_count": 9,
      "outputs": []
    },
    {
      "cell_type": "code",
      "metadata": {
        "id": "KanyJ4VjrCUl"
      },
      "source": [
        "# GPU\n",
        "cuda = True if torch.cuda.is_available() else False\n",
        "\n",
        "if cuda : \n",
        "  generator.cuda()\n",
        "  discriminator.cuda()\n",
        "  adversarial_loss.cuda()"
      ],
      "execution_count": 10,
      "outputs": []
    },
    {
      "cell_type": "markdown",
      "metadata": {
        "id": "F9ThAQIOt-74"
      },
      "source": [
        "# Training"
      ]
    },
    {
      "cell_type": "code",
      "metadata": {
        "colab": {
          "base_uri": "https://localhost:8080/"
        },
        "id": "srQI5xI6ar-X",
        "outputId": "420fcf39-7b7e-4e3f-8dc8-de0e2a619a52"
      },
      "source": [
        "import time\n",
        "\n",
        "## number of epochs of training\n",
        "# n_epochs = 200 \n",
        "\n",
        "## interval between image samples\n",
        "# sample_interval = 400\n",
        "\n",
        "start_time = time.time()\n",
        "\n",
        "from torch.autograd import Variable\n",
        "FloatTensor = torch.cuda.FloatTensor if cuda else torch.FloatTensor\n",
        "LongTensor = torch.cuda.LongTensor if cuda else torch.LongTensor\n",
        "\n",
        "for epoch in range(n_epochs):\n",
        "    for i, (imgs, labels) in enumerate(dataloader):\n",
        "\n",
        "        batch_size = imgs.shape[0]\n",
        "\n",
        "        # Adversarial ground truths\n",
        "        ## 실제 이미지는 1로, 가짜 이미지는 0으로 label됩니다. \n",
        "        real = Variable(FloatTensor(batch_size, 1).fill_(1.0), requires_grad=False)\n",
        "        fake = Variable(FloatTensor(batch_size, 1).fill_(0.0), requires_grad=False)\n",
        "\n",
        "        # Configure input\n",
        "        real_imgs = Variable(imgs.type(FloatTensor))\n",
        "        labels = Variable(labels.type(LongTensor))\n",
        "\n",
        "        # -----------------\n",
        "        #  Train Generator\n",
        "        # -----------------\n",
        "\n",
        "        optimizer_G.zero_grad()\n",
        "\n",
        "        # Sample noise as generator input\n",
        "        z = Variable(FloatTensor(np.random.normal(0, 1, (batch_size, latent_dim))))\n",
        "        generated_labels = Variable(LongTensor(np.random.randint(0, n_classes, batch_size)))\n",
        "\n",
        "        # Generate a batch of images\n",
        "        ## random sampling한 값인 z를 생성자에 넣어 이미지를 생성합니다.\n",
        "        generated_imgs = generator(z, generated_labels)\n",
        "\n",
        "        # Loss measures generator's ability to fool the discriminator\n",
        "        ## 생성된 이미지를 discriminator가 판별하게 한 후, loss값을 계산합니다.\n",
        "        g_loss = adversarial_loss(discriminator(generated_imgs, generated_labels), real)\n",
        "\n",
        "        # 생성자(generator) 업데이트\n",
        "        g_loss.backward()\n",
        "        optimizer_G.step()\n",
        "\n",
        "        # ---------------------\n",
        "        #  Train Discriminator\n",
        "        # ---------------------\n",
        "\n",
        "        optimizer_D.zero_grad()\n",
        "\n",
        "        # Measure discriminator's ability to classify real from generated samples\n",
        "        ## 실제 이미지는 real(1)로, 가짜 이미지는 fake(0)으로 판별하도록 계산합니다.\n",
        "        real_loss = adversarial_loss(discriminator(real_imgs, labels), real)\n",
        "        fake_loss = adversarial_loss(discriminator(generated_imgs.detach(), generated_labels), fake)\n",
        "        d_loss = (real_loss + fake_loss) / 2\n",
        "\n",
        "        # 판별자(discriminator) 업데이트\n",
        "        d_loss.backward()\n",
        "        optimizer_D.step()\n",
        "                \n",
        "        done = epoch * len(dataloader) + i\n",
        "        if done % sample_interval == 0:\n",
        "            # 생성된 이미지 중에서 25개만 선택하여 5 X 5 격자 이미지에 출력\n",
        "            save_image(generated_imgs.data[:25], f\"data{epoch}.png\", nrow=5, normalize=True)\n",
        "\n",
        "    print(f\"[Epoch {epoch}/{n_epochs}] [D loss: {d_loss.item():.6f}] [G loss: {g_loss.item():.6f}] [Elapsed time: {time.time() - start_time:.2f}s]\")"
      ],
      "execution_count": 11,
      "outputs": [
        {
          "output_type": "stream",
          "text": [
            "[Epoch 0/200] [D loss: 0.284209] [G loss: 0.093599] [Elapsed time: 16.47s]\n",
            "[Epoch 1/200] [D loss: 0.089587] [G loss: 0.648018] [Elapsed time: 32.27s]\n",
            "[Epoch 2/200] [D loss: 0.121047] [G loss: 0.563950] [Elapsed time: 48.89s]\n",
            "[Epoch 3/200] [D loss: 0.150431] [G loss: 0.516696] [Elapsed time: 64.28s]\n",
            "[Epoch 4/200] [D loss: 0.138187] [G loss: 0.532850] [Elapsed time: 79.87s]\n",
            "[Epoch 5/200] [D loss: 0.206193] [G loss: 0.255345] [Elapsed time: 96.05s]\n",
            "[Epoch 6/200] [D loss: 0.201813] [G loss: 0.297473] [Elapsed time: 112.78s]\n",
            "[Epoch 7/200] [D loss: 0.181797] [G loss: 0.296412] [Elapsed time: 129.10s]\n",
            "[Epoch 8/200] [D loss: 0.232955] [G loss: 0.585787] [Elapsed time: 145.35s]\n",
            "[Epoch 9/200] [D loss: 0.208240] [G loss: 0.362763] [Elapsed time: 161.37s]\n",
            "[Epoch 10/200] [D loss: 0.252150] [G loss: 0.296723] [Elapsed time: 177.65s]\n",
            "[Epoch 11/200] [D loss: 0.184856] [G loss: 0.325925] [Elapsed time: 193.11s]\n",
            "[Epoch 12/200] [D loss: 0.226047] [G loss: 0.359194] [Elapsed time: 209.42s]\n",
            "[Epoch 13/200] [D loss: 0.244739] [G loss: 0.426846] [Elapsed time: 225.46s]\n",
            "[Epoch 14/200] [D loss: 0.240534] [G loss: 0.304461] [Elapsed time: 241.35s]\n",
            "[Epoch 15/200] [D loss: 0.204088] [G loss: 0.380763] [Elapsed time: 257.15s]\n",
            "[Epoch 16/200] [D loss: 0.236632] [G loss: 0.334927] [Elapsed time: 272.98s]\n",
            "[Epoch 17/200] [D loss: 0.251003] [G loss: 0.331954] [Elapsed time: 288.88s]\n",
            "[Epoch 18/200] [D loss: 0.195872] [G loss: 0.365657] [Elapsed time: 305.01s]\n",
            "[Epoch 19/200] [D loss: 0.252056] [G loss: 0.281640] [Elapsed time: 320.57s]\n",
            "[Epoch 20/200] [D loss: 0.220178] [G loss: 0.349613] [Elapsed time: 336.34s]\n",
            "[Epoch 21/200] [D loss: 0.226046] [G loss: 0.260359] [Elapsed time: 352.33s]\n",
            "[Epoch 22/200] [D loss: 0.201418] [G loss: 0.310265] [Elapsed time: 367.97s]\n",
            "[Epoch 23/200] [D loss: 0.202913] [G loss: 0.377423] [Elapsed time: 383.49s]\n",
            "[Epoch 24/200] [D loss: 0.189779] [G loss: 0.440037] [Elapsed time: 399.55s]\n",
            "[Epoch 25/200] [D loss: 0.213876] [G loss: 0.291240] [Elapsed time: 415.49s]\n",
            "[Epoch 26/200] [D loss: 0.251289] [G loss: 0.325831] [Elapsed time: 431.64s]\n",
            "[Epoch 27/200] [D loss: 0.202896] [G loss: 0.289670] [Elapsed time: 447.61s]\n",
            "[Epoch 28/200] [D loss: 0.215489] [G loss: 0.479785] [Elapsed time: 463.57s]\n",
            "[Epoch 29/200] [D loss: 0.236482] [G loss: 0.348009] [Elapsed time: 479.51s]\n",
            "[Epoch 30/200] [D loss: 0.227110] [G loss: 0.267518] [Elapsed time: 495.44s]\n",
            "[Epoch 31/200] [D loss: 0.209679] [G loss: 0.418151] [Elapsed time: 511.46s]\n",
            "[Epoch 32/200] [D loss: 0.254129] [G loss: 0.578300] [Elapsed time: 527.14s]\n",
            "[Epoch 33/200] [D loss: 0.155427] [G loss: 0.429243] [Elapsed time: 542.87s]\n",
            "[Epoch 34/200] [D loss: 0.175065] [G loss: 0.385311] [Elapsed time: 559.17s]\n",
            "[Epoch 35/200] [D loss: 0.184539] [G loss: 0.380746] [Elapsed time: 574.58s]\n",
            "[Epoch 36/200] [D loss: 0.214266] [G loss: 0.374561] [Elapsed time: 590.69s]\n",
            "[Epoch 37/200] [D loss: 0.170458] [G loss: 0.399615] [Elapsed time: 606.60s]\n",
            "[Epoch 38/200] [D loss: 0.168271] [G loss: 0.321678] [Elapsed time: 621.80s]\n",
            "[Epoch 39/200] [D loss: 0.179741] [G loss: 0.415570] [Elapsed time: 637.44s]\n",
            "[Epoch 40/200] [D loss: 0.208688] [G loss: 0.334694] [Elapsed time: 653.89s]\n",
            "[Epoch 41/200] [D loss: 0.168131] [G loss: 0.497374] [Elapsed time: 669.93s]\n",
            "[Epoch 42/200] [D loss: 0.212777] [G loss: 0.405037] [Elapsed time: 685.89s]\n",
            "[Epoch 43/200] [D loss: 0.209078] [G loss: 0.220862] [Elapsed time: 701.75s]\n",
            "[Epoch 44/200] [D loss: 0.159653] [G loss: 0.435262] [Elapsed time: 717.77s]\n",
            "[Epoch 45/200] [D loss: 0.187742] [G loss: 0.460515] [Elapsed time: 733.99s]\n",
            "[Epoch 46/200] [D loss: 0.188378] [G loss: 0.379356] [Elapsed time: 749.99s]\n",
            "[Epoch 47/200] [D loss: 0.149599] [G loss: 0.568833] [Elapsed time: 765.80s]\n",
            "[Epoch 48/200] [D loss: 0.166154] [G loss: 0.425789] [Elapsed time: 781.37s]\n",
            "[Epoch 49/200] [D loss: 0.179855] [G loss: 0.722099] [Elapsed time: 796.81s]\n",
            "[Epoch 50/200] [D loss: 0.170655] [G loss: 0.481775] [Elapsed time: 812.74s]\n",
            "[Epoch 51/200] [D loss: 0.199697] [G loss: 0.268413] [Elapsed time: 828.64s]\n",
            "[Epoch 52/200] [D loss: 0.179430] [G loss: 0.419188] [Elapsed time: 844.51s]\n",
            "[Epoch 53/200] [D loss: 0.259297] [G loss: 0.152123] [Elapsed time: 860.42s]\n",
            "[Epoch 54/200] [D loss: 0.197528] [G loss: 0.225222] [Elapsed time: 876.24s]\n",
            "[Epoch 55/200] [D loss: 0.178570] [G loss: 0.397069] [Elapsed time: 892.07s]\n",
            "[Epoch 56/200] [D loss: 0.186341] [G loss: 0.577081] [Elapsed time: 908.13s]\n",
            "[Epoch 57/200] [D loss: 0.170842] [G loss: 0.847702] [Elapsed time: 923.87s]\n",
            "[Epoch 58/200] [D loss: 0.160587] [G loss: 0.620987] [Elapsed time: 939.93s]\n",
            "[Epoch 59/200] [D loss: 0.146058] [G loss: 0.800544] [Elapsed time: 956.32s]\n",
            "[Epoch 60/200] [D loss: 0.202142] [G loss: 0.808934] [Elapsed time: 972.15s]\n",
            "[Epoch 61/200] [D loss: 0.171192] [G loss: 0.302386] [Elapsed time: 988.37s]\n",
            "[Epoch 62/200] [D loss: 0.297132] [G loss: 0.102925] [Elapsed time: 1004.32s]\n",
            "[Epoch 63/200] [D loss: 0.181068] [G loss: 0.620287] [Elapsed time: 1020.24s]\n",
            "[Epoch 64/200] [D loss: 0.159798] [G loss: 0.907630] [Elapsed time: 1036.87s]\n",
            "[Epoch 65/200] [D loss: 0.157875] [G loss: 0.682769] [Elapsed time: 1052.67s]\n",
            "[Epoch 66/200] [D loss: 0.153656] [G loss: 0.563249] [Elapsed time: 1068.87s]\n",
            "[Epoch 67/200] [D loss: 0.180818] [G loss: 0.753633] [Elapsed time: 1084.83s]\n",
            "[Epoch 68/200] [D loss: 0.132204] [G loss: 0.655808] [Elapsed time: 1100.52s]\n",
            "[Epoch 69/200] [D loss: 0.192318] [G loss: 0.409307] [Elapsed time: 1116.79s]\n",
            "[Epoch 70/200] [D loss: 0.148637] [G loss: 0.282953] [Elapsed time: 1133.13s]\n",
            "[Epoch 71/200] [D loss: 0.218527] [G loss: 0.244617] [Elapsed time: 1149.34s]\n",
            "[Epoch 72/200] [D loss: 0.106020] [G loss: 0.572115] [Elapsed time: 1165.56s]\n",
            "[Epoch 73/200] [D loss: 0.164535] [G loss: 0.638200] [Elapsed time: 1181.10s]\n",
            "[Epoch 74/200] [D loss: 0.164638] [G loss: 0.608955] [Elapsed time: 1197.14s]\n",
            "[Epoch 75/200] [D loss: 0.146262] [G loss: 0.317574] [Elapsed time: 1212.99s]\n",
            "[Epoch 76/200] [D loss: 0.144033] [G loss: 0.606044] [Elapsed time: 1229.15s]\n",
            "[Epoch 77/200] [D loss: 0.103213] [G loss: 0.651139] [Elapsed time: 1245.72s]\n",
            "[Epoch 78/200] [D loss: 0.139008] [G loss: 0.722308] [Elapsed time: 1262.36s]\n",
            "[Epoch 79/200] [D loss: 0.108397] [G loss: 0.429853] [Elapsed time: 1278.60s]\n",
            "[Epoch 80/200] [D loss: 0.116186] [G loss: 0.484802] [Elapsed time: 1295.04s]\n",
            "[Epoch 81/200] [D loss: 0.146361] [G loss: 0.945021] [Elapsed time: 1311.15s]\n",
            "[Epoch 82/200] [D loss: 0.124987] [G loss: 0.422668] [Elapsed time: 1327.23s]\n",
            "[Epoch 83/200] [D loss: 0.192272] [G loss: 0.370473] [Elapsed time: 1343.81s]\n",
            "[Epoch 84/200] [D loss: 0.160626] [G loss: 0.425433] [Elapsed time: 1359.72s]\n",
            "[Epoch 85/200] [D loss: 0.113124] [G loss: 0.698261] [Elapsed time: 1376.20s]\n",
            "[Epoch 86/200] [D loss: 0.120193] [G loss: 0.748511] [Elapsed time: 1392.16s]\n",
            "[Epoch 87/200] [D loss: 0.107645] [G loss: 0.517471] [Elapsed time: 1408.51s]\n",
            "[Epoch 88/200] [D loss: 0.180741] [G loss: 0.813146] [Elapsed time: 1424.82s]\n",
            "[Epoch 89/200] [D loss: 0.160199] [G loss: 0.303806] [Elapsed time: 1440.76s]\n",
            "[Epoch 90/200] [D loss: 0.134553] [G loss: 0.400316] [Elapsed time: 1456.69s]\n",
            "[Epoch 91/200] [D loss: 0.161647] [G loss: 0.291894] [Elapsed time: 1472.66s]\n",
            "[Epoch 92/200] [D loss: 0.145764] [G loss: 0.608467] [Elapsed time: 1488.79s]\n",
            "[Epoch 93/200] [D loss: 0.126324] [G loss: 0.445968] [Elapsed time: 1504.95s]\n",
            "[Epoch 94/200] [D loss: 0.094665] [G loss: 0.651814] [Elapsed time: 1520.94s]\n",
            "[Epoch 95/200] [D loss: 0.170291] [G loss: 0.283725] [Elapsed time: 1537.23s]\n",
            "[Epoch 96/200] [D loss: 0.148454] [G loss: 0.343578] [Elapsed time: 1553.69s]\n",
            "[Epoch 97/200] [D loss: 0.134043] [G loss: 0.453325] [Elapsed time: 1569.46s]\n",
            "[Epoch 98/200] [D loss: 0.121527] [G loss: 0.484433] [Elapsed time: 1585.11s]\n",
            "[Epoch 99/200] [D loss: 0.232380] [G loss: 0.174429] [Elapsed time: 1600.73s]\n",
            "[Epoch 100/200] [D loss: 0.143985] [G loss: 0.338494] [Elapsed time: 1616.99s]\n",
            "[Epoch 101/200] [D loss: 0.092176] [G loss: 0.747768] [Elapsed time: 1633.56s]\n",
            "[Epoch 102/200] [D loss: 0.069306] [G loss: 0.789654] [Elapsed time: 1649.76s]\n",
            "[Epoch 103/200] [D loss: 0.116437] [G loss: 0.840187] [Elapsed time: 1665.79s]\n",
            "[Epoch 104/200] [D loss: 0.199551] [G loss: 0.684054] [Elapsed time: 1681.87s]\n",
            "[Epoch 105/200] [D loss: 0.120713] [G loss: 0.621204] [Elapsed time: 1698.16s]\n",
            "[Epoch 106/200] [D loss: 0.161349] [G loss: 0.349858] [Elapsed time: 1713.95s]\n",
            "[Epoch 107/200] [D loss: 0.078670] [G loss: 0.663784] [Elapsed time: 1729.72s]\n",
            "[Epoch 108/200] [D loss: 0.115506] [G loss: 0.721242] [Elapsed time: 1745.15s]\n",
            "[Epoch 109/200] [D loss: 0.076128] [G loss: 0.710722] [Elapsed time: 1761.06s]\n",
            "[Epoch 110/200] [D loss: 0.089408] [G loss: 0.619485] [Elapsed time: 1776.66s]\n",
            "[Epoch 111/200] [D loss: 0.080255] [G loss: 0.785897] [Elapsed time: 1792.76s]\n",
            "[Epoch 112/200] [D loss: 0.093963] [G loss: 0.893759] [Elapsed time: 1809.21s]\n",
            "[Epoch 113/200] [D loss: 0.113852] [G loss: 0.821724] [Elapsed time: 1824.58s]\n",
            "[Epoch 114/200] [D loss: 0.145406] [G loss: 0.416189] [Elapsed time: 1840.49s]\n",
            "[Epoch 115/200] [D loss: 0.091254] [G loss: 0.825327] [Elapsed time: 1856.27s]\n",
            "[Epoch 116/200] [D loss: 0.106032] [G loss: 0.501971] [Elapsed time: 1872.35s]\n",
            "[Epoch 117/200] [D loss: 0.110632] [G loss: 0.863145] [Elapsed time: 1888.18s]\n",
            "[Epoch 118/200] [D loss: 0.118676] [G loss: 0.565801] [Elapsed time: 1904.06s]\n",
            "[Epoch 119/200] [D loss: 0.117021] [G loss: 0.942064] [Elapsed time: 1920.30s]\n",
            "[Epoch 120/200] [D loss: 0.104093] [G loss: 0.457264] [Elapsed time: 1936.65s]\n",
            "[Epoch 121/200] [D loss: 0.140763] [G loss: 0.850711] [Elapsed time: 1952.45s]\n",
            "[Epoch 122/200] [D loss: 0.107152] [G loss: 0.798423] [Elapsed time: 1968.59s]\n",
            "[Epoch 123/200] [D loss: 0.135532] [G loss: 0.896406] [Elapsed time: 1984.55s]\n",
            "[Epoch 124/200] [D loss: 0.064934] [G loss: 0.680070] [Elapsed time: 2000.29s]\n",
            "[Epoch 125/200] [D loss: 0.165472] [G loss: 0.287409] [Elapsed time: 2016.76s]\n",
            "[Epoch 126/200] [D loss: 0.221053] [G loss: 0.211003] [Elapsed time: 2032.84s]\n",
            "[Epoch 127/200] [D loss: 0.140098] [G loss: 0.438749] [Elapsed time: 2049.04s]\n",
            "[Epoch 128/200] [D loss: 0.155179] [G loss: 0.370808] [Elapsed time: 2065.29s]\n",
            "[Epoch 129/200] [D loss: 0.110000] [G loss: 0.650539] [Elapsed time: 2081.26s]\n",
            "[Epoch 130/200] [D loss: 0.121616] [G loss: 0.887896] [Elapsed time: 2097.34s]\n",
            "[Epoch 131/200] [D loss: 0.134552] [G loss: 0.937114] [Elapsed time: 2113.46s]\n",
            "[Epoch 132/200] [D loss: 0.091655] [G loss: 0.786072] [Elapsed time: 2129.34s]\n",
            "[Epoch 133/200] [D loss: 0.162646] [G loss: 1.108757] [Elapsed time: 2145.46s]\n",
            "[Epoch 134/200] [D loss: 0.080774] [G loss: 0.851281] [Elapsed time: 2161.41s]\n",
            "[Epoch 135/200] [D loss: 0.075902] [G loss: 0.815853] [Elapsed time: 2177.11s]\n",
            "[Epoch 136/200] [D loss: 0.091094] [G loss: 0.818268] [Elapsed time: 2193.05s]\n",
            "[Epoch 137/200] [D loss: 0.090514] [G loss: 0.589211] [Elapsed time: 2208.96s]\n",
            "[Epoch 138/200] [D loss: 0.074411] [G loss: 0.890783] [Elapsed time: 2225.16s]\n",
            "[Epoch 139/200] [D loss: 0.080684] [G loss: 0.722382] [Elapsed time: 2241.41s]\n",
            "[Epoch 140/200] [D loss: 0.110067] [G loss: 0.537458] [Elapsed time: 2257.71s]\n",
            "[Epoch 141/200] [D loss: 0.085751] [G loss: 0.681317] [Elapsed time: 2273.62s]\n",
            "[Epoch 142/200] [D loss: 0.082832] [G loss: 0.903569] [Elapsed time: 2289.11s]\n",
            "[Epoch 143/200] [D loss: 0.080832] [G loss: 0.869943] [Elapsed time: 2304.97s]\n",
            "[Epoch 144/200] [D loss: 0.088270] [G loss: 0.778483] [Elapsed time: 2321.79s]\n",
            "[Epoch 145/200] [D loss: 0.099890] [G loss: 0.553339] [Elapsed time: 2337.42s]\n",
            "[Epoch 146/200] [D loss: 0.316443] [G loss: 0.069497] [Elapsed time: 2353.71s]\n",
            "[Epoch 147/200] [D loss: 0.152869] [G loss: 0.973090] [Elapsed time: 2369.59s]\n",
            "[Epoch 148/200] [D loss: 0.095538] [G loss: 0.519618] [Elapsed time: 2385.31s]\n",
            "[Epoch 149/200] [D loss: 0.141530] [G loss: 0.404624] [Elapsed time: 2401.20s]\n",
            "[Epoch 150/200] [D loss: 0.074393] [G loss: 0.800113] [Elapsed time: 2416.94s]\n",
            "[Epoch 151/200] [D loss: 0.057272] [G loss: 0.792089] [Elapsed time: 2432.59s]\n",
            "[Epoch 152/200] [D loss: 0.070098] [G loss: 0.739116] [Elapsed time: 2449.07s]\n",
            "[Epoch 153/200] [D loss: 0.177607] [G loss: 0.249277] [Elapsed time: 2464.83s]\n",
            "[Epoch 154/200] [D loss: 0.092577] [G loss: 0.984357] [Elapsed time: 2480.95s]\n",
            "[Epoch 155/200] [D loss: 0.120450] [G loss: 1.052768] [Elapsed time: 2497.24s]\n",
            "[Epoch 156/200] [D loss: 0.156154] [G loss: 0.376379] [Elapsed time: 2513.13s]\n",
            "[Epoch 157/200] [D loss: 0.102900] [G loss: 0.494165] [Elapsed time: 2528.83s]\n",
            "[Epoch 158/200] [D loss: 0.138597] [G loss: 0.422258] [Elapsed time: 2545.07s]\n",
            "[Epoch 159/200] [D loss: 0.094733] [G loss: 0.768648] [Elapsed time: 2560.78s]\n",
            "[Epoch 160/200] [D loss: 0.124440] [G loss: 1.027225] [Elapsed time: 2576.76s]\n",
            "[Epoch 161/200] [D loss: 0.059701] [G loss: 1.045871] [Elapsed time: 2592.54s]\n",
            "[Epoch 162/200] [D loss: 0.067347] [G loss: 0.600033] [Elapsed time: 2609.10s]\n",
            "[Epoch 163/200] [D loss: 0.167190] [G loss: 0.477119] [Elapsed time: 2625.01s]\n",
            "[Epoch 164/200] [D loss: 0.080883] [G loss: 0.932591] [Elapsed time: 2640.73s]\n",
            "[Epoch 165/200] [D loss: 0.276314] [G loss: 0.145902] [Elapsed time: 2657.43s]\n",
            "[Epoch 166/200] [D loss: 0.119862] [G loss: 0.529249] [Elapsed time: 2673.04s]\n",
            "[Epoch 167/200] [D loss: 0.216875] [G loss: 0.324344] [Elapsed time: 2688.90s]\n",
            "[Epoch 168/200] [D loss: 0.122768] [G loss: 0.768484] [Elapsed time: 2704.47s]\n",
            "[Epoch 169/200] [D loss: 0.142071] [G loss: 0.410780] [Elapsed time: 2719.60s]\n",
            "[Epoch 170/200] [D loss: 0.091729] [G loss: 0.785019] [Elapsed time: 2735.56s]\n",
            "[Epoch 171/200] [D loss: 0.090387] [G loss: 0.526926] [Elapsed time: 2751.22s]\n",
            "[Epoch 172/200] [D loss: 0.090651] [G loss: 0.528416] [Elapsed time: 2767.16s]\n",
            "[Epoch 173/200] [D loss: 0.104890] [G loss: 0.579287] [Elapsed time: 2783.53s]\n",
            "[Epoch 174/200] [D loss: 0.078633] [G loss: 0.756226] [Elapsed time: 2799.49s]\n",
            "[Epoch 175/200] [D loss: 0.197612] [G loss: 0.261420] [Elapsed time: 2815.35s]\n",
            "[Epoch 176/200] [D loss: 0.100805] [G loss: 0.926991] [Elapsed time: 2831.45s]\n",
            "[Epoch 177/200] [D loss: 0.237729] [G loss: 1.064794] [Elapsed time: 2847.52s]\n",
            "[Epoch 178/200] [D loss: 0.081185] [G loss: 0.935386] [Elapsed time: 2863.73s]\n",
            "[Epoch 179/200] [D loss: 0.069278] [G loss: 0.890072] [Elapsed time: 2879.69s]\n",
            "[Epoch 180/200] [D loss: 0.074815] [G loss: 0.977354] [Elapsed time: 2895.46s]\n",
            "[Epoch 181/200] [D loss: 0.073922] [G loss: 0.834319] [Elapsed time: 2911.40s]\n",
            "[Epoch 182/200] [D loss: 0.125675] [G loss: 0.501136] [Elapsed time: 2927.33s]\n",
            "[Epoch 183/200] [D loss: 0.098672] [G loss: 0.738328] [Elapsed time: 2943.19s]\n",
            "[Epoch 184/200] [D loss: 0.086155] [G loss: 0.614905] [Elapsed time: 2959.27s]\n",
            "[Epoch 185/200] [D loss: 0.217260] [G loss: 0.904119] [Elapsed time: 2975.30s]\n",
            "[Epoch 186/200] [D loss: 0.108801] [G loss: 0.771017] [Elapsed time: 2990.91s]\n",
            "[Epoch 187/200] [D loss: 0.221144] [G loss: 0.844271] [Elapsed time: 3006.84s]\n",
            "[Epoch 188/200] [D loss: 0.064664] [G loss: 0.799669] [Elapsed time: 3023.05s]\n",
            "[Epoch 189/200] [D loss: 0.118265] [G loss: 0.405296] [Elapsed time: 3038.68s]\n",
            "[Epoch 190/200] [D loss: 0.102893] [G loss: 0.508929] [Elapsed time: 3054.40s]\n",
            "[Epoch 191/200] [D loss: 0.138851] [G loss: 0.393825] [Elapsed time: 3070.21s]\n",
            "[Epoch 192/200] [D loss: 0.068915] [G loss: 0.913944] [Elapsed time: 3086.63s]\n",
            "[Epoch 193/200] [D loss: 0.190220] [G loss: 0.284606] [Elapsed time: 3102.63s]\n",
            "[Epoch 194/200] [D loss: 0.072651] [G loss: 0.907947] [Elapsed time: 3118.78s]\n",
            "[Epoch 195/200] [D loss: 0.075124] [G loss: 0.855087] [Elapsed time: 3135.00s]\n",
            "[Epoch 196/200] [D loss: 0.052978] [G loss: 0.963411] [Elapsed time: 3150.97s]\n",
            "[Epoch 197/200] [D loss: 0.051298] [G loss: 0.961470] [Elapsed time: 3167.08s]\n",
            "[Epoch 198/200] [D loss: 0.107106] [G loss: 0.950546] [Elapsed time: 3182.60s]\n",
            "[Epoch 199/200] [D loss: 0.115929] [G loss: 0.422332] [Elapsed time: 3198.46s]\n"
          ],
          "name": "stdout"
        }
      ]
    },
    {
      "cell_type": "markdown",
      "metadata": {
        "id": "dKhzqw6U8u-H"
      },
      "source": [
        "## Image\n",
        "\n",
        "\n",
        "\n",
        "| epoch 0                                                      | epoch 50                                                     | epoch 100                                                    | epoch 150                                                    | epoch 199                                                    |\n",
        "| ------------------------------------------------------------ | ------------------------------------------------------------ | ------------------------------------------------------------ | ------------------------------------------------------------ | ------------------------------------------------------------ |\n",
        "| ![](https://github.com/happy-jihye/happy-jihye.github.io/blob/master/_posts/images/2_CGAN/data0.png?raw=1) | ![](https://github.com/happy-jihye/happy-jihye.github.io/blob/master/_posts/images/2_CGAN/data50.png?raw=1) | ![](https://github.com/happy-jihye/happy-jihye.github.io/blob/master/_posts/images/2_CGAN/data100.png?raw=1) | ![](https://github.com/happy-jihye/happy-jihye.github.io/blob/master/_posts/images/2_CGAN/data150.png?raw=1) | ![](https://github.com/happy-jihye/happy-jihye.github.io/blob/master/_posts/images/2_CGAN/data199.png?raw=1) |\n",
        "\n"
      ]
    }
  ]
}