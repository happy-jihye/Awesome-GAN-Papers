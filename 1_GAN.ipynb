{
  "nbformat": 4,
  "nbformat_minor": 0,
  "metadata": {
    "accelerator": "GPU",
    "colab": {
      "name": "1 - GAN",
      "provenance": [],
      "collapsed_sections": [],
      "include_colab_link": true
    },
    "kernelspec": {
      "display_name": "Python 3",
      "name": "python3"
    }
  },
  "cells": [
    {
      "cell_type": "markdown",
      "metadata": {
        "id": "view-in-github",
        "colab_type": "text"
      },
      "source": [
        "<a href=\"https://colab.research.google.com/github/happy-jihye/GAN/blob/main/1_GAN.ipynb\" target=\"_parent\"><img src=\"https://colab.research.google.com/assets/colab-badge.svg\" alt=\"Open In Colab\"/></a>"
      ]
    },
    {
      "cell_type": "markdown",
      "metadata": {
        "id": "xrUqXYEepD0o"
      },
      "source": [
        "# 1 - Generative Adversarial Networks(GAN)\n",
        "\n",
        "- [Generative Adversarial Networks (NIPS 2014)](https://arxiv.org/abs/1406.2661)\n",
        "\n",
        "> - 2021/03/12 Happy-jihye\n",
        "> - **Reference** : [eriklindernoren/PyTorch-GAN](https://github.com/eriklindernoren/PyTorch-GAN/blob/master/implementations/gan/gan.py)\n",
        "\n",
        "---\n"
      ]
    },
    {
      "cell_type": "markdown",
      "metadata": {
        "id": "a2SWq7FCwzn2"
      },
      "source": [
        "## **GAN - minimax two player game**\n",
        "- Generative Adversarial Networks(GAN)은 adversarial process를 적용한 생성모델입니다. 주어진 입력 데이터와 유사한 데이터를 생성하는 것을 목표로 하며, Generator model과 Discriminative model이 경쟁하며 서로의 성능을 높여가는 재미있는 모델입니다. \n",
        "  - paper에서 나온 예시를 들면, `Generator(G)` 모델은 위조 지폐를 만드는 사람들과 유사하며, `Discriminator(D)` 모델은 위조지폐를 발견하는 경찰과 유사합니다. 생성자는 최대한 기존의 데이터(실제 지폐)와 유사한 지폐를 만들려고 노력하고, 판별자는 데이터 샘플이 모델 분포에서 왔는지(위조지폐), 실제 데이터 분포에서 왔는지(실제 지폐) 판별합니다.\n",
        "  ![](https://github.com/happy-jihye/GAN/blob/main/images/gan3.png?raw=1)\n",
        "  - 즉, **G**는 **가짜 Data를 잘 만들어서 D가 진짜와 가짜를 구별 못하게 하는 것**이 목적이고, **D**는 **진짜 Data와 G가 만들어낸 가짜 Data를 잘 구별하는 것**이 목적입니다.\n",
        "  - 이렇게 D와 G가 서로 **경쟁적으로(Adversarially)** 학습을 하다보면, 실제로 서로에게 학습의 방향성을 제시해주게 되어 `Unsupervised Learning`이 가능해집니다.\n",
        "\n",
        "![](https://github.com/happy-jihye/happy-jihye.github.io/blob/master/_posts/images/1_GAN_files/gan3.jpg?raw=1)\n",
        "\n",
        "### Generator \n",
        "\n",
        "- **G**는 **random noise**를 input으로 받습니다. 보통 이 random noise `z`는 Gaussian과 같은 정규 분포에서 무작위로 추출되며, z vector가 존재하던 공간을 `latent space`라고 부릅니다.\n",
        "- **G**에 latent $z$를 입력하고 나면 **Neural Network**를 거쳐 **Fake image**인 $G(z)$를 생성하게 됩니다. 이때, $x = G(z)$는 $P_g(x)$라는 확률 분포에서 추출된 $x$라고 생각해도 무방합니다. \n",
        "\n",
        "### Discriminator\n",
        "\n",
        "- **G**가 fake image를 생성하고 나면, **D**는 **Fake Image**와 **Real Image**를 input으로 받은 후 **Neural Network**를 거쳐 0과 1사이의 값을 출력하게 됩니다. \n",
        "- **D**가 가짜 이미지라고 판별을 하면 0과 가까운 숫자를 출력하고, 진짜 이미지라고 판별을 하면 1과 가까운 숫자를 출력하게 됩니다.\n",
        "\n",
        "### Object Functions\n",
        "\n",
        "![](https://github.com/happy-jihye/happy-jihye.github.io/blob/master/_posts/images/1_GAN_files/gan4.png?raw=1)\n",
        "\n",
        "- GAN을 수식으로 표현하면 다음과 같으며, `minimax game`의 global optimum에 도달하면 **D**는 $D^*_G(x)=\\frac{p_{data}(x)}{p_{data}(x)+p_{g}(x)}$가 되며, **G**는 $p_{data}(x)=p_{g}(x)$ 가 됩니다.\n"
      ]
    },
    {
      "cell_type": "code",
      "metadata": {
        "id": "CiRb7M3naHyo"
      },
      "source": [
        "*import torch\n",
        "import torch.nn as nn\n",
        "\n",
        "import numpy as np\n",
        "\n",
        "# for MNIST data\n",
        "import torchvision\n",
        "from torchvision import datasets\n",
        "import torchvision.transforms as transforms\n",
        "from torchvision.utils import save_image\n",
        "from torch.autograd import Variable\n",
        "\n",
        "\n",
        "import matplotlib.pyplot as plt"
      ],
      "execution_count": 1,
      "outputs": []
    },
    {
      "cell_type": "markdown",
      "metadata": {
        "id": "NOilX0rBqJXn"
      },
      "source": [
        "## Preparing data\n",
        "### **Loading MNIST Data**"
      ]
    },
    {
      "cell_type": "markdown",
      "metadata": {
        "id": "zo-9EdL8yE1F"
      },
      "source": [
        "- 이번 예제에서는 실제 MNIST training images를 활용하여 MNIST 숫자를 생성하는 GAN model을 만들 예정입니다.\n",
        "- [How to Build a Streaming DataLoader with PyTorch](https://medium.com/speechmatics/how-to-build-a-streaming-dataloader-with-pytorch-a66dd891d9dd)"
      ]
    },
    {
      "cell_type": "code",
      "metadata": {
        "id": "HrhXIwtAqM7H"
      },
      "source": [
        "# download the MINST data\n",
        "\n",
        "batch_size = 64\n",
        "\n",
        "transforms_train = transforms.Compose([\n",
        "    transforms.Resize(28),\n",
        "    transforms.ToTensor(), # data를 pytorch의 tensor형식으로 바꿉니다\n",
        "    transforms.Normalize([0.5], [0.5]) # 픽셀값을 0 ~ 1에서 -1 ~ 1 로 바꿔줍니다.\n",
        "])\n",
        "\n",
        "train_dataset = datasets.MNIST(root=\"./dataset\", train=True, download=True, transform=transforms_train)\n",
        "\n",
        "# data를 batch size만큼만 가져오는 dataloader를 만듭니다.\n",
        "dataloader = torch.utils.data.DataLoader(train_dataset, batch_size = batch_size, shuffle=True, num_workers=4)"
      ],
      "execution_count": null,
      "outputs": []
    },
    {
      "cell_type": "markdown",
      "metadata": {
        "id": "oEKSLFR90OBi"
      },
      "source": [
        "- 하나의 batch에 들어있는 mnist data를 출력해보았습니다."
      ]
    },
    {
      "cell_type": "code",
      "metadata": {
        "id": "hpPi14eUzLWI",
        "colab": {
          "base_uri": "https://localhost:8080/",
          "height": 361
        },
        "outputId": "e386ad8e-1014-4990-dc24-66717963e90c"
      },
      "source": [
        "images, labels = next(iter(dataloader))\n",
        "img = torchvision.utils.make_grid(images)\n",
        "\n",
        "img = img.numpy().transpose(1,2,0)\n",
        "std = [0.5,0.5,0.5]\n",
        "mean = [0.5,0.5,0.5]\n",
        "img = img*std+mean\n",
        "print([labels[i] for i in range(64)])\n",
        "plt.imshow(img)"
      ],
      "execution_count": 13,
      "outputs": [
        {
          "output_type": "stream",
          "text": [
            "/usr/local/lib/python3.7/dist-packages/torch/utils/data/dataloader.py:477: UserWarning: This DataLoader will create 4 worker processes in total. Our suggested max number of worker in current system is 2, which is smaller than what this DataLoader is going to create. Please be aware that excessive worker creation might get DataLoader running slow or even freeze, lower the worker number to avoid potential slowness/freeze if necessary.\n",
            "  cpuset_checked))\n"
          ],
          "name": "stderr"
        },
        {
          "output_type": "stream",
          "text": [
            "[tensor(5), tensor(6), tensor(2), tensor(9), tensor(0), tensor(9), tensor(4), tensor(6), tensor(9), tensor(6), tensor(8), tensor(9), tensor(1), tensor(7), tensor(3), tensor(9), tensor(2), tensor(8), tensor(9), tensor(3), tensor(4), tensor(6), tensor(2), tensor(8), tensor(8), tensor(4), tensor(8), tensor(4), tensor(6), tensor(2), tensor(3), tensor(0), tensor(2), tensor(3), tensor(8), tensor(2), tensor(4), tensor(9), tensor(2), tensor(6), tensor(7), tensor(0), tensor(3), tensor(1), tensor(2), tensor(5), tensor(0), tensor(5), tensor(3), tensor(2), tensor(0), tensor(4), tensor(6), tensor(6), tensor(8), tensor(2), tensor(7), tensor(5), tensor(4), tensor(9), tensor(4), tensor(5), tensor(0), tensor(7)]\n"
          ],
          "name": "stdout"
        },
        {
          "output_type": "execute_result",
          "data": {
            "text/plain": [
              "<matplotlib.image.AxesImage at 0x7fa5802841d0>"
            ]
          },
          "metadata": {
            "tags": []
          },
          "execution_count": 13
        },
        {
          "output_type": "display_data",
          "data": {
            "image/png": "[encoded data removed]",
            "text/plain": [
              "<Figure size 432x288 with 1 Axes>"
            ]
          },
          "metadata": {
            "tags": [],
            "needs_background": "light"
          }
        }
      ]
    },
    {
      "cell_type": "code",
      "metadata": {
        "id": "ONQYN5Neow0A"
      },
      "source": [
        "# image \n",
        "\n",
        "channels = 1\n",
        "img_size = 28\n",
        "\n",
        "img_shape = (channels, img_size, img_size)"
      ],
      "execution_count": 14,
      "outputs": []
    },
    {
      "cell_type": "markdown",
      "metadata": {
        "id": "tp4hbA95pihv"
      },
      "source": [
        "## Build Model\n",
        "### Generator\n"
      ]
    },
    {
      "cell_type": "markdown",
      "metadata": {
        "id": "04p59hut8L3S"
      },
      "source": [
        "- 생성자는 random vector `z`를 입력받아 가짜 이미지를 출력하는 함수입니다. 여기서 **z**는 정규분포(Normal Distribution)에서 무작위로 추출한 값으로, z vector가 존재하는 공간을 잠재공간(latent space)라고 부릅니다.\n",
        "  - 이 튜토리얼에서는 잠재공간의 크기를 100으로 뒀으며, 잠재공간의 크기에는 제한이 없으나 나타내려고 하는 대상의 정보를 충분히 담을 수 있을 만큼 커야합니다.\n",
        "- 즉, 생성자는 단순한 분포에서 사람 얼굴 이미지와 같은 복잡한 분포로 mapping하는 함수라고 볼 수 있습니다.\n",
        "![](https://github.com/happy-jihye/GAN/blob/main/images/gan4.png?raw=1)\n",
        "\n",
        "- 생성자에 충분히 많은 매개변수를 확보하기 위해 여러개의 layer를 쌓아서 생성자를 만들었습니다.\n",
        "- [참고](https://dreamgonfly.github.io/blog/gan-explained/)"
      ]
    },
    {
      "cell_type": "code",
      "metadata": {
        "id": "Hj5al6cTZES1"
      },
      "source": [
        "# dimensionality of the latent space\n",
        "# latent vector를 추출하기 위한 noise 분포의 dimension (정규분포를 따름)\n",
        "latent_dim = 100\n",
        "\n",
        "class Generator(nn.Module):\n",
        "    def __init__(self):\n",
        "        super(Generator, self).__init__()\n",
        "\n",
        "        def block(input_dim, output_dim, normalize=True):\n",
        "            layers = [nn.Linear(input_dim, output_dim)]\n",
        "            if normalize:\n",
        "                layers.append(nn.BatchNorm1d(output_dim, 0.8))\n",
        "            layers.append(nn.LeakyReLU(0.2, inplace=True))\n",
        "            return layers\n",
        "\n",
        "        # generater의 model은 여러개의 block을 쌓아서 만들어짐\n",
        "        self.model = nn.Sequential(\n",
        "            *block(latent_dim, 128, normalize=False),\n",
        "            *block(128, 256),\n",
        "            *block(256, 512),\n",
        "            *block(512, 1024),\n",
        "            nn.Linear(1024, int(np.prod(img_shape))),\n",
        "            nn.Tanh() \n",
        "        )\n",
        "\n",
        "    def forward(self, z): \n",
        "        # z : input noise vector \n",
        "        img = self.model(z)\n",
        "        img = img.view(img.size(0), *img_shape)\n",
        "        return img"
      ],
      "execution_count": 15,
      "outputs": []
    },
    {
      "cell_type": "markdown",
      "metadata": {
        "id": "znyoFjUCprGO"
      },
      "source": [
        "### Discriminator"
      ]
    },
    {
      "cell_type": "markdown",
      "metadata": {
        "id": "_igjRTeQ5Xbz"
      },
      "source": [
        "![](https://github.com/happy-jihye/GAN/blob/main/images/gan2.png?raw=1)"
      ]
    },
    {
      "cell_type": "code",
      "metadata": {
        "id": "M_kvtvOhaLX6"
      },
      "source": [
        "class Discriminator(nn.Module):\n",
        "    def __init__(self):\n",
        "        super(Discriminator, self).__init__()\n",
        "\n",
        "        self.model = nn.Sequential(\n",
        "            nn.Linear(int(np.prod(img_shape)), 512),\n",
        "            nn.LeakyReLU(0.2, inplace=True),\n",
        "            nn.Linear(512, 256),\n",
        "            nn.LeakyReLU(0.2, inplace=True),\n",
        "            nn.Linear(256, 1),\n",
        "            nn.Sigmoid(),\n",
        "        )\n",
        "\n",
        "    # 이미지에 대한 판별 결과를 반환\n",
        "    def forward(self, img):\n",
        "        img_flat = img.view(img.size(0), -1)\n",
        "        validity = self.model(img_flat)\n",
        "\n",
        "        return validity"
      ],
      "execution_count": 16,
      "outputs": []
    },
    {
      "cell_type": "markdown",
      "metadata": {
        "id": "K54Z7PNIqTkO"
      },
      "source": [
        "### Loss Function & Optimizer\n",
        "\n",
        "- 손실 함수로는 Binary Cross Entropy를, 최적화 함수로는 Adam을 사용합니다."
      ]
    },
    {
      "cell_type": "code",
      "metadata": {
        "id": "tBZf0BmBaN7l"
      },
      "source": [
        "''' Hyper parameter '''\n",
        "# learning rate\n",
        "lr = 0.0002\n",
        "\n",
        "# decay of first order momentum of gradient\n",
        "b1 = 0.5\n",
        "b2 = 0.999\n",
        "\n",
        "\n",
        "# Initialize generator and discriminator\n",
        "generator = Generator()\n",
        "discriminator = Discriminator()\n",
        "\n",
        "# Loss function\n",
        "adversarial_loss = nn.BCELoss()\n",
        "\n",
        "# Adam Optimizer\n",
        "optimizer_G = torch.optim.Adam(generator.parameters(), lr=lr, betas=(b1, b2))\n",
        "optimizer_D = torch.optim.Adam(discriminator.parameters(), lr=lr, betas=(b1, b2))"
      ],
      "execution_count": 17,
      "outputs": []
    },
    {
      "cell_type": "code",
      "metadata": {
        "id": "KanyJ4VjrCUl"
      },
      "source": [
        "# GPU\n",
        "cuda = True if torch.cuda.is_available() else False\n",
        "\n",
        "if cuda : \n",
        "  generator.cuda()\n",
        "  discriminator.cuda()\n",
        "  adversarial_loss.cuda()"
      ],
      "execution_count": 18,
      "outputs": []
    },
    {
      "cell_type": "markdown",
      "metadata": {
        "id": "F9ThAQIOt-74"
      },
      "source": [
        "## Training"
      ]
    },
    {
      "cell_type": "markdown",
      "metadata": {
        "id": "IkTiFOyW6coh"
      },
      "source": [
        "- GAN model에서는 근사적인 추론이나 Markov chains을 사용하지 않고, back-propagation만을 이용하여 gradient를 업데이트합니다."
      ]
    },
    {
      "cell_type": "code",
      "metadata": {
        "id": "srQI5xI6ar-X",
        "colab": {
          "base_uri": "https://localhost:8080/"
        },
        "outputId": "a00d9b45-4d71-4af2-ffb1-19f76ee2d419"
      },
      "source": [
        "import time\n",
        "\n",
        "# number of epochs of training\n",
        "n_epochs = 200 \n",
        "\n",
        "# interval between image samples\n",
        "sample_interval = 2000 \n",
        "\n",
        "start_time = time.time()\n",
        "\n",
        "Tensor = torch.cuda.FloatTensor if cuda else torch.FloatTensor\n",
        "\n",
        "\n",
        "for epoch in range(n_epochs):\n",
        "    for i, (imgs, _) in enumerate(dataloader):\n",
        "\n",
        "        # Adversarial ground truths\n",
        "        ## 실제 이미지는 1로, 가짜 이미지는 0으로 label됩니다. \n",
        "        real = Variable(Tensor(imgs.size(0), 1).fill_(1.0), requires_grad=False)\n",
        "        fake = Variable(Tensor(imgs.size(0), 1).fill_(0.0), requires_grad=False)\n",
        "\n",
        "        # Configure input\n",
        "        real_imgs = Variable(imgs.type(Tensor))\n",
        "\n",
        "        # -----------------\n",
        "        #  Train Generator\n",
        "        # -----------------\n",
        "\n",
        "        optimizer_G.zero_grad()\n",
        "\n",
        "        # Sample noise as generator input\n",
        "        z = Variable(Tensor(np.random.normal(0, 1, (imgs.shape[0], latent_dim))))\n",
        "\n",
        "        # Generate a batch of images\n",
        "        ## random sampling한 값인 z를 생성자에 넣어 이미지를 생성합니다.\n",
        "        generated_imgs = generator(z)\n",
        "\n",
        "        # Loss measures generator's ability to fool the discriminator\n",
        "        ## 생성된 이미지를 discriminator가 판별하게 한 후, loss값을 계산합니다.\n",
        "        g_loss = adversarial_loss(discriminator(generated_imgs), real)\n",
        "\n",
        "        # 생성자(generator) 업데이트\n",
        "        g_loss.backward()\n",
        "        optimizer_G.step()\n",
        "\n",
        "        # ---------------------\n",
        "        #  Train Discriminator\n",
        "        # ---------------------\n",
        "\n",
        "        optimizer_D.zero_grad()\n",
        "\n",
        "        # Measure discriminator's ability to classify real from generated samples\n",
        "        ## 실제 이미지는 real(1)로, 가짜 이미지는 fake(0)으로 판별하도록 계산합니다.\n",
        "        real_loss = adversarial_loss(discriminator(real_imgs), real)\n",
        "        fake_loss = adversarial_loss(discriminator(generated_imgs.detach()), fake)\n",
        "        d_loss = (real_loss + fake_loss) / 2\n",
        "\n",
        "        # 판별자(discriminator) 업데이트\n",
        "        d_loss.backward()\n",
        "        optimizer_D.step()\n",
        "\n",
        "        done = epoch * len(dataloader) + i\n",
        "        if done % sample_interval == 0:\n",
        "            # 생성된 이미지 중에서 25개만 선택하여 5 X 5 격자 이미지에 출력\n",
        "            save_image(generated_imgs.data[:25], f\"data{epoch}.png\", nrow=5, normalize=True)\n",
        "\n",
        "    # 하나의 epoch이 끝날 때마다 로그(log) 출력\n",
        "    print(f\"[Epoch {epoch}/{n_epochs}] [D loss: {d_loss.item():.6f}] [G loss: {g_loss.item():.6f}] [Elapsed time: {time.time() - start_time:.2f}s]\")"
      ],
      "execution_count": 19,
      "outputs": [
        {
          "output_type": "stream",
          "text": [
            "/usr/local/lib/python3.7/dist-packages/torch/utils/data/dataloader.py:477: UserWarning: This DataLoader will create 4 worker processes in total. Our suggested max number of worker in current system is 2, which is smaller than what this DataLoader is going to create. Please be aware that excessive worker creation might get DataLoader running slow or even freeze, lower the worker number to avoid potential slowness/freeze if necessary.\n",
            "  cpuset_checked))\n"
          ],
          "name": "stderr"
        },
        {
          "output_type": "stream",
          "text": [
            "[Epoch 0/200] [D loss: 0.458743] [G loss: 1.942712] [Elapsed time: 14.48s]\n",
            "[Epoch 1/200] [D loss: 0.390978] [G loss: 1.275545] [Elapsed time: 28.62s]\n",
            "[Epoch 2/200] [D loss: 0.265740] [G loss: 1.080804] [Elapsed time: 43.18s]\n",
            "[Epoch 3/200] [D loss: 0.891665] [G loss: 4.901868] [Elapsed time: 57.52s]\n",
            "[Epoch 4/200] [D loss: 0.476425] [G loss: 0.863494] [Elapsed time: 71.60s]\n",
            "[Epoch 5/200] [D loss: 0.454903] [G loss: 0.576118] [Elapsed time: 85.74s]\n",
            "[Epoch 6/200] [D loss: 0.133300] [G loss: 2.433179] [Elapsed time: 100.24s]\n",
            "[Epoch 7/200] [D loss: 0.094781] [G loss: 2.981544] [Elapsed time: 114.45s]\n",
            "[Epoch 8/200] [D loss: 0.181251] [G loss: 3.181638] [Elapsed time: 129.06s]\n",
            "[Epoch 9/200] [D loss: 0.268062] [G loss: 1.650167] [Elapsed time: 143.39s]\n",
            "[Epoch 10/200] [D loss: 0.148337] [G loss: 1.861697] [Elapsed time: 157.57s]\n",
            "[Epoch 11/200] [D loss: 0.336009] [G loss: 6.562683] [Elapsed time: 171.61s]\n",
            "[Epoch 12/200] [D loss: 0.116051] [G loss: 3.702429] [Elapsed time: 186.11s]\n",
            "[Epoch 13/200] [D loss: 0.330651] [G loss: 2.613504] [Elapsed time: 200.35s]\n",
            "[Epoch 14/200] [D loss: 0.194057] [G loss: 2.378803] [Elapsed time: 214.38s]\n",
            "[Epoch 15/200] [D loss: 0.627167] [G loss: 6.705003] [Elapsed time: 229.09s]\n",
            "[Epoch 16/200] [D loss: 0.317059] [G loss: 1.656479] [Elapsed time: 243.51s]\n",
            "[Epoch 17/200] [D loss: 0.201614] [G loss: 1.418605] [Elapsed time: 257.77s]\n",
            "[Epoch 18/200] [D loss: 0.116628] [G loss: 3.220607] [Elapsed time: 271.63s]\n",
            "[Epoch 19/200] [D loss: 0.227662] [G loss: 1.625189] [Elapsed time: 286.03s]\n",
            "[Epoch 20/200] [D loss: 0.215400] [G loss: 2.033691] [Elapsed time: 300.15s]\n",
            "[Epoch 21/200] [D loss: 0.107763] [G loss: 3.114661] [Elapsed time: 315.20s]\n",
            "[Epoch 22/200] [D loss: 0.042492] [G loss: 3.386240] [Elapsed time: 329.06s]\n",
            "[Epoch 23/200] [D loss: 0.058856] [G loss: 5.231410] [Elapsed time: 343.38s]\n",
            "[Epoch 24/200] [D loss: 0.044925] [G loss: 4.694878] [Elapsed time: 357.78s]\n",
            "[Epoch 25/200] [D loss: 0.147997] [G loss: 2.623037] [Elapsed time: 371.85s]\n",
            "[Epoch 26/200] [D loss: 0.097325] [G loss: 2.946077] [Elapsed time: 386.36s]\n",
            "[Epoch 27/200] [D loss: 0.205090] [G loss: 4.296311] [Elapsed time: 400.57s]\n",
            "[Epoch 28/200] [D loss: 0.049005] [G loss: 5.919545] [Elapsed time: 414.36s]\n",
            "[Epoch 29/200] [D loss: 3.039774] [G loss: 13.492342] [Elapsed time: 428.89s]\n",
            "[Epoch 30/200] [D loss: 0.067113] [G loss: 2.853446] [Elapsed time: 443.79s]\n",
            "[Epoch 31/200] [D loss: 0.191761] [G loss: 3.105765] [Elapsed time: 457.95s]\n",
            "[Epoch 32/200] [D loss: 0.141423] [G loss: 2.469535] [Elapsed time: 471.96s]\n",
            "[Epoch 33/200] [D loss: 0.097303] [G loss: 2.226081] [Elapsed time: 485.90s]\n",
            "[Epoch 34/200] [D loss: 0.063614] [G loss: 3.540272] [Elapsed time: 500.08s]\n",
            "[Epoch 35/200] [D loss: 0.158653] [G loss: 1.822363] [Elapsed time: 514.32s]\n",
            "[Epoch 36/200] [D loss: 0.075912] [G loss: 2.991791] [Elapsed time: 528.57s]\n",
            "[Epoch 37/200] [D loss: 0.030585] [G loss: 4.666013] [Elapsed time: 542.33s]\n",
            "[Epoch 38/200] [D loss: 0.211738] [G loss: 2.987039] [Elapsed time: 556.73s]\n",
            "[Epoch 39/200] [D loss: 0.090581] [G loss: 4.426782] [Elapsed time: 570.63s]\n",
            "[Epoch 40/200] [D loss: 0.049283] [G loss: 3.451766] [Elapsed time: 585.06s]\n",
            "[Epoch 41/200] [D loss: 0.168959] [G loss: 3.365350] [Elapsed time: 599.09s]\n",
            "[Epoch 42/200] [D loss: 0.055633] [G loss: 3.116106] [Elapsed time: 613.63s]\n",
            "[Epoch 43/200] [D loss: 0.081555] [G loss: 4.972229] [Elapsed time: 627.88s]\n",
            "[Epoch 44/200] [D loss: 0.107015] [G loss: 4.608972] [Elapsed time: 641.69s]\n",
            "[Epoch 45/200] [D loss: 0.093549] [G loss: 3.470685] [Elapsed time: 656.27s]\n",
            "[Epoch 46/200] [D loss: 0.040654] [G loss: 4.167437] [Elapsed time: 670.29s]\n",
            "[Epoch 47/200] [D loss: 0.067234] [G loss: 4.105668] [Elapsed time: 684.37s]\n",
            "[Epoch 48/200] [D loss: 0.193317] [G loss: 4.751004] [Elapsed time: 698.28s]\n",
            "[Epoch 49/200] [D loss: 0.104301] [G loss: 3.192440] [Elapsed time: 712.30s]\n",
            "[Epoch 50/200] [D loss: 0.138632] [G loss: 2.988059] [Elapsed time: 726.25s]\n",
            "[Epoch 51/200] [D loss: 0.163484] [G loss: 4.701645] [Elapsed time: 740.59s]\n",
            "[Epoch 52/200] [D loss: 0.211467] [G loss: 1.915079] [Elapsed time: 754.83s]\n",
            "[Epoch 53/200] [D loss: 0.032364] [G loss: 6.920775] [Elapsed time: 769.31s]\n",
            "[Epoch 54/200] [D loss: 0.135302] [G loss: 3.067870] [Elapsed time: 783.61s]\n",
            "[Epoch 55/200] [D loss: 0.130398] [G loss: 5.209129] [Elapsed time: 797.33s]\n",
            "[Epoch 56/200] [D loss: 0.235790] [G loss: 5.278724] [Elapsed time: 811.48s]\n",
            "[Epoch 57/200] [D loss: 0.045859] [G loss: 3.403255] [Elapsed time: 825.54s]\n",
            "[Epoch 58/200] [D loss: 0.063515] [G loss: 4.804600] [Elapsed time: 839.19s]\n",
            "[Epoch 59/200] [D loss: 0.033467] [G loss: 3.569349] [Elapsed time: 853.37s]\n",
            "[Epoch 60/200] [D loss: 0.144997] [G loss: 3.207227] [Elapsed time: 867.60s]\n",
            "[Epoch 61/200] [D loss: 0.036432] [G loss: 3.991818] [Elapsed time: 881.62s]\n",
            "[Epoch 62/200] [D loss: 0.072093] [G loss: 3.450863] [Elapsed time: 895.77s]\n",
            "[Epoch 63/200] [D loss: 0.042299] [G loss: 4.151020] [Elapsed time: 909.89s]\n",
            "[Epoch 64/200] [D loss: 0.191555] [G loss: 4.481242] [Elapsed time: 923.89s]\n",
            "[Epoch 65/200] [D loss: 0.046976] [G loss: 3.281461] [Elapsed time: 938.14s]\n",
            "[Epoch 66/200] [D loss: 0.157537] [G loss: 4.302243] [Elapsed time: 952.55s]\n",
            "[Epoch 67/200] [D loss: 0.105616] [G loss: 3.489889] [Elapsed time: 966.54s]\n",
            "[Epoch 68/200] [D loss: 0.088697] [G loss: 4.909249] [Elapsed time: 980.85s]\n",
            "[Epoch 69/200] [D loss: 0.084548] [G loss: 2.747079] [Elapsed time: 994.79s]\n",
            "[Epoch 70/200] [D loss: 0.105164] [G loss: 4.200035] [Elapsed time: 1008.93s]\n",
            "[Epoch 71/200] [D loss: 0.169672] [G loss: 2.961955] [Elapsed time: 1022.98s]\n",
            "[Epoch 72/200] [D loss: 0.017534] [G loss: 4.261449] [Elapsed time: 1037.11s]\n",
            "[Epoch 73/200] [D loss: 0.205933] [G loss: 1.466237] [Elapsed time: 1050.83s]\n",
            "[Epoch 74/200] [D loss: 0.181587] [G loss: 2.550884] [Elapsed time: 1065.09s]\n",
            "[Epoch 75/200] [D loss: 0.189081] [G loss: 1.525171] [Elapsed time: 1079.47s]\n",
            "[Epoch 76/200] [D loss: 0.170224] [G loss: 4.031328] [Elapsed time: 1093.65s]\n",
            "[Epoch 77/200] [D loss: 0.210215] [G loss: 1.816445] [Elapsed time: 1107.68s]\n",
            "[Epoch 78/200] [D loss: 0.263621] [G loss: 1.674155] [Elapsed time: 1122.18s]\n",
            "[Epoch 79/200] [D loss: 0.085889] [G loss: 3.241511] [Elapsed time: 1136.09s]\n",
            "[Epoch 80/200] [D loss: 0.301190] [G loss: 2.394245] [Elapsed time: 1150.36s]\n",
            "[Epoch 81/200] [D loss: 0.128341] [G loss: 3.396279] [Elapsed time: 1164.71s]\n",
            "[Epoch 82/200] [D loss: 0.191707] [G loss: 2.869485] [Elapsed time: 1178.81s]\n",
            "[Epoch 83/200] [D loss: 0.123201] [G loss: 2.764148] [Elapsed time: 1192.81s]\n",
            "[Epoch 84/200] [D loss: 0.044546] [G loss: 6.066619] [Elapsed time: 1207.00s]\n",
            "[Epoch 85/200] [D loss: 0.224089] [G loss: 1.769315] [Elapsed time: 1221.24s]\n",
            "[Epoch 86/200] [D loss: 0.125998] [G loss: 2.424690] [Elapsed time: 1235.79s]\n",
            "[Epoch 87/200] [D loss: 0.257117] [G loss: 1.532984] [Elapsed time: 1250.00s]\n",
            "[Epoch 88/200] [D loss: 0.090517] [G loss: 3.309340] [Elapsed time: 1264.04s]\n",
            "[Epoch 89/200] [D loss: 0.171175] [G loss: 3.907306] [Elapsed time: 1278.22s]\n",
            "[Epoch 90/200] [D loss: 0.168205] [G loss: 2.541603] [Elapsed time: 1292.23s]\n",
            "[Epoch 91/200] [D loss: 0.415478] [G loss: 0.807221] [Elapsed time: 1306.15s]\n",
            "[Epoch 92/200] [D loss: 0.222719] [G loss: 5.097611] [Elapsed time: 1320.32s]\n",
            "[Epoch 93/200] [D loss: 0.065872] [G loss: 2.917621] [Elapsed time: 1334.55s]\n",
            "[Epoch 94/200] [D loss: 0.200377] [G loss: 3.596398] [Elapsed time: 1349.03s]\n",
            "[Epoch 95/200] [D loss: 0.413539] [G loss: 1.967691] [Elapsed time: 1363.17s]\n",
            "[Epoch 96/200] [D loss: 0.229722] [G loss: 1.654135] [Elapsed time: 1377.75s]\n",
            "[Epoch 97/200] [D loss: 0.187748] [G loss: 3.326653] [Elapsed time: 1391.98s]\n",
            "[Epoch 98/200] [D loss: 0.250217] [G loss: 3.498106] [Elapsed time: 1406.14s]\n",
            "[Epoch 99/200] [D loss: 0.071938] [G loss: 3.358513] [Elapsed time: 1420.34s]\n",
            "[Epoch 100/200] [D loss: 0.315330] [G loss: 3.291533] [Elapsed time: 1433.96s]\n",
            "[Epoch 101/200] [D loss: 0.274061] [G loss: 1.418579] [Elapsed time: 1448.00s]\n",
            "[Epoch 102/200] [D loss: 0.106627] [G loss: 3.502706] [Elapsed time: 1462.21s]\n",
            "[Epoch 103/200] [D loss: 0.086707] [G loss: 2.944184] [Elapsed time: 1476.08s]\n",
            "[Epoch 104/200] [D loss: 0.286308] [G loss: 1.633663] [Elapsed time: 1490.62s]\n",
            "[Epoch 105/200] [D loss: 0.383339] [G loss: 1.785617] [Elapsed time: 1504.78s]\n",
            "[Epoch 106/200] [D loss: 0.153502] [G loss: 2.274015] [Elapsed time: 1518.63s]\n",
            "[Epoch 107/200] [D loss: 0.071326] [G loss: 3.263655] [Elapsed time: 1532.88s]\n",
            "[Epoch 108/200] [D loss: 0.066765] [G loss: 4.009148] [Elapsed time: 1546.92s]\n",
            "[Epoch 109/200] [D loss: 0.174222] [G loss: 5.633485] [Elapsed time: 1560.80s]\n",
            "[Epoch 110/200] [D loss: 0.048926] [G loss: 4.407144] [Elapsed time: 1574.86s]\n",
            "[Epoch 111/200] [D loss: 0.145895] [G loss: 2.280872] [Elapsed time: 1589.18s]\n",
            "[Epoch 112/200] [D loss: 0.053878] [G loss: 3.833207] [Elapsed time: 1602.85s]\n",
            "[Epoch 113/200] [D loss: 0.089428] [G loss: 2.974336] [Elapsed time: 1616.87s]\n",
            "[Epoch 114/200] [D loss: 0.060831] [G loss: 4.322665] [Elapsed time: 1630.73s]\n",
            "[Epoch 115/200] [D loss: 0.116165] [G loss: 2.789042] [Elapsed time: 1644.71s]\n",
            "[Epoch 116/200] [D loss: 0.079149] [G loss: 4.856327] [Elapsed time: 1659.04s]\n",
            "[Epoch 117/200] [D loss: 0.150054] [G loss: 3.824501] [Elapsed time: 1673.54s]\n",
            "[Epoch 118/200] [D loss: 0.223480] [G loss: 3.520049] [Elapsed time: 1687.67s]\n",
            "[Epoch 119/200] [D loss: 0.112249] [G loss: 3.149460] [Elapsed time: 1702.19s]\n",
            "[Epoch 120/200] [D loss: 0.042854] [G loss: 3.803446] [Elapsed time: 1716.72s]\n",
            "[Epoch 121/200] [D loss: 0.149308] [G loss: 3.718749] [Elapsed time: 1730.79s]\n",
            "[Epoch 122/200] [D loss: 0.183937] [G loss: 4.126133] [Elapsed time: 1744.93s]\n",
            "[Epoch 123/200] [D loss: 0.235792] [G loss: 3.088817] [Elapsed time: 1758.81s]\n",
            "[Epoch 124/200] [D loss: 0.068913] [G loss: 3.624157] [Elapsed time: 1772.78s]\n",
            "[Epoch 125/200] [D loss: 0.135954] [G loss: 3.560077] [Elapsed time: 1786.69s]\n",
            "[Epoch 126/200] [D loss: 0.379730] [G loss: 2.913143] [Elapsed time: 1800.80s]\n",
            "[Epoch 127/200] [D loss: 0.133501] [G loss: 5.789097] [Elapsed time: 1815.09s]\n",
            "[Epoch 128/200] [D loss: 0.309985] [G loss: 4.953413] [Elapsed time: 1828.91s]\n",
            "[Epoch 129/200] [D loss: 0.261843] [G loss: 6.617579] [Elapsed time: 1842.97s]\n",
            "[Epoch 130/200] [D loss: 0.255948] [G loss: 3.763939] [Elapsed time: 1856.66s]\n",
            "[Epoch 131/200] [D loss: 0.185810] [G loss: 2.438904] [Elapsed time: 1871.22s]\n",
            "[Epoch 132/200] [D loss: 0.093917] [G loss: 3.691961] [Elapsed time: 1885.59s]\n",
            "[Epoch 133/200] [D loss: 0.628793] [G loss: 7.800147] [Elapsed time: 1899.49s]\n",
            "[Epoch 134/200] [D loss: 0.182042] [G loss: 3.037481] [Elapsed time: 1913.25s]\n",
            "[Epoch 135/200] [D loss: 0.202837] [G loss: 2.250508] [Elapsed time: 1927.17s]\n",
            "[Epoch 136/200] [D loss: 0.162933] [G loss: 3.666778] [Elapsed time: 1941.18s]\n",
            "[Epoch 137/200] [D loss: 0.200897] [G loss: 3.234807] [Elapsed time: 1955.14s]\n",
            "[Epoch 138/200] [D loss: 0.191355] [G loss: 3.124365] [Elapsed time: 1969.11s]\n",
            "[Epoch 139/200] [D loss: 0.346639] [G loss: 2.832288] [Elapsed time: 1983.40s]\n",
            "[Epoch 140/200] [D loss: 0.175804] [G loss: 2.732238] [Elapsed time: 1997.45s]\n",
            "[Epoch 141/200] [D loss: 0.102703] [G loss: 2.937870] [Elapsed time: 2011.73s]\n",
            "[Epoch 142/200] [D loss: 0.125220] [G loss: 3.047290] [Elapsed time: 2026.15s]\n",
            "[Epoch 143/200] [D loss: 0.254521] [G loss: 3.729692] [Elapsed time: 2040.00s]\n",
            "[Epoch 144/200] [D loss: 0.270499] [G loss: 2.384753] [Elapsed time: 2054.47s]\n",
            "[Epoch 145/200] [D loss: 0.294633] [G loss: 2.181049] [Elapsed time: 2068.42s]\n",
            "[Epoch 146/200] [D loss: 0.177180] [G loss: 2.044919] [Elapsed time: 2082.32s]\n",
            "[Epoch 147/200] [D loss: 0.056352] [G loss: 3.474565] [Elapsed time: 2096.29s]\n",
            "[Epoch 148/200] [D loss: 0.141344] [G loss: 1.978526] [Elapsed time: 2110.62s]\n",
            "[Epoch 149/200] [D loss: 0.120316] [G loss: 2.453007] [Elapsed time: 2124.73s]\n",
            "[Epoch 150/200] [D loss: 0.138787] [G loss: 2.114994] [Elapsed time: 2138.86s]\n",
            "[Epoch 151/200] [D loss: 0.286204] [G loss: 3.877319] [Elapsed time: 2152.94s]\n",
            "[Epoch 152/200] [D loss: 0.203801] [G loss: 3.630583] [Elapsed time: 2166.96s]\n",
            "[Epoch 153/200] [D loss: 0.074083] [G loss: 3.694077] [Elapsed time: 2181.11s]\n",
            "[Epoch 154/200] [D loss: 0.140657] [G loss: 2.875687] [Elapsed time: 2195.48s]\n",
            "[Epoch 155/200] [D loss: 0.157358] [G loss: 2.242649] [Elapsed time: 2209.58s]\n",
            "[Epoch 156/200] [D loss: 0.200039] [G loss: 2.878366] [Elapsed time: 2224.22s]\n",
            "[Epoch 157/200] [D loss: 0.325206] [G loss: 2.763648] [Elapsed time: 2238.28s]\n",
            "[Epoch 158/200] [D loss: 0.113586] [G loss: 4.866838] [Elapsed time: 2252.13s]\n",
            "[Epoch 159/200] [D loss: 0.252594] [G loss: 3.457329] [Elapsed time: 2266.20s]\n",
            "[Epoch 160/200] [D loss: 0.073561] [G loss: 2.482955] [Elapsed time: 2280.43s]\n",
            "[Epoch 161/200] [D loss: 0.245648] [G loss: 2.080934] [Elapsed time: 2294.87s]\n",
            "[Epoch 162/200] [D loss: 0.095687] [G loss: 2.422149] [Elapsed time: 2309.49s]\n",
            "[Epoch 163/200] [D loss: 0.187337] [G loss: 2.427534] [Elapsed time: 2323.50s]\n",
            "[Epoch 164/200] [D loss: 0.257954] [G loss: 3.781885] [Elapsed time: 2337.57s]\n",
            "[Epoch 165/200] [D loss: 0.432916] [G loss: 7.190818] [Elapsed time: 2351.79s]\n",
            "[Epoch 166/200] [D loss: 0.221108] [G loss: 2.897677] [Elapsed time: 2366.26s]\n",
            "[Epoch 167/200] [D loss: 0.092894] [G loss: 4.951985] [Elapsed time: 2380.21s]\n",
            "[Epoch 168/200] [D loss: 0.113605] [G loss: 3.088411] [Elapsed time: 2394.95s]\n",
            "[Epoch 169/200] [D loss: 0.224174] [G loss: 3.478052] [Elapsed time: 2409.36s]\n",
            "[Epoch 170/200] [D loss: 0.381373] [G loss: 4.609982] [Elapsed time: 2423.26s]\n",
            "[Epoch 171/200] [D loss: 0.271674] [G loss: 3.405561] [Elapsed time: 2437.54s]\n",
            "[Epoch 172/200] [D loss: 0.256950] [G loss: 2.007202] [Elapsed time: 2451.84s]\n",
            "[Epoch 173/200] [D loss: 0.407985] [G loss: 4.499944] [Elapsed time: 2465.98s]\n",
            "[Epoch 174/200] [D loss: 0.190228] [G loss: 4.008648] [Elapsed time: 2480.12s]\n",
            "[Epoch 175/200] [D loss: 0.128769] [G loss: 4.746367] [Elapsed time: 2494.61s]\n",
            "[Epoch 176/200] [D loss: 0.130729] [G loss: 2.741333] [Elapsed time: 2509.04s]\n",
            "[Epoch 177/200] [D loss: 0.147498] [G loss: 2.339512] [Elapsed time: 2523.38s]\n",
            "[Epoch 178/200] [D loss: 0.286283] [G loss: 3.510903] [Elapsed time: 2537.71s]\n",
            "[Epoch 179/200] [D loss: 0.162441] [G loss: 2.513192] [Elapsed time: 2551.83s]\n",
            "[Epoch 180/200] [D loss: 0.101355] [G loss: 6.710031] [Elapsed time: 2565.97s]\n",
            "[Epoch 181/200] [D loss: 0.160138] [G loss: 1.960122] [Elapsed time: 2580.97s]\n",
            "[Epoch 182/200] [D loss: 0.021202] [G loss: 4.239496] [Elapsed time: 2595.23s]\n",
            "[Epoch 183/200] [D loss: 0.150069] [G loss: 2.767830] [Elapsed time: 2609.29s]\n",
            "[Epoch 184/200] [D loss: 0.305992] [G loss: 3.022749] [Elapsed time: 2623.83s]\n",
            "[Epoch 185/200] [D loss: 0.154886] [G loss: 2.489990] [Elapsed time: 2637.73s]\n",
            "[Epoch 186/200] [D loss: 0.189738] [G loss: 2.579984] [Elapsed time: 2651.86s]\n",
            "[Epoch 187/200] [D loss: 0.092674] [G loss: 2.880884] [Elapsed time: 2666.22s]\n",
            "[Epoch 188/200] [D loss: 0.240747] [G loss: 2.788605] [Elapsed time: 2680.37s]\n",
            "[Epoch 189/200] [D loss: 0.202244] [G loss: 2.370766] [Elapsed time: 2694.83s]\n",
            "[Epoch 190/200] [D loss: 0.073636] [G loss: 3.369381] [Elapsed time: 2709.10s]\n",
            "[Epoch 191/200] [D loss: 0.060109] [G loss: 3.445685] [Elapsed time: 2723.15s]\n",
            "[Epoch 192/200] [D loss: 0.138614] [G loss: 3.958589] [Elapsed time: 2737.41s]\n",
            "[Epoch 193/200] [D loss: 0.044754] [G loss: 4.216989] [Elapsed time: 2751.42s]\n",
            "[Epoch 194/200] [D loss: 0.183014] [G loss: 3.495627] [Elapsed time: 2765.50s]\n",
            "[Epoch 195/200] [D loss: 0.072254] [G loss: 2.941065] [Elapsed time: 2779.85s]\n",
            "[Epoch 196/200] [D loss: 0.113577] [G loss: 4.764092] [Elapsed time: 2794.83s]\n",
            "[Epoch 197/200] [D loss: 0.088866] [G loss: 2.900314] [Elapsed time: 2808.97s]\n",
            "[Epoch 198/200] [D loss: 0.179538] [G loss: 2.701117] [Elapsed time: 2823.20s]\n",
            "[Epoch 199/200] [D loss: 0.041067] [G loss: 3.463143] [Elapsed time: 2837.76s]\n"
          ],
          "name": "stdout"
        }
      ]
    },
    {
      "cell_type": "markdown",
      "metadata": {
        "id": "dKhzqw6U8u-H"
      },
      "source": [
        "## Image\n",
        "|epoch 0| epoch 51 | epoch 100 | epoch 151 | epoch 198 |\n",
        "|---|---|---|---|---|\n",
        "| ![](https://github.com/happy-jihye/happy-jihye.github.io/blob/master/_posts/images/1_GAN_files/data0.png?raw=1) | ![](https://github.com/happy-jihye/happy-jihye.github.io/blob/master/_posts/images/1_GAN_files/data51.png?raw=1) | ![](https://github.com/happy-jihye/happy-jihye.github.io/blob/master/_posts/images/1_GAN_files/data100.png?raw=1) | ![](https://github.com/happy-jihye/happy-jihye.github.io/blob/master/_posts/images/1_GAN_files/data151.png?raw=1) | ![](https://github.com/happy-jihye/happy-jihye.github.io/blob/master/_posts/images/1_GAN_files/data198.png?raw=1) |"
      ]
    },
    {
      "cell_type": "markdown",
      "metadata": {
        "id": "xmNC98jPGQpW"
      },
      "source": [
        "![](/content/data0.png)"
      ]
    },
    {
      "cell_type": "markdown",
      "metadata": {
        "id": "svkidvK76R0k"
      },
      "source": [
        "## Reference\n",
        "- https://hyeongminlee.github.io/post/gan001_gan/"
      ]
    }
  ]
}